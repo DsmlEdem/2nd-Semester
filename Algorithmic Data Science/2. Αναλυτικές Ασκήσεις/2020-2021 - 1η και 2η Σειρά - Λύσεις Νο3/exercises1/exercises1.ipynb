{
 "cells": [
  {
   "cell_type": "markdown",
   "metadata": {},
   "source": [
    "# Algorithmic Data Science - Exercise Series 1\n",
    "\n",
    "**Konstantinos Papadakis**\n",
    "\n",
    "*Data Science and Machine Learning 03400149*\n",
    "\n",
    "*k.i.papadakis@gmail.com*"
   ]
  },
  {
   "cell_type": "markdown",
   "metadata": {},
   "source": [
    "## Exercise 1\n",
    "\n",
    "<img src=\"./images/exercise1.png\" width=\"600\">\n",
    "\n",
    "<!-- ![ex1](images/exercise1.png) -->"
   ]
  },
  {
   "cell_type": "markdown",
   "metadata": {},
   "source": [
    "### 6.3.1\n",
    "\n",
    "<img src=\"images/6-3-1.png\" width=\"600\">"
   ]
  },
  {
   "cell_type": "code",
   "execution_count": 1,
   "metadata": {},
   "outputs": [
    {
     "name": "stdout",
     "output_type": "stream",
     "text": [
      "Singleton Counts\n",
      "1: 4\n",
      "2: 6\n",
      "3: 8\n",
      "4: 8\n",
      "5: 6\n",
      "6: 4\n",
      "\n",
      "Pair Counts\n",
      "[[4 2 3 2 1 0]\n",
      " [2 6 3 4 2 1]\n",
      " [3 3 8 4 4 2]\n",
      " [2 4 4 8 3 3]\n",
      " [1 2 4 3 6 2]\n",
      " [0 1 2 3 2 4]]\n",
      "\n",
      "Hashes\n",
      "(1, 2): 2\n",
      "(1, 3): 3\n",
      "(1, 4): 4\n",
      "(1, 5): 5\n",
      "(1, 6): 6\n",
      "(2, 3): 6\n",
      "(2, 4): 8\n",
      "(2, 5): 10\n",
      "(2, 6): 1\n",
      "(3, 4): 1\n",
      "(3, 5): 4\n",
      "(3, 6): 7\n",
      "(4, 5): 9\n",
      "(4, 6): 2\n",
      "(5, 6): 8\n",
      "\n",
      "Frequent Buckets\n",
      "1 2 4 8\n",
      "\n",
      "PCY Second Pass Pairs\n",
      "(1, 2) (1, 4) (2, 4) (2, 6) (3, 4) (3, 5) (4, 6) (5, 6)\n"
     ]
    }
   ],
   "source": [
    "import itertools\n",
    "import collections\n",
    "from pprint import pprint\n",
    "\n",
    "import numpy as np\n",
    "\n",
    "baskets = np.array([\n",
    "    [1, 2, 3], [2, 3, 4], [3, 4, 5], [4, 5, 6],\n",
    "    [1, 3, 5], [2, 4, 6], [1, 3, 4], [2, 4, 5],\n",
    "    [3, 5, 6], [1, 2, 4], [2, 3, 5], [3, 4, 6],\n",
    "], dtype=int)\n",
    "threshold = 4\n",
    "n_buckets = 11\n",
    "\n",
    "def hash_(i, j):\n",
    "    return (i * j) % n_buckets\n",
    "\n",
    "\n",
    "# (a) Compute the supports \n",
    "item_names, item_freqs = np.unique(baskets, return_counts=True)\n",
    "\n",
    "pair_freqs = np.zeros((6, 6), dtype=int)\n",
    "for basket in baskets:\n",
    "    for x in basket:\n",
    "        for y in basket:\n",
    "            pair_freqs[x-1][y-1] += 1  # 0 based indexing, should be a triangular matrix normally\n",
    "\n",
    "print('Singleton Counts')\n",
    "for name, count in zip(item_names, item_freqs):\n",
    "    print(f'{name}: {count}')\n",
    "print()\n",
    "print('Pair Counts')\n",
    "print(pair_freqs)\n",
    "print()\n",
    "\n",
    "# (b) Hashes\n",
    "print('Hashes')\n",
    "for pair in itertools.combinations(item_names, 2):\n",
    "    print(f'{pair}: {hash_(*pair)}')\n",
    "print()\n",
    "\n",
    "# (c) Frequent bucket\n",
    "bucket_freqs = np.zeros(n_buckets, dtype=int)\n",
    "for basket in baskets:\n",
    "    for pair in itertools.combinations(basket, 2):\n",
    "        bucket_freqs[hash_(*pair)] += 1\n",
    "\n",
    "print('Frequent Buckets')\n",
    "print(*(bucket for bucket, freq in enumerate(bucket_freqs) if freq >= threshold))\n",
    "print()\n",
    "\n",
    "# (d) PCY second pass pairs\n",
    "pcy_freq_pairs = []\n",
    "for pair in itertools.combinations(item_names, 2):\n",
    "    if bucket_freqs[hash_(*pair)] >= threshold:\n",
    "        pcy_freq_pairs.append(pair)\n",
    "print('PCY Second Pass Pairs')\n",
    "print(*(pcy_freq_pairs))"
   ]
  },
  {
   "cell_type": "markdown",
   "metadata": {},
   "source": [
    "### 6.3.2\n",
    "\n",
    "<img src=\"images/6-3-2.png\" width=\"700\">"
   ]
  },
  {
   "cell_type": "code",
   "execution_count": 2,
   "metadata": {},
   "outputs": [
    {
     "name": "stdout",
     "output_type": "stream",
     "text": [
      "Second Pass Bucket Frequencies\n",
      "[0 5 5 0 6 0 0 0 6]\n",
      "\n",
      "Frequent Pairs after the Second Pass\n",
      "(1, 2) (1, 4) (2, 4) (2, 6) (3, 4) (3, 5) (4, 6) (5, 6)\n"
     ]
    }
   ],
   "source": [
    "def hash_2(i, j):\n",
    "    return (i * j) % n_buckets\n",
    "\n",
    "n_buckets_2 = 9\n",
    "bucket_freqs_2 = np.zeros(n_buckets_2, int)\n",
    "first_pass_candidates = set(pcy_freq_pairs)  # should be a bitmap normally\n",
    "\n",
    "# Stage 2\n",
    "for basket in baskets:\n",
    "    for pair in itertools.combinations(basket, 2):\n",
    "        if pair in first_pass_candidates:\n",
    "            bucket_freqs_2[hash_2(*pair)] += 1\n",
    "\n",
    "stage_2_pairs = []\n",
    "for pair in pcy_freq_pairs:\n",
    "    if bucket_freqs_2[hash_2(*pair)] >= threshold:\n",
    "        stage_2_pairs.append(pair)\n",
    "        \n",
    "print('Second Pass Bucket Frequencies')\n",
    "print(bucket_freqs_2)\n",
    "print()\n",
    "print('Frequent Pairs after the Second Pass')\n",
    "print(*stage_2_pairs)"
   ]
  },
  {
   "cell_type": "markdown",
   "metadata": {},
   "source": [
    "The second hashing didn't reduce the frequent pairs, which is quite unfortunate."
   ]
  },
  {
   "cell_type": "markdown",
   "metadata": {},
   "source": [
    "### 6.4.1\n",
    "\n",
    "<img src=\"images/6-4-1.png\" width=700>"
   ]
  },
  {
   "cell_type": "markdown",
   "metadata": {},
   "source": [
    "First of all, since the maximal frequent itemsets all have cardinality $\\leq 2$, any itemset of cardinality $>3$ can't be in the border, since we can remove one element and the result will still be infrequent.\n",
    "\n",
    "Also, the frequent singletons are $\\{A\\}, \\{B\\}, \\{C\\}, \\{D\\}, \\{E\\}$, and together with $\\{A, B\\}, \\{B, C\\}, \\{A, C\\}, \\{A, D\\}$ they make all the frequent itemsets.\n",
    "\n",
    "The singletons which are not frequent are in the border.\n",
    "\n",
    "$E$ along with any of the $A, B, C, D$ is in the border.\n",
    "\n",
    "And finally, from the union of pairs from $\\{A, B\\}, \\{B, C\\}, \\{A, C\\}, \\{A, D\\}$, only $\\{A, B, C\\}$ is in the border.\n",
    "\n",
    "**To summarize,** the border is:\n",
    "$\\{F\\}, \\{G\\}, \\{H\\}, \\{A, E\\}, \\{B, E\\}, \\{C, E\\}, \\{D, E\\}, \\{A, B, C\\}$.\n"
   ]
  },
  {
   "cell_type": "markdown",
   "metadata": {},
   "source": [
    "## Exercise 2\n",
    "\n",
    "<img src=\"images/exercise2.png\" width=700>"
   ]
  },
  {
   "cell_type": "markdown",
   "metadata": {},
   "source": [
    "### (a) Correctness of the A-Priori Algorithm\n",
    "\n",
    "In the A-Priori algorithm, \n",
    "\n",
    "* At first we count the frequencies of all singletons and drop any that are not frequent.\n",
    "\n",
    "* Using the result of the filtering, we construct all pairs, count their frequencies again, and drop the pairs that are not frequent.\n",
    "\n",
    "* Continuing in this manner, given the frequent itemsets of cardinality k, we construct itemsets of cardinality k+1.\n",
    "\n",
    "The algorithm produces correct results because all subsets of a frequent itemset are themselves frequent, meaning that we can construct any frequent itemset from its frequent subsets (the frequent itemsets of one size smaller are enough to achieve this).\n",
    "\n",
    "The A-Priori algorithm requires one pass everytime we increase the itemset cardinality, so that it can count the frequencies.\n",
    "\n",
    "### (b) Complexity of the A-Priori Algorithm\n",
    "\n",
    "Consider the extreme case where the threshold is set to 0, meaning that all itemsets are considered frequent. In that case, we are building all subsets of cardinality $K$ of a set of cardinality $N$, therefore the complexity is of the order $\\binom{N}{K}$ which is not polynomial neither in $N$ nor in $K$.\n"
   ]
  },
  {
   "cell_type": "markdown",
   "metadata": {},
   "source": [
    "### (c) (i) Correctness of the FP-Growth Algorithm\n",
    "\n",
    "The FP-Growth algorithm attempts to efficiently store the dataset in a Trie data structure. The items of each basket are inserted in the trie in decreasing order of their frequency, so that the chance of creating redundant paths in the Trie becomes smaller. Each node in the Trie also contains a pointer to the next node that contains the same key/item (\"next\" by order of insertion). Each node contains a value the number of times a path crossed it during insertion. A pointer to the first node for each item is stored, so that all Trie nodes containing that item value can be traversed as a Linked List. In a adition to that, each node contains a pointer to each parent so that we can traverse the trie from the bottom up.\n",
    "\n",
    "Using this Trie, the FP-Growth can generate all paths that end in a specific item. This is done by first accessing all nodes that contain that item (by traversing the linked list). Then we go up to their parents and propagate the value of the node, and more than two paths contribute to parent, then we add the values. We continue going up until we reach the root of the tree, pruning nodes when their value becomes infrequent.\n",
    "\n",
    "Now the result is paths from the root to nodes with the with the suffix item of interest. For each path we collect all subsets and the keep the minimum value of that subset. If the same subset was encountered in more than one paths, we add the values. This way we now have all frequent subsets that end in that item with their frequency being the node's value.  \n",
    "\n",
    "### (c) (ii) Complexity of the FP-Growth Algorithm\n",
    "\n",
    "In the extreme case where the resulting Trie is a full tree, then the algorithm will have to solve an exponentially large number of subproblem and then merge their result. Therefore it is exponential with respect to the input. If the output of the FP-Growth Algorithm is all frequent itemsets, then again due to a possible \"bad\" tree structure, the complexity can be exponential."
   ]
  },
  {
   "cell_type": "markdown",
   "metadata": {},
   "source": [
    "### (d) A-Priori and FP-Growth Examples"
   ]
  },
  {
   "cell_type": "code",
   "execution_count": 3,
   "metadata": {},
   "outputs": [
    {
     "name": "stdout",
     "output_type": "stream",
     "text": [
      "Singleton Frequencies: [('d', 9), ('a', 7), ('c', 7), ('b', 6)]\n",
      "\n",
      "Baskets:\n",
      "[['d', 'a', 'c'],\n",
      " ['d', 'a'],\n",
      " ['d', 'c', 'b'],\n",
      " ['d', 'b'],\n",
      " ['a', 'c'],\n",
      " ['d', 'a', 'c', 'b'],\n",
      " ['a', 'c'],\n",
      " ['d', 'a'],\n",
      " ['d', 'b'],\n",
      " ['d', 'a', 'b'],\n",
      " ['d', 'c'],\n",
      " ['c', 'b']]\n",
      "\n",
      "Pair Frequencies:\n",
      "[(('d', 'a'), 5),\n",
      " (('d', 'b'), 5),\n",
      " (('d', 'c'), 4),\n",
      " (('a', 'c'), 4),\n",
      " (('c', 'b'), 3),\n",
      " (('a', 'b'), 2)]\n"
     ]
    }
   ],
   "source": [
    "# Calculating the correct results \n",
    "baskets = [\n",
    "    ['a', 'c', 'd'],\n",
    "    ['a', 'd'],\n",
    "    ['b', 'c', 'd'],\n",
    "    ['b', 'd'],\n",
    "    ['a', 'c'],\n",
    "    ['a', 'b', 'c', 'd'],\n",
    "    ['a', 'c'],\n",
    "    ['a', 'd'],\n",
    "    ['b', 'd'],\n",
    "    ['a', 'b', 'd'],\n",
    "    ['c', 'd'],\n",
    "    ['b', 'c'],\n",
    "]\n",
    "\n",
    "freqs = collections.Counter(itertools.chain.from_iterable(baskets))\n",
    "for basket in baskets:\n",
    "    # Sort each basket by descending frequency for FP-Growth\n",
    "    basket.sort(key=freqs.get, reverse=True)\n",
    "    \n",
    "pair_freqs = collections.Counter()\n",
    "for basket in baskets:\n",
    "    pair_freqs.update(itertools.combinations(basket, 2))\n",
    "pair_freqs\n",
    "    \n",
    "print(f'Singleton Frequencies: {freqs.most_common()}')\n",
    "print()\n",
    "print('Baskets:') \n",
    "pprint(baskets)\n",
    "print()\n",
    "print('Pair Frequencies:')\n",
    "pprint(pair_freqs.most_common())"
   ]
  },
  {
   "cell_type": "markdown",
   "metadata": {},
   "source": [
    "#### A-Priori Example\n",
    "\n",
    "As we see above, the every singleton is frequent.\n",
    "Therefore we construct all possible pairs and count their frequencies.\n",
    "We then observe that only `('d', 'a'), ('d', 'b'), ('d', 'c'), ('a', 'c')` are frequent.\n",
    "Next, using only letters from the above pairs we construct triples and observe that none of it is frequent, and thus the algorithm stops.\n",
    "\n",
    "#### FP-Growth Example\n",
    "\n",
    "<img src='images/fp-growth_1.jpg' width=300>\n",
    "<br>\n",
    "<img src='images/fp-growth_2.jpg' width=300>"
   ]
  },
  {
   "cell_type": "markdown",
   "metadata": {},
   "source": [
    "### (e) Toivonen example"
   ]
  },
  {
   "cell_type": "code",
   "execution_count": 4,
   "metadata": {},
   "outputs": [
    {
     "name": "stdout",
     "output_type": "stream",
     "text": [
      "Sample:\n",
      "[['d', 'a', 'c'], ['d', 'a'], ['d', 'c', 'b']]\n",
      "\n",
      "Frequencies:\n",
      "[(('d',), 3), (('a',), 2), (('c',), 2), (('b',), 1)]\n",
      "[(('d', 'a'), 2),\n",
      " (('d', 'c'), 2),\n",
      " (('a', 'c'), 1),\n",
      " (('d', 'b'), 1),\n",
      " (('c', 'b'), 1)]\n",
      "[(('d', 'a', 'c'), 1), (('d', 'c', 'b'), 1)]\n",
      "\n",
      "All pairs and triples\n",
      "[('d', 'a'), ('d', 'c'), ('d', 'b'), ('a', 'c'), ('a', 'b'), ('c', 'b')]\n",
      "[('d', 'a', 'c'), ('d', 'a', 'b'), ('d', 'c', 'b'), ('a', 'c', 'b')]\n"
     ]
    }
   ],
   "source": [
    "def get_freqs(baskets, k):\n",
    "    freqs = collections.Counter()\n",
    "    for basket in baskets:\n",
    "        freqs.update(itertools.combinations(basket, k))\n",
    "    return freqs.most_common()\n",
    "\n",
    "\n",
    "sample = baskets[:3]\n",
    "print('Sample:')\n",
    "pprint(sample)\n",
    "print()\n",
    "print('Frequencies:')\n",
    "for k in range(1, 4):\n",
    "    pprint(get_freqs(sample, k))\n",
    "print()\n",
    "print('All pairs and triples')\n",
    "pprint(list(itertools.combinations('dacb', 2)))\n",
    "pprint(list(itertools.combinations('dacb', 3)))"
   ]
  },
  {
   "cell_type": "markdown",
   "metadata": {},
   "source": [
    "#### Case: threshold = 1\n",
    "Border: $\\{A, B\\}$\n",
    "\n",
    "The sample border point has frequency 2 > threshold = 1, so the algorithm fails."
   ]
  },
  {
   "cell_type": "code",
   "execution_count": 5,
   "metadata": {},
   "outputs": [
    {
     "name": "stdout",
     "output_type": "stream",
     "text": [
      "Freqs\n",
      "{frozenset({'d'}): 9,\n",
      " frozenset({'a'}): 7,\n",
      " frozenset({'c'}): 7,\n",
      " frozenset({'b'}): 6,\n",
      " frozenset({'a', 'd'}): 5,\n",
      " frozenset({'d', 'c'}): 4,\n",
      " frozenset({'a', 'c'}): 4,\n",
      " frozenset({'b', 'd'}): 5,\n",
      " frozenset({'b', 'c'}): 3,\n",
      " frozenset({'a', 'd', 'c'}): 2,\n",
      " frozenset({'b', 'd', 'c'}): 2}\n",
      "\n",
      "Border Freqs:\n",
      "{frozenset({'a', 'b'}): 2}\n"
     ]
    }
   ],
   "source": [
    "def toivonen(threshold, border):\n",
    "    itemsets = {}\n",
    "    for k in range(1, 4):\n",
    "        for t, freq in get_freqs(sample, k):\n",
    "            if freq >= threshold:\n",
    "                itemsets[frozenset(t)] = 0\n",
    "\n",
    "    for basket in map(set, baskets):\n",
    "        for counter in itemsets, border:\n",
    "            for itemset in counter:\n",
    "                if itemset <= basket:\n",
    "                    counter[itemset] += 1\n",
    "\n",
    "    print('Freqs')\n",
    "    pprint(itemsets)\n",
    "    print()\n",
    "    print('Border Freqs:')\n",
    "    pprint(border)\n",
    "\n",
    "\n",
    "threshold = 1\n",
    "border = {frozenset(['a', 'b']): 0}\n",
    "toivonen(threshold, border)"
   ]
  },
  {
   "cell_type": "markdown",
   "metadata": {},
   "source": [
    "#### Case: threshold = 2\n",
    "\n",
    "Border: $\\{B\\}, \\{D, A, C\\}$\n",
    "\n",
    "The sample border point $\\{B\\}$ has frequency 6 > threshold = 2, so the algorithm fails."
   ]
  },
  {
   "cell_type": "code",
   "execution_count": 6,
   "metadata": {},
   "outputs": [
    {
     "name": "stdout",
     "output_type": "stream",
     "text": [
      "Freqs\n",
      "{frozenset({'d'}): 9,\n",
      " frozenset({'a'}): 7,\n",
      " frozenset({'c'}): 7,\n",
      " frozenset({'a', 'd'}): 5,\n",
      " frozenset({'d', 'c'}): 4}\n",
      "\n",
      "Border Freqs:\n",
      "{frozenset({'b'}): 6, frozenset({'a', 'd', 'c'}): 2}\n"
     ]
    }
   ],
   "source": [
    "threshold = 2\n",
    "border = {frozenset(['b']): 0, frozenset(['d', 'a', 'c']): 0}\n",
    "toivonen(threshold, border)"
   ]
  },
  {
   "cell_type": "markdown",
   "metadata": {},
   "source": [
    "## Exercise 3\n",
    "\n",
    "<img src=\"images/exercise3.png\" width=\"700\">"
   ]
  },
  {
   "cell_type": "markdown",
   "metadata": {},
   "source": [
    "The algorithm that is going to be tested is **A fast APRIORI implementation** (fimi01). I tried to run all other algorithms in the website using Ubuntu OS, but I was either receiving various compilation errors, or segmentation errors, or the algorithm was running indefinitely producing multiple gigabyte files even when the thresholds were set extremely high.\n",
    "\n",
    "The datasets on which the algorithm is going to be tested are **kosarak**, **accidents** and **pumsb**.\n",
    "\n",
    "I used a modified version of [this shell script](http://www.cs.bme.hu/~bodon/en/apriori/test_running_time) to measure the times needed by the algorithm to find all itemsets given thresholds 90%, 80%, 70%, and 60%. \n",
    "\n",
    "The folowing image displays the times required by the algorithm. More detailed output is contained in the files `time_results.txt` and `console_output.txt`.\n",
    "\n",
    "\n"
   ]
  },
  {
   "cell_type": "code",
   "execution_count": 7,
   "metadata": {},
   "outputs": [
    {
     "data": {
      "image/png": "[encoded data removed]",
      "text/plain": [
       "<Figure size 432x288 with 1 Axes>"
      ]
     },
     "metadata": {
      "needs_background": "light"
     },
     "output_type": "display_data"
    }
   ],
   "source": [
    "import re\n",
    "import matplotlib.pyplot as plt\n",
    "\n",
    "\n",
    "with open('fimi/time_results.txt') as f:\n",
    "    text = f.read()\n",
    "\n",
    "dbs = re.split(r'-+', text)\n",
    "\n",
    "fig, ax = plt.subplots()\n",
    "\n",
    "for db in dbs:\n",
    "    match = re.search(r'(.*?) database', db)\n",
    "    if match is None:\n",
    "        continue\n",
    "    name = match.group(1)\n",
    "    supports, times = [], []\n",
    "    for match in re.finditer(r'minsupp: (\\d*\\.?\\d*)\\n(\\d*\\.?\\d*)', db):\n",
    "        supports.append(float(match.group(1)))\n",
    "        times.append(float(match.group(2)))\n",
    "    ax.plot(supports, times, label=name)\n",
    "\n",
    "ax.set_yscale('log')\n",
    "ax.invert_xaxis()\n",
    "ax.set_xlabel('Minimum Support')\n",
    "ax.set_ylabel('Time (seconds)')\n",
    "ax.set_title('FIMI01')\n",
    "ax.legend()\n",
    "plt.show()"
   ]
  },
  {
   "cell_type": "markdown",
   "metadata": {},
   "source": [
    "## Exercise 4\n",
    "\n",
    "<img src=\"images/exercise4.png\" width=\"600\">"
   ]
  },
  {
   "cell_type": "markdown",
   "metadata": {},
   "source": [
    "### 5.2.2\n",
    "\n",
    "<img src=\"images/5-2-2.png\" width=\"600\">"
   ]
  },
  {
   "cell_type": "markdown",
   "metadata": {},
   "source": [
    "<img src=\"images/figure-5-4.png\" width=\"300\">\n",
    "\n",
    "$$\n",
    "\\begin{pmatrix}\n",
    "    0   & 1/2 & 0 & 0   & 0 \\\\\n",
    "    1/3 & 0   & 0 & 1/2 & 0 \\\\\n",
    "    1/3 & 0   & 0 & 1/2 & 0 \\\\\n",
    "    1/3 & 1/2 & 0 & 0   & 0 \\\\\n",
    "    0   & 0   & 1 & 0   & 0 \\\\\n",
    "\\end{pmatrix}\n",
    "$$\n",
    "\n",
    "<img src=\"images/figure-5-7.png\" width=\"300\">\n",
    "\n",
    "$$\n",
    "\\begin{pmatrix}\n",
    "1/3 & 1/2 & 0   \\\\\n",
    "1/3 & 0   & 1/2 \\\\\n",
    "1/3 & 1/2 & 1/2 \\\\\n",
    "\\end{pmatrix}\n",
    "$$"
   ]
  },
  {
   "cell_type": "markdown",
   "metadata": {},
   "source": [
    "### 5.2.3\n",
    "\n",
    "<img src=\"images/5-2-3.png\" width=\"600\">"
   ]
  },
  {
   "cell_type": "markdown",
   "metadata": {},
   "source": [
    "<img src=\"images/figure-5-3.png\" width=\"300\">\n",
    "\n",
    "* $M_{11}: \\{A, B\\} \\to \\{A, B\\}$\n",
    "\n",
    "    <!-- | Source | Out-Degree | Destinations |\n",
    "    | --- | --- | --- |\n",
    "    | A | 3 | B |\n",
    "    | B | 2 | A | -->\n",
    "\n",
    "    <table>\n",
    "        <tr>\n",
    "            <th>Source</th>\n",
    "            <th>Out-Degree</th>\n",
    "            <th>Destinations</th>\n",
    "        </tr>\n",
    "        <tr>\n",
    "            <td>A</td>\n",
    "            <td>3</td>\n",
    "            <td>B</td>\n",
    "        </tr>\n",
    "        <tr>\n",
    "            <td>B</td>\n",
    "            <td>2</td>\n",
    "            <td>A</td>\n",
    "        </tr>\n",
    "    </table>\n",
    "\n",
    "    <br>\n",
    "    \n",
    "* $M_{12}: \\{A, B\\} \\to \\{C, D\\}$\n",
    "\n",
    "    <!-- | Source | Out-Degree | Destinations |\n",
    "    | --- | --- | --- |\n",
    "    | A | 3 | C, D |\n",
    "    | B | 2 | D | -->\n",
    "    <table>\n",
    "        <tr>\n",
    "            <th>Source</th>\n",
    "            <th>Out-Degree</th>\n",
    "            <th>Destinations</th>\n",
    "        </tr>\n",
    "        <tr>\n",
    "            <td>A</td>\n",
    "            <td>3</td>\n",
    "            <td>C, D</td>\n",
    "        </tr>\n",
    "        <tr>\n",
    "            <td>B</td>\n",
    "            <td>2</td>\n",
    "            <td>D</td>\n",
    "        </tr>\n",
    "    </table>\n",
    "\n",
    "    <br>\n",
    "\n",
    "* $M_{21}: \\{C, D\\} \\to \\{A, B\\}$\n",
    "\n",
    "    <!-- | Source | Out-Degree | Destinations |\n",
    "    | --- | --- | --- |\n",
    "    | C | 0 |  |\n",
    "    | D | 2 | B | -->\n",
    "    <table>\n",
    "        <tr>\n",
    "            <th>Source</th>\n",
    "            <th>Out-Degree</th>\n",
    "            <th>Destinations</th>\n",
    "        </tr>\n",
    "        <tr>\n",
    "            <td>C</td>\n",
    "            <td>0</td>\n",
    "            <td></td>\n",
    "        </tr>\n",
    "        <tr>\n",
    "            <td>D</td>\n",
    "            <td>2</td>\n",
    "            <td>B</td>\n",
    "        </tr>\n",
    "    </table>\n",
    "\n",
    "    <br>\n",
    "\n",
    "* $M_{22}: \\{C, D\\} \\to \\{C, D\\}$\n",
    "\n",
    "    <!-- | Source | Out-Degree | Destinations |\n",
    "    | --- | --- | --- |\n",
    "    | C | 0 |  |\n",
    "    | D | 2 | C | -->\n",
    "\n",
    "    <table>\n",
    "        <tr>\n",
    "            <th>Source</th>\n",
    "            <th>Out-Degree</th>\n",
    "            <th>Destinations</th>\n",
    "        </tr>\n",
    "        <tr>\n",
    "            <td>C</td>\n",
    "            <td>0</td>\n",
    "            <td></td>\n",
    "        </tr>\n",
    "        <tr>\n",
    "            <td>D</td>\n",
    "            <td>2</td>\n",
    "            <td>C</td>\n",
    "        </tr>\n",
    "    </table>"
   ]
  },
  {
   "cell_type": "markdown",
   "metadata": {},
   "source": [
    "### 5.3.1\n",
    "\n",
    "<img src=\"images/5-3-1.png\" width=\"600\">"
   ]
  },
  {
   "cell_type": "markdown",
   "metadata": {},
   "source": [
    "<img src=\"images/figure-5-15.png\" width=\"300\">"
   ]
  },
  {
   "cell_type": "code",
   "execution_count": 8,
   "metadata": {},
   "outputs": [
    {
     "name": "stdout",
     "output_type": "stream",
     "text": [
      "Topic: [1 0 0 0]\n",
      "Pageranks: [0.42857143 0.19047619 0.19047619 0.19047619]\n",
      "\n",
      "Topic: [1 0 1 0]\n",
      "Pageranks: [0.38571429 0.17142857 0.27142857 0.17142857]\n",
      "\n"
     ]
    }
   ],
   "source": [
    "def pagerank(transmat, topic=None, tax=0.2, n_iter=50):\n",
    "    \n",
    "    if topic is None:\n",
    "        # Simple pagerank\n",
    "        topic = np.ones(np.shape(transmat)[0])\n",
    "    \n",
    "    # Normalize\n",
    "    topic = topic / np.sum(topic) \n",
    "    transmat = transmat / np.sum(transmat, axis=0)\n",
    "    \n",
    "    # Uniform initial vector\n",
    "    v = np.ones(np.shape(transmat)[0])\n",
    "    v = v / np.sum(v)\n",
    "\n",
    "    taxed_transmat = (1 - tax) * transmat\n",
    "    teleport = tax * topic\n",
    "    for _ in range(n_iter):\n",
    "        v = taxed_transmat @ v + teleport\n",
    "        \n",
    "    return v\n",
    "\n",
    "\n",
    "transmat = np.array([\n",
    "    [0, 1, 1, 0],\n",
    "    [1, 0, 0, 1],\n",
    "    [1, 0, 0, 1],\n",
    "    [1, 1, 0, 0],\n",
    "])\n",
    "\n",
    "topics = [\n",
    "    np.array([1,0,0,0]),\n",
    "    np.array([1,0,1,0]),\n",
    "]\n",
    "\n",
    "for topic in topics:\n",
    "    ranks = pagerank(transmat, topic)\n",
    "    print(f'Topic: {topic}\\nPageranks: {ranks}\\n')"
   ]
  },
  {
   "cell_type": "markdown",
   "metadata": {},
   "source": [
    "### 5.4.2\n",
    "\n",
    "<img src=\"images/5-4-2.png\" width=\"600\">"
   ]
  },
  {
   "cell_type": "markdown",
   "metadata": {},
   "source": [
    "<img src=\"images/figure-5-1.png\" width=\"300\">"
   ]
  },
  {
   "cell_type": "code",
   "execution_count": 9,
   "metadata": {},
   "outputs": [
    {
     "name": "stdout",
     "output_type": "stream",
     "text": [
      "Pageranks:   [0.32142857 0.22619048 0.22619048 0.22619048]\n",
      "Trustranks:  [0.26938776 0.35782313 0.15782313 0.21496599]\n",
      "Spam Masses: [ 0.16190476 -0.58195489  0.30225564  0.04962406]\n"
     ]
    }
   ],
   "source": [
    "transmat = np.array([\n",
    "    [0, 1, 1, 0],\n",
    "    [1, 0, 0, 1],\n",
    "    [1, 0, 0, 1],\n",
    "    [1, 1, 0, 0],\n",
    "])\n",
    "\n",
    "trusted = np.array([0,1,0,0])\n",
    "\n",
    "simple_ranks = pagerank(transmat, topic=None)\n",
    "trusted_ranks = pagerank(transmat, topic=trusted)\n",
    "spam_masses = (simple_ranks - trusted_ranks) / simple_ranks\n",
    "\n",
    "print(f'Pageranks:   {simple_ranks}')\n",
    "print(f'Trustranks:  {trusted_ranks}')\n",
    "print(f'Spam Masses: {spam_masses}')"
   ]
  },
  {
   "cell_type": "markdown",
   "metadata": {},
   "source": [
    "## Exercise 5\n",
    "\n",
    "<img src=\"images/exercise5.png\" width=\"600\">"
   ]
  },
  {
   "cell_type": "markdown",
   "metadata": {},
   "source": [
    "### 7.2.2\n",
    "\n",
    "<img src=\"images/7-2-2.png\" width=\"600\">"
   ]
  },
  {
   "cell_type": "markdown",
   "metadata": {},
   "source": [
    "<img src=\"images/figure-7-2.png\" width=\"400\">"
   ]
  },
  {
   "cell_type": "code",
   "execution_count": 10,
   "metadata": {},
   "outputs": [],
   "source": [
    "class Node:\n",
    "    \n",
    "    def __init__(self, val=None, left=None, right=None):\n",
    "        self.val = val\n",
    "        self.left = left\n",
    "        self.right = right\n",
    "        self.mapping = None\n",
    "                \n",
    "    def gather_leaves(self):\n",
    "        leaves = []\n",
    "        \n",
    "        def dfs(node):\n",
    "            if node is None:\n",
    "                return\n",
    "            if node.val is not None:\n",
    "                leaves.append(node.val)\n",
    "            dfs(node.left)\n",
    "            dfs(node.right)\n",
    "            \n",
    "        dfs(self)\n",
    "        return leaves\n",
    "\n",
    "    def _display_aux(self, mapping=None):\n",
    "        \"\"\"Returns list of strings, width, height, and horizontal coordinate of the root.\"\"\"\n",
    "        # Credit for this method: https://stackoverflow.com/a/54074933/17386164\n",
    "        val = self.val\n",
    "        if val is None:\n",
    "            val = '*'\n",
    "        else:\n",
    "            if mapping is not None:\n",
    "                val = mapping[val]\n",
    "        \n",
    "        # No child.\n",
    "        if self.right is None and self.left is None:\n",
    "            line = '%s' % val\n",
    "            width = len(line)\n",
    "            height = 1\n",
    "            middle = width // 2\n",
    "            return [line], width, height, middle\n",
    "\n",
    "        # Only left child.\n",
    "        if self.right is None:\n",
    "            lines, n, p, x = self.left._display_aux(mapping=mapping)\n",
    "            s = '%s' % val\n",
    "            u = len(s)\n",
    "            first_line = (x + 1) * ' ' + (n - x - 1) * '_' + s\n",
    "            second_line = x * ' ' + '/' + (n - x - 1 + u) * ' '\n",
    "            shifted_lines = [line + u * ' ' for line in lines]\n",
    "            return [first_line, second_line] + shifted_lines, n + u, p + 2, n + u // 2\n",
    "\n",
    "        # Only right child.\n",
    "        if self.left is None:\n",
    "            lines, n, p, x = self.right._display_aux(mapping=mapping)\n",
    "            s = '%s' % val\n",
    "            u = len(s)\n",
    "            first_line = s + x * '_' + (n - x) * ' '\n",
    "            second_line = (u + x) * ' ' + '\\\\' + (n - x - 1) * ' '\n",
    "            shifted_lines = [u * ' ' + line for line in lines]\n",
    "            return [first_line, second_line] + shifted_lines, n + u, p + 2, u // 2\n",
    "\n",
    "        # Two children.\n",
    "        left, n, p, x = self.left._display_aux(mapping=mapping)\n",
    "        right, m, q, y = self.right._display_aux(mapping=mapping)\n",
    "        s = '%s' % val\n",
    "        u = len(s)\n",
    "        first_line = (x + 1) * ' ' + (n - x - 1) * '_' + s + y * '_' + (m - y) * ' '\n",
    "        second_line = x * ' ' + '/' + (n - x - 1 + u + y) * ' ' + '\\\\' + (m - y - 1) * ' '\n",
    "        if p < q:\n",
    "            left += [n * ' '] * (q - p)\n",
    "        elif q < p:\n",
    "            right += [m * ' '] * (p - q)\n",
    "        zipped_lines = zip(left, right)\n",
    "        lines = [first_line, second_line] + [a + u * ' ' + b for a, b in zipped_lines]\n",
    "        return lines, n + m + u, max(p, q) + 2, n + u // 2\n",
    "    \n",
    "    def display(self, mapping=None):\n",
    "        # Credit for this method: https://stackoverflow.com/a/54074933/17386164\n",
    "        lines, *_ = self._display_aux(mapping=mapping)\n",
    "        for line in lines:\n",
    "            print(line)\n",
    "\n",
    "\n",
    "def l2_square(u, v):\n",
    "    return np.sum((u - v)**2)\n",
    " \n",
    "\n",
    "def min_distance(cluster1, cluster2):\n",
    "    pairs = itertools.product(cluster1, cluster2)\n",
    "    return min(itertools.starmap(l2_square, pairs))\n",
    "\n",
    " \n",
    "def average_distance(cluster1, cluster2):\n",
    "    pairs = itertools.product(cluster1, cluster2)\n",
    "    return sum(itertools.starmap(l2_square, pairs)) / (len(cluster1) * len(cluster2))\n",
    "\n",
    "\n",
    "def resulting_diameter(cluster1, cluster2):\n",
    "    merged = itertools.chain(cluster1, cluster2)\n",
    "    pairs = itertools.combinations(merged, 2)\n",
    "    return max(itertools.starmap(l2_square, pairs))\n",
    "\n",
    "\n",
    "def resulting_radius(cluster1, cluster2):\n",
    "    merged = np.vstack([np.asarray(cluster1), np.asarray(cluster2)])\n",
    "    center = np.mean(merged, axis=0)\n",
    "    centered = merged - center\n",
    "    dists = np.sum(centered**2, axis=1)\n",
    "    return np.min(dists)\n",
    "\n",
    "\n",
    "def hierarchical_clustering(data, distance_func):\n",
    "    # Simple implementation. No heaps.\n",
    "    \n",
    "    n_samples = len(data)\n",
    "    cluster_roots = [Node(val=idx) for idx in range(n_samples)]\n",
    "\n",
    "    while len(cluster_roots) > 1:\n",
    "        min_dist = float('+Infinity')\n",
    "        min_dist_pair = None, None\n",
    "        for i in range(len(cluster_roots) - 1):  # O(n^2)\n",
    "            for j in range(i+1, len(cluster_roots)):\n",
    "                a = cluster_roots[i].gather_leaves()  # O(n)\n",
    "                b = cluster_roots[j].gather_leaves()\n",
    "                d = distance_func(data[a], data[b])\n",
    "                if d < min_dist:\n",
    "                    min_dist = d\n",
    "                    min_dist_pair = i, j\n",
    "        \n",
    "        left_idx, right_idx = min_dist_pair\n",
    "        merged = Node(\n",
    "            left=cluster_roots[left_idx],\n",
    "            right=cluster_roots[right_idx]\n",
    "        )\n",
    "        # Order matters here\n",
    "        del cluster_roots[right_idx]  # O(n)\n",
    "        del cluster_roots[left_idx]  \n",
    "        cluster_roots.append(merged)\n",
    "    \n",
    "    return cluster_roots[0]\n",
    "\n",
    "\n",
    "data = np.array([\n",
    "    [4, 10],\n",
    "    [7, 10],\n",
    "    [4, 8],\n",
    "    [6, 8],\n",
    "    [3, 4],\n",
    "    [10, 5],\n",
    "    [12, 6],\n",
    "    [2, 2],\n",
    "    [5, 2],\n",
    "    [9, 3],\n",
    "    [11, 4],\n",
    "    [12, 3],\n",
    "])\n"
   ]
  },
  {
   "cell_type": "code",
   "execution_count": 11,
   "metadata": {},
   "outputs": [
    {
     "name": "stdout",
     "output_type": "stream",
     "text": [
      "MINIMUM DISTANCE\n",
      "      _______________________________*___________________________                  \n",
      "     /                                                           \\                 \n",
      "   __*_______                                 ___________________*_____            \n",
      "  /          \\                               /                         \\           \n",
      "[9 3]     ___*_______                     ___*_____                  __*_____      \n",
      "         /           \\                   /         \\                /        \\     \n",
      "      [12  6]     ___*_______         [ 7 10]    __*_______       [5 2]    __*__   \n",
      "                 /           \\                  /          \\              /     \\  \n",
      "              [12  3]     ___*___             [6 8]     ___*__          [3 4] [2 2]\n",
      "                         /       \\                     /      \\                    \n",
      "                      [10  5] [11  4]               [ 4 10] [4 8]                  \n",
      "\n",
      "\n",
      "\n",
      "AVERAGE DISTANCE\n",
      "      _______________________________*_________________                            \n",
      "     /                                                 \\                           \n",
      "   __*_______                               ___________*_____________              \n",
      "  /          \\                             /                         \\             \n",
      "[9 3]     ___*_______                    __*_____               _____*_______      \n",
      "         /           \\                  /        \\             /             \\     \n",
      "      [12  3]     ___*_______         [5 2]    __*__        ___*__        ___*__   \n",
      "                 /           \\                /     \\      /      \\      /      \\  \n",
      "              [12  6]     ___*___           [3 4] [2 2] [ 4 10] [4 8] [ 7 10] [6 8]\n",
      "                         /       \\                                                 \n",
      "                      [10  5] [11  4]                                              \n"
     ]
    }
   ],
   "source": [
    "print('MINIMUM DISTANCE')\n",
    "md = hierarchical_clustering(data, min_distance)\n",
    "md.display(mapping=data)\n",
    "\n",
    "print('\\n\\n')\n",
    "\n",
    "print('AVERAGE DISTANCE')\n",
    "ad = hierarchical_clustering(data, average_distance)\n",
    "ad.display(mapping=data)"
   ]
  },
  {
   "cell_type": "markdown",
   "metadata": {},
   "source": [
    "### 7.2.3\n",
    "\n",
    "<img src=\"images/7-2-3.png\" width=\"600\">"
   ]
  },
  {
   "cell_type": "code",
   "execution_count": 12,
   "metadata": {},
   "outputs": [
    {
     "name": "stdout",
     "output_type": "stream",
     "text": [
      "SMALLEST RADIUS\n",
      "      _____________*_____                                                          \n",
      "     /                   \\                                                         \n",
      "   __*_______          __*_____                                                    \n",
      "  /          \\        /        \\                                                   \n",
      "[3 4]     ___*__    [2 2]    __*_______                                            \n",
      "         /      \\           /          \\                                           \n",
      "      [ 4 10] [4 8]       [5 2]     ___*_____                                      \n",
      "                                   /         \\                                     \n",
      "                                [ 7 10]    __*_______                              \n",
      "                                          /          \\                             \n",
      "                                        [9 3]     ___*_____                        \n",
      "                                                 /         \\                       \n",
      "                                              [12  6]    __*_______                \n",
      "                                                        /          \\               \n",
      "                                                      [6 8]     ___*_______        \n",
      "                                                               /           \\       \n",
      "                                                            [12  3]     ___*___    \n",
      "                                                                       /       \\   \n",
      "                                                                    [10  5] [11  4]\n",
      "\n",
      "\n",
      "\n",
      "SMALLEST DIAMETER\n",
      "                        _____________*_________________                            \n",
      "                       /                               \\                           \n",
      "        _______________*_____               ___________*_____________              \n",
      "       /                     \\             /                         \\             \n",
      "    ___*_______            __*___        __*_____               _____*_______      \n",
      "   /           \\          /      \\      /        \\             /             \\     \n",
      "[12  6]     ___*___     [9 3] [12  3] [5 2]    __*__        ___*__        ___*__   \n",
      "           /       \\                          /     \\      /      \\      /      \\  \n",
      "        [10  5] [11  4]                     [3 4] [2 2] [ 4 10] [4 8] [ 7 10] [6 8]\n"
     ]
    }
   ],
   "source": [
    "print('SMALLEST RADIUS')\n",
    "sr = hierarchical_clustering(data, resulting_radius)\n",
    "sr.display(mapping=data)\n",
    "\n",
    "print('\\n\\n')\n",
    "\n",
    "print('SMALLEST DIAMETER')\n",
    "ad = hierarchical_clustering(data, resulting_diameter)\n",
    "ad.display(mapping=data)"
   ]
  },
  {
   "cell_type": "markdown",
   "metadata": {},
   "source": [
    "### 7.3.2 (Incomplete)\n",
    "\n",
    "<img src=\"images/7-3-2.png\" width=\"700\">\n",
    "\n"
   ]
  },
  {
   "cell_type": "markdown",
   "metadata": {},
   "source": [
    "<img src=\"images/figure-7-8.png\" width=\"400\">"
   ]
  },
  {
   "cell_type": "code",
   "execution_count": 13,
   "metadata": {},
   "outputs": [
    {
     "name": "stdout",
     "output_type": "stream",
     "text": [
      "Cluster Diameters:\n",
      "13\n",
      "9\n",
      "18\n",
      "Intercluster Distances:\n",
      "17\n",
      "25\n",
      "17\n"
     ]
    }
   ],
   "source": [
    "clusters = [\n",
    "    np.array([\n",
    "        [4, 10],\n",
    "        [7, 10],\n",
    "        [4, 8],\n",
    "        [6, 8],\n",
    "    ]),\n",
    "    np.array([\n",
    "        [3, 4],\n",
    "        [2, 2],\n",
    "        [5, 2],\n",
    "    ]),\n",
    "    np.array([\n",
    "        [10, 5],\n",
    "        [12, 6],\n",
    "        [9, 3],\n",
    "        [11, 4],\n",
    "        [12, 3],\n",
    "    ]),\n",
    "]\n",
    "\n",
    "def get_diameter(cluster):\n",
    "    pairs = itertools.combinations(cluster, 2)\n",
    "    d = max(itertools.starmap(l2_square, pairs))\n",
    "    return d\n",
    "\n",
    "def get_intercluster_distance(cluster1, cluster2):\n",
    "    pairs = itertools.product(cluster1, cluster2)\n",
    "    d = min(itertools.starmap(l2_square, pairs))\n",
    "    return d\n",
    "\n",
    "print('Cluster Diameters:')\n",
    "for cluster in clusters:\n",
    "    d = get_diameter(cluster)\n",
    "    print(d)\n",
    "print('Intercluster Distances:')\n",
    "for cluster1, cluster2 in itertools.combinations(clusters, 2):\n",
    "    d = get_intercluster_distance(cluster1, cluster2)\n",
    "    print(d)"
   ]
  },
  {
   "cell_type": "markdown",
   "metadata": {},
   "source": [
    "**Theorem**:\n",
    "\n",
    "If the minimum intercluster distance is greater than all cluster diameters (or the average diameter? or at least k-1 diameters?), then every visit is in a new cluster.\n",
    "\n",
    "*Proof*\n",
    "\n",
    "?"
   ]
  },
  {
   "cell_type": "markdown",
   "metadata": {},
   "source": [
    "## Exercise 7.4.1\n",
    "\n",
    "<img src=\"images/7-4-1.png\" width=400>\n"
   ]
  },
  {
   "cell_type": "markdown",
   "metadata": {},
   "source": [
    "The minimum possible distance between representatives is $0.8 \\cdot (i - c)$ while the maximum is $0.8 \\cdot (o + c)$.\n",
    "\n",
    "Therefore, if we have $0.8 \\cdot (o + c) \\leq d$ then we always merge.\n",
    "\n",
    "If we have many representatives, then the event \"that there exist a representative of the disk and a representative of the ring such that `common_centroid`, `repr_disk`, `repr_ring` are approximately collinear\" is essentially certain, and in that case we would almost always merge when $0.8 \\cdot (i - c) \\leq d + \\varepsilon$ for some small $\\varepsilon$."
   ]
  }
 ],
 "metadata": {
  "interpreter": {
   "hash": "e041891ed649f90b053430d712131357e023b3fd6426175b0a0cce39c82a1da9"
  },
  "kernelspec": {
   "display_name": "Python 3.9.12 ('torchenv')",
   "language": "python",
   "name": "python3"
  },
  "language_info": {
   "codemirror_mode": {
    "name": "ipython",
    "version": 3
   },
   "file_extension": ".py",
   "mimetype": "text/x-python",
   "name": "python",
   "nbconvert_exporter": "python",
   "pygments_lexer": "ipython3",
   "version": "3.9.12"
  },
  "orig_nbformat": 4
 },
 "nbformat": 4,
 "nbformat_minor": 2
}
