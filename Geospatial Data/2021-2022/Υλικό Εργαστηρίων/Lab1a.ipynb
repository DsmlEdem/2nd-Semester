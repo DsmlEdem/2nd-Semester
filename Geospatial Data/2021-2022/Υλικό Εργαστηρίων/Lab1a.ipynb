{
  "cells": [
    {
      "cell_type": "markdown",
      "metadata": {},
      "source": [
        "[![Open In Colab](https://colab.research.google.com/assets/colab-badge.svg)](https://colab.research.google.com/github/rslab-ntua/MSc_GBDA/blob/master/2022/Lab1a.ipynb)"
      ]
    },
    {
      "cell_type": "code",
      "execution_count": 7,
      "metadata": {
        "id": "yOB2D_gSN9YU"
      },
      "outputs": [],
      "source": [
        "# Download data, unzip\n",
        "!gdown https://drive.google.com/uc?id=1XxBBah4J3wmSAMFq8lBFc06vGWFiy1TZ\n",
        "!unzip GBDA2020_ML1.zip"
      ]
    },
    {
      "cell_type": "code",
      "execution_count": null,
      "metadata": {
        "colab": {
          "base_uri": "https://localhost:8080/"
        },
        "id": "ibzWqWd_PAOT",
        "outputId": "837ab5c6-97fc-4bb3-e2a2-1be80e4064b4"
      },
      "outputs": [],
      "source": [
        "# Install dependencies\n",
        "!pip install rasterio"
      ]
    },
    {
      "cell_type": "code",
      "execution_count": null,
      "metadata": {
        "colab": {
          "base_uri": "https://localhost:8080/",
          "height": 599
        },
        "id": "y4Ig976FN7Aa",
        "outputId": "775fecd9-6572-4607-befc-c242b2418d34"
      },
      "outputs": [],
      "source": [
        "import rasterio\n",
        "import os\n",
        "import numpy as np\n",
        "import matplotlib.pyplot as plt\n",
        "%matplotlib inline\n",
        "\n",
        "DATA_ROOT = \"partA/\"\n",
        "\n",
        "# Read data\n",
        "with rasterio.open(os.path.join(DATA_ROOT, \"green.tif\")) as dataset:\n",
        "    green = dataset.read(1).astype(np.float32)\n",
        "with rasterio.open(os.path.join(DATA_ROOT, \"nir.tif\")) as dataset:\n",
        "    nir = dataset.read(1).astype(np.float32)\n",
        "with rasterio.open(os.path.join(DATA_ROOT, \"gt.tif\")) as dataset:\n",
        "    gt = dataset.read(1).astype(int)\n",
        "\n",
        "print(f\"Groundtruth \\tmax: {gt.min()}, min: {gt.max()}, dtype: {gt.dtype}, classes: {np.unique(gt)}\")\n",
        "print(f\"Green channel \\tmax: {gt.min()}, min: {gt.max()}, dtype: {gt.dtype}\")\n",
        "print(f\"NIR channel \\tmax: {gt.min()}, min: {gt.max()}, dtype: {gt.dtype}\")\n",
        "\n",
        "plt.figure(dpi=300)\n",
        "plt.subplot(1, 3, 1)\n",
        "plt.title(\"GREEN\")\n",
        "plt.imshow(green, cmap=\"gray\")\n",
        "plt.axis('off')\n",
        "plt.subplot(1, 3, 2)\n",
        "plt.title(\"NIR\")\n",
        "plt.imshow(nir, cmap=\"gray\")\n",
        "plt.axis('off')\n",
        "plt.subplot(1, 3, 3)\n",
        "plt.title(\"GroundTruth\")\n",
        "plt.imshow(gt, cmap=\"gray\")\n",
        "plt.axis('off')\n",
        "plt.show()\n"
      ]
    },
    {
      "cell_type": "code",
      "execution_count": null,
      "metadata": {
        "colab": {
          "base_uri": "https://localhost:8080/",
          "height": 710
        },
        "id": "CKosa18ePRkl",
        "outputId": "b376702c-0fc9-4b9f-f032-8d1c643e57fe"
      },
      "outputs": [],
      "source": [
        "# Classic Remote Sensing approach\n",
        "# Compute NDWI\n",
        "ndwi = (green-nir)/(green+nir)\n",
        "\n",
        "# Threshold\n",
        "ndwi_h = ndwi >= 0.3\n",
        "\n",
        "print(f\"NDWI \\tmax: {ndwi.min()}, min: {ndwi.max()}, mean: {ndwi.mean()} dtype: {ndwi.dtype}\")\n",
        "\n",
        "\n",
        "plt.figure(dpi=300)\n",
        "plt.subplot(1, 2, 1)\n",
        "plt.title(\"NDWI\")\n",
        "plt.imshow(ndwi, cmap=\"gray\")\n",
        "plt.axis('off')\n",
        "plt.subplot(1, 2, 2)\n",
        "plt.title(\"Thresholded\")\n",
        "plt.imshow(ndwi_h, cmap=\"gray\")\n",
        "plt.axis('off')\n",
        "plt.show()"
      ]
    },
    {
      "cell_type": "code",
      "execution_count": null,
      "metadata": {
        "colab": {
          "base_uri": "https://localhost:8080/"
        },
        "id": "NHvU7bEbPW0d",
        "outputId": "a1cb4448-4cc5-4559-dc95-1b92e87b0004"
      },
      "outputs": [],
      "source": [
        "from sklearn.model_selection import train_test_split\n",
        "# Generate dataset, splits\n",
        "\n",
        "X = np.stack([green, nir], axis=-1).reshape(-1, 2)\n",
        "y = (gt / gt.max()).reshape(-1)\n",
        "\n",
        "# Train/test split\n",
        "X_train, X_test, y_train, y_test = train_test_split(X, y, train_size=0.7)\n",
        "\n",
        "print(f\"X: {X.shape}, y: {y.shape}\")\n",
        "print(f\"X_train: {X_train.shape}, y_train: {y_train.shape}\")\n",
        "print(f\"X_test: {X_test.shape}, y: {y_test.shape}\")"
      ]
    },
    {
      "cell_type": "code",
      "execution_count": null,
      "metadata": {
        "colab": {
          "base_uri": "https://localhost:8080/"
        },
        "id": "-MZozacJPZ7Z",
        "outputId": "5724b419-c36f-4f88-aaef-de1248a21caa"
      },
      "outputs": [],
      "source": [
        "from sklearn.ensemble import RandomForestClassifier\n",
        "from sklearn.metrics import accuracy_score, precision_score, recall_score, f1_score\n",
        "\n",
        "# Classic ML methods\n",
        "\n",
        "clf = RandomForestClassifier(max_depth=2)\n",
        "clf.fit(X_train, y_train)\n",
        "\n",
        "predictions = clf.predict(X_test)\n",
        "\n",
        "tp = (predictions[predictions==1] == y_test[predictions==1]).sum()\n",
        "fp = (predictions[predictions==1] != y_test[predictions==1]).sum()\n",
        "fn = (predictions[predictions==0] != y_test[predictions==0]).sum()\n",
        "tn = (predictions[predictions==0] == y_test[predictions==0]).sum()\n",
        "print(tp, fp, fn, tn)\n",
        "\n",
        "acc = (tp+tn)/(tp+fp+fn+tn)\n",
        "pre = tp/(tp+fp)\n",
        "rec = tp/(tp+fn)\n",
        "f1 = 2*(pre*rec) / (pre+rec)\n",
        "\n",
        "\n",
        "\n",
        "print(\"Accuracy: \", acc, accuracy_score(y_test, predictions))\n",
        "print(\"Precision: \", pre, precision_score(y_test, predictions))\n",
        "print(\"Recall: \", rec, recall_score(y_test, predictions))\n",
        "print(\"F1-score: \", f1, f1_score(y_test, predictions))"
      ]
    },
    {
      "cell_type": "code",
      "execution_count": null,
      "metadata": {
        "colab": {
          "base_uri": "https://localhost:8080/"
        },
        "id": "rFATW1X-QBrc",
        "outputId": "6f798ca1-f54b-4e9d-d468-24744cf96a37"
      },
      "outputs": [],
      "source": [
        "from sklearn.linear_model import Perceptron\n",
        "\n",
        "clf = Perceptron(tol=1e-3, random_state=0)\n",
        "clf.fit(X_train, y_train)\n",
        "\n",
        "predictions = clf.predict(X_test)\n",
        "print(\"Accuracy: \", accuracy_score(y_test, predictions))\n",
        "\n",
        "print(clf.coef_, clf.coef_.shape)\n",
        "print(clf.intercept_, clf.intercept_.shape)"
      ]
    },
    {
      "cell_type": "code",
      "execution_count": null,
      "metadata": {
        "colab": {
          "base_uri": "https://localhost:8080/"
        },
        "id": "MIgpiI13QDg3",
        "outputId": "9e7a3863-d724-4066-9493-bcdf7cd4cdb1"
      },
      "outputs": [],
      "source": [
        "# Perceptron with Pytorch\n",
        "import torch\n",
        "from torch import nn\n",
        "\n",
        "class Perceptron(nn.Module):\n",
        "    def __init__(self, in_features: int):\n",
        "        super().__init__()\n",
        "        self.W = torch.normal(mean=in_features, std=in_features, size=(1,2), requires_grad=True).type(torch.float32)\n",
        "        self.b = torch.normal(mean=0.0, std=1.0, size= (), requires_grad=True).type(torch.float32)\n",
        "    \n",
        "    def forward(self, x: torch.Tensor) -> torch.Tensor:\n",
        "        print(x.type(), self.W.type())\n",
        "        return torch.sigmoid(x @ self.W.T + self.b)\n",
        "\n",
        "\n",
        "pp = Perceptron(2)\n",
        "# Set manually weights and biases\n",
        "pp.W = torch.from_numpy(clf.coef_).type(torch.float32)\n",
        "pp.b = torch.from_numpy(clf.intercept_).type(torch.float32)\n",
        "\n",
        "predictions = pp(torch.from_numpy(X_test)) > 0.5\n",
        "print(predictions.size())\n",
        "print(\"Accuracy: \", accuracy_score(y_test, predictions.flatten()))\n",
        "\n",
        "\n",
        "pp2 = nn.Sequential(nn.Linear(2,1), nn.Sigmoid())\n",
        "for p in pp2.parameters():\n",
        "    if p.data.size() == (1, 2):\n",
        "        p.data = torch.from_numpy(clf.coef_).type(torch.float32)\n",
        "    else:\n",
        "        p.data = torch.from_numpy(clf.intercept_).type(torch.float32)\n",
        "\n",
        "predictions = pp2(torch.from_numpy(X_test)) > 0.5\n",
        "print(predictions.size())\n",
        "print(\"Accuracy: \", accuracy_score(y_test, predictions.flatten()))"
      ]
    }
  ],
  "metadata": {
    "colab": {
      "collapsed_sections": [],
      "name": "Untitled6.ipynb",
      "provenance": []
    },
    "kernelspec": {
      "display_name": "Python 3",
      "name": "python3"
    },
    "language_info": {
      "name": "python"
    }
  },
  "nbformat": 4,
  "nbformat_minor": 0
}
