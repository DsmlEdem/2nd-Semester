{
  "cells": [
    {
      "cell_type": "markdown",
      "metadata": {},
      "source": [
        "[![Open In Colab](https://colab.research.google.com/assets/colab-badge.svg)](https://colab.research.google.com/github/rslab-ntua/MSc_GBDA/blob/master/2022/Lab1b_lightning.ipynb)"
      ]
    },
    {
      "cell_type": "code",
      "execution_count": 1,
      "metadata": {
        "id": "CMRdOpPWIL4U"
      },
      "outputs": [],
      "source": [
        "# Download data, unzip\n",
        "!gdown https://drive.google.com/uc?id=1XxBBah4J3wmSAMFq8lBFc06vGWFiy1TZ\n",
        "!unzip GBDA2020_ML1.zip"
      ]
    },
    {
      "cell_type": "code",
      "execution_count": null,
      "metadata": {},
      "outputs": [],
      "source": [
        "%pip install pytorch-lightning"
      ]
    },
    {
      "cell_type": "code",
      "execution_count": 2,
      "metadata": {
        "id": "Lj_WYum8Hsqu"
      },
      "outputs": [],
      "source": [
        "# Read data\n",
        "DATA_ROOT = \"/labs/lab1/data/partB\"\n",
        "\n",
        "CLASS_NAMES = [\n",
        "    \"Alfalfa\",\n",
        "    \"Corn-notill\",\n",
        "    \"Corn-mintill\",\n",
        "    \"Corn\",\n",
        "    \"Grass-pasture\",\n",
        "    \"Grass-trees\",\n",
        "    \"Grass-pasture-mown\",\n",
        "    \"Hay-windrowed\",\n",
        "    \"Oats\",\n",
        "    \"Soybean-notill\",\n",
        "    \"Soybean-mintill\",\n",
        "    \"Soybean-clean\",\n",
        "    \"Wheat\",\n",
        "    \"Woods\",\n",
        "    \"Buildings-Grass-Trees-Drives\",\n",
        "    \"Stone-Steel-Towers\"\n",
        "]"
      ]
    },
    {
      "cell_type": "markdown",
      "metadata": {
        "id": "QLn2j5DNHsq3"
      },
      "source": [
        "## Handle data. Datasets and DataLoaders"
      ]
    },
    {
      "cell_type": "code",
      "execution_count": 3,
      "metadata": {
        "id": "mwsLR-MTHsq8"
      },
      "outputs": [],
      "source": [
        "from torch.utils.data import Dataset, DataLoader, random_split\n",
        "import torch\n",
        "from sklearn.preprocessing import StandardScaler\n",
        "import numpy as np\n",
        "import os\n",
        "from copy import copy\n",
        "\n",
        "class IndianPinesDataset(Dataset):    \n",
        "    def __init__(self, data_root, transforms=[]):\n",
        "        '''\n",
        "        Dataset constructor\n",
        "        '''\n",
        "        super().__init__()\n",
        "        self.transforms: list = copy(transforms)\n",
        "        self._build(data_root)\n",
        "        \n",
        "    def _build(self, data_root) -> None:\n",
        "        '''\n",
        "        Helper method to retrieve all samples\n",
        "        '''\n",
        "        img = np.load(os.path.join(data_root, \"indianpinearray.npy\"))\n",
        "        gt_img = np.load(os.path.join(data_root, \"IPgt.npy\"))\n",
        "        \n",
        "        valid_mask = gt_img > 0\n",
        "\n",
        "        self.X = img[valid_mask].reshape(-1, 200).astype(np.float32)\n",
        "        self.y = gt_img[valid_mask].reshape(-1).astype(int) - 1 # \"-1\" is to compensate for \"no_data\" class \"0\" in original_data\n",
        "    \n",
        "    def apply_std_scaler(self, indices):\n",
        "        '''\n",
        "        Perform std scaling normalization given a list of indices to compute the transform\n",
        "        '''\n",
        "        scaler = StandardScaler()\n",
        "        scaler.fit(self.X[np.array(indices)])\n",
        "        self.X = scaler.transform(self.X)\n",
        "        \n",
        "    def __getitem__(self, index):\n",
        "        '''\n",
        "        Method to retrieve samples\n",
        "        '''\n",
        "        X, y = self.X[index], self.y[index]\n",
        "        for T in self.transforms:\n",
        "            X, y = T(X, y)\n",
        "        return X, y\n",
        "    \n",
        "    def __len__(self) -> int:\n",
        "        '''\n",
        "        Return the total number of samples in dataset\n",
        "        '''\n",
        "        return len(self.X)\n",
        "        \n"
      ]
    },
    {
      "cell_type": "code",
      "execution_count": null,
      "metadata": {
        "id": "_y48LcvZHsrB"
      },
      "outputs": [],
      "source": [
        "# Initialize a dataset instance\n",
        "dset = IndianPinesDataset(DATA_ROOT)\n",
        "print(\"Samples in dataset: \", len(dset))\n",
        "\n",
        "\n",
        "# Split data into train (70%) and validation (30%) sets\n",
        "train_dset, val_dset = random_split(dset, [int(0.7*len(dset)), len(dset)-int(0.7*len(dset))], generator=torch.Generator().manual_seed(2022))\n",
        "\n",
        "# Use only train dset to compute a std scale normalization transform. Apply for both train and validation sets\n",
        "print(\"Max value for the first sample in 'val' (before scaling): \", val_dset[0][0].max())\n",
        "dset.apply_std_scaler(train_dset.indices)\n",
        "print(\"Max value for the first sample in 'val' (after scaling)\\t: \", val_dset[0][0].max())\n",
        "\n",
        "\n",
        "#  Initialize dataloaders (batching / tensor-casting / shuffling / etc.)\n",
        "BATCH_SIZE = 64\n",
        "train_dloader = DataLoader(train_dset, batch_size=BATCH_SIZE, shuffle=True, num_workers=24)\n",
        "val_dloader = DataLoader(val_dset, batch_size=BATCH_SIZE, shuffle=False, num_workers=24)\n",
        "\n",
        "# Inspect a single batch returned form train dataloader\n",
        "for s in train_dloader:\n",
        "    X, y = s\n",
        "    print(f\"Sample's X type: {type(X)}, dtype: {X.dtype}, shape: {X.size()}\")\n",
        "    print(f\"Sample's y type: {type(y)}, dtype: {y.dtype}, shape: {y.size()}\")\n",
        "    break"
      ]
    },
    {
      "cell_type": "markdown",
      "metadata": {
        "id": "yiMcHKBKHsrG"
      },
      "source": [
        "## Define a MLP model"
      ]
    },
    {
      "cell_type": "code",
      "execution_count": null,
      "metadata": {
        "id": "7YWc7pBJHsrI"
      },
      "outputs": [],
      "source": [
        "\n",
        "import pytorch_lightning as pl\n",
        "import torch.nn.functional as F\n",
        "import torch\n",
        "from torch import nn\n",
        "from torch.optim import Adam\n",
        "from torchmetrics import Accuracy\n",
        "\n",
        "class MLP(pl.LightningModule):\n",
        "    def __init__(self, in_features: int, num_classes: int):\n",
        "        '''\n",
        "        Model constructor (includes MLP's architecture, metrics)\n",
        "        '''\n",
        "        super().__init__()\n",
        "        \n",
        "        self.model = nn.Sequential(\n",
        "            nn.Linear(in_features, 512),\n",
        "            nn.ReLU(),\n",
        "            nn.Dropout(p=0.5),\n",
        "            nn.Linear(512, 256),\n",
        "            nn.ReLU(),\n",
        "            nn.Linear(256, 256),\n",
        "            nn.ReLU(),\n",
        "            nn.Linear(256, num_classes)\n",
        "        )\n",
        "\n",
        "        self.val_acc = Accuracy()\n",
        "        \n",
        "    def forward(self, x: torch.Tensor) -> torch.Tensor:\n",
        "        '''\n",
        "        Forward-pass\n",
        "        '''\n",
        "        return self.model(x)\n",
        "\n",
        "    def training_step(self, batch, batch_idx):\n",
        "        '''\n",
        "        Training logic\n",
        "        '''\n",
        "        X, y = batch\n",
        "\n",
        "        preds = self.model(X)\n",
        "\n",
        "        loss = F.nll_loss(torch.log_softmax(preds, dim=-1), y)\n",
        "\n",
        "        l1_normalization = torch.norm(self.model[0].weight.data, p=1)\n",
        "        composite_loss = loss + 0.01*l1_normalization\n",
        "        \n",
        "        #  Log to selected logger (def: Tensorboard)\n",
        "        self.log(\"loss/train\", loss, on_epoch=True, on_step=False)\n",
        "        self.log(\"normalization_loss/train\", l1_normalization, on_epoch=True, on_step=False)\n",
        "        self.log(\"composite_loss/train\", composite_loss, on_epoch=True, on_step=False)\n",
        "        \n",
        "        return composite_loss\n",
        "    \n",
        "    def configure_optimizers(self):\n",
        "        '''\n",
        "        Select an optimization algorithm + parameters (learning rate, ...)\n",
        "        '''\n",
        "        return Adam(self.parameters(), lr=1e-4)\n",
        "\n",
        "    def validation_step(self, batch, batch_idx):\n",
        "        '''\n",
        "        Validation logic\n",
        "        '''\n",
        "        X, y = batch\n",
        "\n",
        "        # Predict with model\n",
        "        preds = self.model(X)\n",
        "\n",
        "        # Compute *interesting* metrics\n",
        "        loss = F.nll_loss(torch.log_softmax(preds, dim=-1), y)\n",
        "        self.log(\"loss/val\", loss, on_epoch=True, on_step=False)\n",
        "\n",
        "        self.val_acc.update(preds, y)\n",
        "        self.log(\"accuracy/val\", self.val_acc, on_epoch=True, on_step=False)\n",
        "\n",
        "model = MLP(200, 16)\n",
        "print(\"MLP's output shape: \", model(next(iter(val_dloader))[0]).size())"
      ]
    },
    {
      "cell_type": "markdown",
      "metadata": {
        "id": "qlJ9zOPMHsrM"
      },
      "source": [
        "\n",
        "\n",
        "## Training "
      ]
    },
    {
      "cell_type": "code",
      "execution_count": null,
      "metadata": {
        "id": "MHBqdLW_HsrN"
      },
      "outputs": [],
      "source": [
        "from pytorch_lightning.callbacks.early_stopping import EarlyStopping\n",
        "from pytorch_lightning.callbacks.model_checkpoint import ModelCheckpoint\n",
        "\n",
        "callbacks = [\n",
        "    EarlyStopping(\"accuracy/val\", patience=3, mode='max'),\n",
        "    ModelCheckpoint(monitor=\"accuracy/val\", save_last=True, save_top_k=2)]\n",
        "\n",
        "# Define a Trainer instance and train/validate the model\n",
        "trainer = pl.Trainer(\n",
        "    accelerator=\"gpu\",\n",
        "    devices=1,\n",
        "    min_epochs=50,\n",
        "    max_epochs=1000,\n",
        "    check_val_every_n_epoch=2,\n",
        "    callbacks=callbacks)\n",
        "\n",
        "trainer.fit(model, train_dataloaders=train_dloader, val_dataloaders=val_dloader)\n"
      ]
    },
    {
      "cell_type": "code",
      "execution_count": null,
      "metadata": {},
      "outputs": [],
      "source": [
        "%load_ext tensorboard\n",
        "%tensorboard --logdir lightning_logs"
      ]
    }
  ],
  "metadata": {
    "accelerator": "GPU",
    "colab": {
      "collapsed_sections": [],
      "name": "partB_torch.ipynb",
      "private_outputs": true,
      "provenance": []
    },
    "interpreter": {
      "hash": "d4d1e4263499bec80672ea0156c357c1ee493ec2b1c70f0acce89fc37c4a6abe"
    },
    "kernelspec": {
      "display_name": "Python 3.8.12 ('base')",
      "language": "python",
      "name": "python3"
    },
    "language_info": {
      "codemirror_mode": {
        "name": "ipython",
        "version": 3
      },
      "file_extension": ".py",
      "mimetype": "text/x-python",
      "name": "python",
      "nbconvert_exporter": "python",
      "pygments_lexer": "ipython3",
      "version": "3.8.12"
    },
    "orig_nbformat": 4
  },
  "nbformat": 4,
  "nbformat_minor": 0
}
