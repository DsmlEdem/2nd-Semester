{
  "nbformat": 4,
  "nbformat_minor": 0,
  "metadata": {
    "colab": {
      "name": "Nikos_Stamatis_Data_Driven_3rd_Assignment.ipynb",
      "provenance": [],
      "toc_visible": true
    },
    "kernelspec": {
      "name": "python3",
      "display_name": "Python 3"
    },
    "language_info": {
      "name": "python"
    }
  },
  "cells": [
    {
      "cell_type": "markdown",
      "metadata": {
        "id": "nAm1R_-HGfrm"
      },
      "source": [
        "\n",
        "\n",
        "**3rd Assignment - Extreme Driving Detection**\n",
        "\n",
        "---\n",
        "\n",
        "Nikos Stamatis\n",
        "\n",
        "MSc Student  \n",
        "\n",
        "Graduate Programme in Data Science and Machine Learning  \n",
        "\n",
        "SN: 03400115\n",
        " "
      ]
    },
    {
      "cell_type": "code",
      "metadata": {
        "colab": {
          "base_uri": "https://localhost:8080/"
        },
        "id": "87wzfGHP1biM",
        "outputId": "ad3d8933-a857-493a-a0b3-89fff0dbfb1d"
      },
      "source": [
        "from sklearn.cluster import DBSCAN\n",
        "from sklearn.covariance import EllipticEnvelope\n",
        "from sklearn.neighbors import LocalOutlierFactor\n",
        "\n",
        "from scipy.spatial import distance\n",
        "\n",
        "import numpy as np\n",
        "import pandas as pd\n",
        "import seaborn as sns\n",
        "import matplotlib.pyplot as plt\n",
        "\n",
        "from google.colab import files\n",
        "from google.colab import drive\n",
        "import os\n",
        "import pickle\n",
        " \n",
        "drive.mount('/content/drive/')"
      ],
      "execution_count": null,
      "outputs": [
        {
          "output_type": "stream",
          "text": [
            "Mounted at /content/drive/\n"
          ],
          "name": "stdout"
        }
      ]
    },
    {
      "cell_type": "code",
      "metadata": {
        "colab": {
          "base_uri": "https://localhost:8080/",
          "height": 404
        },
        "id": "tufprpLW1v_I",
        "outputId": "26da0a23-15f9-401f-b827-f7ef03ac49c3"
      },
      "source": [
        "df = pd.read_csv(\"/content/drive/My Drive/all_LAT_uns.csv\", delim_whitespace=False)\n",
        "data = df.copy()\n",
        "data"
      ],
      "execution_count": null,
      "outputs": [
        {
          "output_type": "execute_result",
          "data": {
            "text/html": [
              "<div>\n",
              "<style scoped>\n",
              "    .dataframe tbody tr th:only-of-type {\n",
              "        vertical-align: middle;\n",
              "    }\n",
              "\n",
              "    .dataframe tbody tr th {\n",
              "        vertical-align: top;\n",
              "    }\n",
              "\n",
              "    .dataframe thead th {\n",
              "        text-align: right;\n",
              "    }\n",
              "</style>\n",
              "<table border=\"1\" class=\"dataframe\">\n",
              "  <thead>\n",
              "    <tr style=\"text-align: right;\">\n",
              "      <th></th>\n",
              "      <th>NewAccelX</th>\n",
              "      <th>NewAccelY</th>\n",
              "      <th>NewAccelZ</th>\n",
              "      <th>NewRotRateX</th>\n",
              "      <th>NewRotRateY</th>\n",
              "      <th>NewRotRateZ</th>\n",
              "      <th>locationSpeed</th>\n",
              "    </tr>\n",
              "  </thead>\n",
              "  <tbody>\n",
              "    <tr>\n",
              "      <th>0</th>\n",
              "      <td>0.001</td>\n",
              "      <td>-0.002</td>\n",
              "      <td>-0.007</td>\n",
              "      <td>0.002</td>\n",
              "      <td>-0.001</td>\n",
              "      <td>0.000</td>\n",
              "      <td>0.0</td>\n",
              "    </tr>\n",
              "    <tr>\n",
              "      <th>1</th>\n",
              "      <td>0.007</td>\n",
              "      <td>0.000</td>\n",
              "      <td>0.011</td>\n",
              "      <td>-0.001</td>\n",
              "      <td>0.001</td>\n",
              "      <td>0.000</td>\n",
              "      <td>0.0</td>\n",
              "    </tr>\n",
              "    <tr>\n",
              "      <th>2</th>\n",
              "      <td>0.008</td>\n",
              "      <td>0.004</td>\n",
              "      <td>0.015</td>\n",
              "      <td>0.000</td>\n",
              "      <td>0.000</td>\n",
              "      <td>-0.001</td>\n",
              "      <td>0.0</td>\n",
              "    </tr>\n",
              "    <tr>\n",
              "      <th>3</th>\n",
              "      <td>0.008</td>\n",
              "      <td>0.002</td>\n",
              "      <td>0.004</td>\n",
              "      <td>0.002</td>\n",
              "      <td>-0.001</td>\n",
              "      <td>-0.001</td>\n",
              "      <td>0.0</td>\n",
              "    </tr>\n",
              "    <tr>\n",
              "      <th>4</th>\n",
              "      <td>0.009</td>\n",
              "      <td>0.001</td>\n",
              "      <td>0.026</td>\n",
              "      <td>-0.002</td>\n",
              "      <td>-0.001</td>\n",
              "      <td>0.002</td>\n",
              "      <td>0.0</td>\n",
              "    </tr>\n",
              "    <tr>\n",
              "      <th>...</th>\n",
              "      <td>...</td>\n",
              "      <td>...</td>\n",
              "      <td>...</td>\n",
              "      <td>...</td>\n",
              "      <td>...</td>\n",
              "      <td>...</td>\n",
              "      <td>...</td>\n",
              "    </tr>\n",
              "    <tr>\n",
              "      <th>103886</th>\n",
              "      <td>0.009</td>\n",
              "      <td>-0.001</td>\n",
              "      <td>-0.018</td>\n",
              "      <td>-0.022</td>\n",
              "      <td>0.011</td>\n",
              "      <td>0.004</td>\n",
              "      <td>0.0</td>\n",
              "    </tr>\n",
              "    <tr>\n",
              "      <th>103887</th>\n",
              "      <td>-0.014</td>\n",
              "      <td>-0.067</td>\n",
              "      <td>-0.021</td>\n",
              "      <td>0.058</td>\n",
              "      <td>-0.048</td>\n",
              "      <td>-0.001</td>\n",
              "      <td>0.0</td>\n",
              "    </tr>\n",
              "    <tr>\n",
              "      <th>103888</th>\n",
              "      <td>-0.005</td>\n",
              "      <td>0.022</td>\n",
              "      <td>-0.006</td>\n",
              "      <td>-0.003</td>\n",
              "      <td>0.022</td>\n",
              "      <td>0.001</td>\n",
              "      <td>0.0</td>\n",
              "    </tr>\n",
              "    <tr>\n",
              "      <th>103889</th>\n",
              "      <td>0.022</td>\n",
              "      <td>-0.009</td>\n",
              "      <td>-0.003</td>\n",
              "      <td>-0.008</td>\n",
              "      <td>-0.006</td>\n",
              "      <td>0.003</td>\n",
              "      <td>0.0</td>\n",
              "    </tr>\n",
              "    <tr>\n",
              "      <th>103890</th>\n",
              "      <td>0.002</td>\n",
              "      <td>0.007</td>\n",
              "      <td>-0.014</td>\n",
              "      <td>-0.034</td>\n",
              "      <td>0.013</td>\n",
              "      <td>0.013</td>\n",
              "      <td>0.0</td>\n",
              "    </tr>\n",
              "  </tbody>\n",
              "</table>\n",
              "<p>103891 rows × 7 columns</p>\n",
              "</div>"
            ],
            "text/plain": [
              "        NewAccelX  NewAccelY  ...  NewRotRateZ  locationSpeed\n",
              "0           0.001     -0.002  ...        0.000            0.0\n",
              "1           0.007      0.000  ...        0.000            0.0\n",
              "2           0.008      0.004  ...       -0.001            0.0\n",
              "3           0.008      0.002  ...       -0.001            0.0\n",
              "4           0.009      0.001  ...        0.002            0.0\n",
              "...           ...        ...  ...          ...            ...\n",
              "103886      0.009     -0.001  ...        0.004            0.0\n",
              "103887     -0.014     -0.067  ...       -0.001            0.0\n",
              "103888     -0.005      0.022  ...        0.001            0.0\n",
              "103889      0.022     -0.009  ...        0.003            0.0\n",
              "103890      0.002      0.007  ...        0.013            0.0\n",
              "\n",
              "[103891 rows x 7 columns]"
            ]
          },
          "metadata": {
            "tags": []
          },
          "execution_count": 2
        }
      ]
    },
    {
      "cell_type": "markdown",
      "metadata": {
        "id": "A4pxCUVBHdc4"
      },
      "source": [
        "# Introduction\n",
        "\n",
        "The purpose of this assignment is to detect extreme vehicle turning movements, based on data obtained from the driver's smartphone sensors. The dataset contains 103891 entries and consists of 7 different features:\n",
        "\n",
        "The features *NewAccelX*, *NewAccelY* and *NewAccelZ* describe the accelerations on the x, y, and z axes respectively, the y axis being the direction of the vehicle's motion.\n",
        "\n",
        "The features *NewRotRateX*,\t*NewRotRateY*\tand *NewRotRateZ* correspond to the pitch, roll and yaw, measuring the angular acceleration with respect to the x, y, and z axes respectively.  \n",
        "\n",
        "There is an additional feature *locationSpeed* which probably  measures the vehicle's speed. \n",
        "\n",
        "To approach the problem, we apply three outlier detecting algorithms, the DBSCAN, the Elliptic Envelope and the Local Outlier Factor methods. \n",
        "\n"
      ]
    },
    {
      "cell_type": "markdown",
      "metadata": {
        "id": "4znpvEFV14JR"
      },
      "source": [
        "## DBSCAN"
      ]
    },
    {
      "cell_type": "markdown",
      "metadata": {
        "id": "u7XdLiXs2IvU"
      },
      "source": [
        "The DBSCAN algorithm is a popular clustering algorithm that can be used for outlier detection. It has the advantage of not having to specify in advance the number of clusters, useful when the researcher does not possess a prior knowledge about them. However, it does include two parameters which must be chosen carefully, namely the MinPts and EPS.  A third and more subtle parameter is the underlying metric. \n",
        "\n",
        "The main concept of the algorithm is to partition the data points into three different sets: The *core points*, the *border points* and the *noise points*. \n",
        " A point $x$ is a *core point* when the ball $B(x, \\text{EPS})$ contains at least MinPts points. A point $x$ is a *border point* when the ball $B(x, \\text{EPS})$ contains less than MinPts, but at least one core point. All the remaining points are *noise points*.\n",
        "\n",
        "The output of the algorithm is the clusters it found, plus another \"cluster\" which contains the noise points. We expect to find our outliers in the latter group. Note however that collective outliers might themselves form a regular cluster, for example all sudden turning movements may exhibit similar characteristics among them. For this reason,  we initially treat all   clusters as candidates of containing   extreme movements of the same type, and establish whether this is indeed the case by examining their characteristics separately. \n",
        "\n",
        "In our setting, we picked the MinPts according to the heuristic rule $\\text{MinPts} = 2D = 14$ and $\\text{EPS}=\\sqrt{0.5}$. For our metric we chose the Mahalanobis distance, induced by the inner product $\\langle x, y\\rangle = \\sqrt{x'A^{-1}y}$, where $A$ is a symmetric and positive definite matrix. By picking  a diagonal matrix $A=\\text{diag}(a_1, \\ldots, a_7)$, the Mahalanobis distance between two points is then \n",
        "\n",
        "$$d_A(x, y) = \\|x-y\\|_A  = \\sqrt{\\sum_{i=1}^7 \\frac{1}{a_i}|x_i-y_i|^2}.$$\n",
        "\n",
        "The reasoning behind our choice is the following: The DBSCAN algorithm will detect outliers, some of which will be turning movements, but most will not. By allowing the  $a_i$  coefficients to act as weights, we can give a larger weight to features that we expect to be associated with turning movements, namely NewAccelX and NewRotRateZ. \n",
        "\n",
        "Lets see a very simple example: Consider three points in $\\mathbb{R}^2$, $x=(0,0)$, $y=(1,0)$ and $z=(0,1)$, and the Mahalanobis distance induced by $A=\\text{diag}(a_1, a_2)$. Suppose that we wish to define $A$ in such a way that two points are far apart when mostly their second coordinates are far apart. Then \n",
        "$$ \\|x-y\\|_A^2  = \\frac{1}{a_1} \\ \\ \\text{and} \\ \\|x-z\\|_A^2  = \\frac{1}{a_2}, $$\n",
        "so we need to pick $\\frac{1}{a_2}>\\frac{1}{a_1}$, or equivalently, $a_2<a_1$. \n",
        "\n",
        "\n",
        "\n"
      ]
    },
    {
      "cell_type": "code",
      "metadata": {
        "colab": {
          "base_uri": "https://localhost:8080/"
        },
        "id": "JH4ix2K_aHsK",
        "outputId": "20e46a67-0405-413b-a258-ccd5b95b6555"
      },
      "source": [
        "clustering4 = DBSCAN(eps=np.sqrt(0.5), min_samples=14, metric='mahalanobis', \n",
        "                    metric_params={'V': np.diag([1/7, 1, 1, 1, 1, 1/8, 1])}).fit(data)\n",
        "DBSCAN_la4 = clustering4.labels_\n",
        "unique4, counts4 = np.unique(DBSCAN_la4, return_counts=True)\n",
        "dict(zip(unique4, counts4)) # 687"
      ],
      "execution_count": null,
      "outputs": [
        {
          "output_type": "execute_result",
          "data": {
            "text/plain": [
              "{-1: 687, 0: 103204}"
            ]
          },
          "metadata": {
            "tags": []
          },
          "execution_count": 3
        }
      ]
    },
    {
      "cell_type": "markdown",
      "metadata": {
        "id": "lYJUDvF8x1vH"
      },
      "source": [
        "Recall that DBSCAN assigns the label -1 to the noise points and  the labels $0, 1, 2, \\ldots$ to the rest of the clusters."
      ]
    },
    {
      "cell_type": "code",
      "metadata": {
        "id": "SXGLuNTXdOti"
      },
      "source": [
        "maha = data.copy()\n",
        "maha2 = data.copy()\n",
        "maha2['DBSCAN'] = DBSCAN_la4\n",
        "maha_abs = np.abs(maha)\n",
        "maha_abs['DBSCAN'] = DBSCAN_la4"
      ],
      "execution_count": null,
      "outputs": []
    },
    {
      "cell_type": "markdown",
      "metadata": {
        "id": "pvXCJ5L_uQaP"
      },
      "source": [
        "The noise points have indeed larger than average values for the two most prominent turning movement features:"
      ]
    },
    {
      "cell_type": "code",
      "metadata": {
        "colab": {
          "base_uri": "https://localhost:8080/",
          "height": 107
        },
        "id": "ZSVymoemuLGD",
        "outputId": "ad2b9c83-32c4-44b9-d639-b9f01f77e742"
      },
      "source": [
        "maha_abs.groupby('DBSCAN', as_index=False)['NewAccelX'].mean()"
      ],
      "execution_count": null,
      "outputs": [
        {
          "output_type": "execute_result",
          "data": {
            "text/html": [
              "<div>\n",
              "<style scoped>\n",
              "    .dataframe tbody tr th:only-of-type {\n",
              "        vertical-align: middle;\n",
              "    }\n",
              "\n",
              "    .dataframe tbody tr th {\n",
              "        vertical-align: top;\n",
              "    }\n",
              "\n",
              "    .dataframe thead th {\n",
              "        text-align: right;\n",
              "    }\n",
              "</style>\n",
              "<table border=\"1\" class=\"dataframe\">\n",
              "  <thead>\n",
              "    <tr style=\"text-align: right;\">\n",
              "      <th></th>\n",
              "      <th>DBSCAN</th>\n",
              "      <th>NewAccelX</th>\n",
              "    </tr>\n",
              "  </thead>\n",
              "  <tbody>\n",
              "    <tr>\n",
              "      <th>0</th>\n",
              "      <td>-1</td>\n",
              "      <td>0.167429</td>\n",
              "    </tr>\n",
              "    <tr>\n",
              "      <th>1</th>\n",
              "      <td>0</td>\n",
              "      <td>0.034611</td>\n",
              "    </tr>\n",
              "  </tbody>\n",
              "</table>\n",
              "</div>"
            ],
            "text/plain": [
              "   DBSCAN  NewAccelX\n",
              "0      -1   0.167429\n",
              "1       0   0.034611"
            ]
          },
          "metadata": {
            "tags": []
          },
          "execution_count": 5
        }
      ]
    },
    {
      "cell_type": "code",
      "metadata": {
        "colab": {
          "base_uri": "https://localhost:8080/",
          "height": 107
        },
        "id": "WL0jk7ENuKWd",
        "outputId": "abc684ac-fcee-48f1-cfee-88208b98200b"
      },
      "source": [
        "maha_abs.groupby('DBSCAN', as_index=False)['NewRotRateZ'].mean()"
      ],
      "execution_count": null,
      "outputs": [
        {
          "output_type": "execute_result",
          "data": {
            "text/html": [
              "<div>\n",
              "<style scoped>\n",
              "    .dataframe tbody tr th:only-of-type {\n",
              "        vertical-align: middle;\n",
              "    }\n",
              "\n",
              "    .dataframe tbody tr th {\n",
              "        vertical-align: top;\n",
              "    }\n",
              "\n",
              "    .dataframe thead th {\n",
              "        text-align: right;\n",
              "    }\n",
              "</style>\n",
              "<table border=\"1\" class=\"dataframe\">\n",
              "  <thead>\n",
              "    <tr style=\"text-align: right;\">\n",
              "      <th></th>\n",
              "      <th>DBSCAN</th>\n",
              "      <th>NewRotRateZ</th>\n",
              "    </tr>\n",
              "  </thead>\n",
              "  <tbody>\n",
              "    <tr>\n",
              "      <th>0</th>\n",
              "      <td>-1</td>\n",
              "      <td>1.020015</td>\n",
              "    </tr>\n",
              "    <tr>\n",
              "      <th>1</th>\n",
              "      <td>0</td>\n",
              "      <td>0.031767</td>\n",
              "    </tr>\n",
              "  </tbody>\n",
              "</table>\n",
              "</div>"
            ],
            "text/plain": [
              "   DBSCAN  NewRotRateZ\n",
              "0      -1     1.020015\n",
              "1       0     0.031767"
            ]
          },
          "metadata": {
            "tags": []
          },
          "execution_count": 6
        }
      ]
    },
    {
      "cell_type": "markdown",
      "metadata": {
        "id": "WfTep7oQuoYU"
      },
      "source": [
        "We now remove some entries which do not correspond to such extreme turning movements using a statistical criterion. First, we compute the means and standard deviations for NewAccelX and NewRotRateZ in the original dataset."
      ]
    },
    {
      "cell_type": "code",
      "metadata": {
        "colab": {
          "base_uri": "https://localhost:8080/"
        },
        "id": "9MP_GKfMsRpb",
        "outputId": "3787b972-3ee8-485f-dd99-f3b892a137e4"
      },
      "source": [
        "print('Statistical measures for the NewAccelX feature: mean = {:0.5f} with std = {:0.5f}.\\nStatistical measures for the NewRotRateZ feature: mean = {:0.5f} with std = {:0.5f}.'\n",
        "  .format( abs(data['NewAccelX']).mean(), abs(data['NewAccelX']).std(), abs(data['NewRotRateZ']).mean(), abs(data['NewRotRateZ']).std()))"
      ],
      "execution_count": null,
      "outputs": [
        {
          "output_type": "stream",
          "text": [
            "Statistical measures for the NewAccelX feature: mean = 0.03549 with std = 0.04597.\n",
            "Statistical measures for the NewRotRateZ feature: mean = 0.03830 with std = 0.14153.\n"
          ],
          "name": "stdout"
        }
      ]
    },
    {
      "cell_type": "markdown",
      "metadata": {
        "id": "YnqndtWVvD89"
      },
      "source": [
        "Then, we discard the entries which do not fall too far from the mean:"
      ]
    },
    {
      "cell_type": "code",
      "metadata": {
        "colab": {
          "base_uri": "https://localhost:8080/"
        },
        "id": "uVkMTD54uBQV",
        "outputId": "147e9134-506e-4fb1-915e-d1d06574f718"
      },
      "source": [
        "dbs2 = maha_abs[maha_abs['DBSCAN'] == -1]\n",
        "print('Initial number of the DBSCAN outliers: {}.'.format(dbs2.shape[0])) # 687\n",
        "maha['DBSCAN'] = DBSCAN_la4\n",
        "for i in range(len(DBSCAN_la4)):\n",
        "  if (abs(maha['NewRotRateZ'][i]) < 0.0383 + 0.14153) & (abs(maha['NewAccelX'][i]) < 0.03549 + 0.04597): maha.at[i, 'DBSCAN'] = 1\n",
        "\n",
        "test = maha[maha['DBSCAN'] == -1]   \n",
        "dbscan = maha[maha['DBSCAN'] == -1]  \n",
        "print('Number of the DBSCAN outliers after filtering in the turning movements: {}.'.format(dbscan.shape[0])) # 649"
      ],
      "execution_count": null,
      "outputs": [
        {
          "output_type": "stream",
          "text": [
            "Initial number of the DBSCAN outliers: 687.\n",
            "Number of the DBSCAN outliers after filtering in the turning movements: 649.\n"
          ],
          "name": "stdout"
        }
      ]
    },
    {
      "cell_type": "markdown",
      "metadata": {
        "id": "KPk4EPB4vNzg"
      },
      "source": [
        "As we can see, only a handful of entries (38 out of 687, namely a 5.5% of the noise points) were removed. We can see this as an indication of success for the choice of the Mahalanobis distance, as the DBSCAN algorithm not only detected outliers, but most of them were corresponding to some type of turning movement."
      ]
    },
    {
      "cell_type": "code",
      "metadata": {
        "colab": {
          "base_uri": "https://localhost:8080/",
          "height": 312
        },
        "id": "A4rRcPeLctgQ",
        "outputId": "6513fef1-69c9-46df-af17-2126c2a81fa0"
      },
      "source": [
        "g = sns.scatterplot(x=\"NewAccelX\", y=\"NewRotRateZ\", hue=\"DBSCAN\",\n",
        "              data=maha, palette=['green','orange', 'red'], legend='full')\n",
        "plt.title('DBSCAN outliers drawn against the two most prominent features')\n",
        "plt.legend(loc='lower left', labels=['Outlier but not turning movement',   'Turning movement outlier', 'Inliner'])"
      ],
      "execution_count": null,
      "outputs": [
        {
          "output_type": "execute_result",
          "data": {
            "text/plain": [
              "<matplotlib.legend.Legend at 0x7f54270d1f50>"
            ]
          },
          "metadata": {
            "tags": []
          },
          "execution_count": 10
        },
        {
          "output_type": "display_data",
          "data": {
            "image/png": "[encoded data removed]",
            "text/plain": [
              "<Figure size 432x288 with 1 Axes>"
            ]
          },
          "metadata": {
            "tags": [],
            "needs_background": "light"
          }
        }
      ]
    },
    {
      "cell_type": "markdown",
      "metadata": {
        "id": "PIEA84MV1_Uk"
      },
      "source": [
        "## Elliptic Envelope"
      ]
    },
    {
      "cell_type": "markdown",
      "metadata": {
        "id": "UpoHlfVuDZ1B"
      },
      "source": [
        "The Elliptic Elnvelope is another method which can be used for outlier detection. Its main assumption is that the data points $x=(x_1,\\ldots, x_7)$ follow a distribution of the form $$f(x)=\\frac{1}{|\\Sigma|}g((x-\\mu)'\\Sigma^{-1}(x-\\mu))$$ for some strictly decreasing real function $g$, and a positive definite and symmetric matrix $\\Sigma$. For example, a multivariate normal distribution is special case of it. \n",
        "\n",
        "It then finds the regions on which most of the measure of $f$ is concentrated, and considers as an outlier anything that is not contained in it. Because of the similarity of $f$ with the pdf of the multivariate normal, the decision regions are often ellipses, caused by the presence of the Mahalanobis distance $(x-\\mu)'\\Sigma^{-1}(x-\\mu)$, thus the name \"Elliptic Envelope\".\n",
        "\n",
        "To implement the method, we first need to determine the   *contamination* hyperparameter, which denotes the fraction of the data points that are considered to be outliers. Given that DBSCAN initially fount around 700 outliers, we chose a fraction of 0.02 so as to broaden up our search."
      ]
    },
    {
      "cell_type": "code",
      "metadata": {
        "colab": {
          "base_uri": "https://localhost:8080/"
        },
        "id": "hN9BiD1kxXXm",
        "outputId": "4ef23ac8-9b79-4023-d931-52072ce3dad6"
      },
      "source": [
        "cov = EllipticEnvelope(random_state=42, contamination=0.02).fit(data)\n",
        "\n",
        "envelope_la = cov.predict(data)\n",
        "unique_env, counts_env = np.unique(envelope_la, return_counts=True)\n",
        "dict(zip(unique_env, counts_env)) # 2078"
      ],
      "execution_count": null,
      "outputs": [
        {
          "output_type": "execute_result",
          "data": {
            "text/plain": [
              "{-1: 2078, 1: 101813}"
            ]
          },
          "metadata": {
            "tags": []
          },
          "execution_count": 11
        }
      ]
    },
    {
      "cell_type": "markdown",
      "metadata": {
        "id": "FLKn0eQ7GDVR"
      },
      "source": [
        "Like before, we weed out the non-turning movements. "
      ]
    },
    {
      "cell_type": "code",
      "metadata": {
        "colab": {
          "base_uri": "https://localhost:8080/"
        },
        "id": "vB8UKjrUzW2O",
        "outputId": "175afbbf-7094-4987-88a6-59e7d9d8818c"
      },
      "source": [
        "maha['Envelope'] = envelope_la\n",
        "#maha2['Envelope'] = envelope_la\n",
        "print('Initial number of the Elliptic Envelope outliers: {}.'.format(maha[maha['Envelope'] == -1].shape[0])) # 2078\n",
        "#print(maha[maha['Envelope'] == -1].shape)\n",
        "for i in range(len(envelope_la)):\n",
        "  if (abs(maha['NewRotRateZ'][i]) < 0.0383 + 0.14153) & (abs(maha['NewAccelX'][i]) < 0.03549 + 0.04597): maha.at[i, 'Envelope'] = 2\n",
        "\n",
        "print('Number of the Elliptic Envelope outliers after filtering in the turning movements: {}.'\n",
        "  .format(maha[maha['Envelope'] == -1].shape[0])) # 1840\n",
        " \n",
        "print('Number of DBSCAN outliers: {}'.format(maha[(maha['DBSCAN'] == -1)].shape[0])) # 649\n",
        "print('Number of common DBSCAN and Elliptic Envelope outliers: {}'.format(maha[(maha['DBSCAN'] == -1) & (maha['Envelope'] == -1)].shape[0])) #629"
      ],
      "execution_count": null,
      "outputs": [
        {
          "output_type": "stream",
          "text": [
            "Initial number of the Elliptic Envelope outliers: 2078.\n",
            "Number of the Elliptic Envelope outliers after filtering in the turning movements: 1840.\n",
            "Number of DBSCAN outliers: 649\n",
            "Number of common DBSCAN and Elliptic Envelope outliers: 629\n"
          ],
          "name": "stdout"
        }
      ]
    },
    {
      "cell_type": "code",
      "metadata": {
        "colab": {
          "base_uri": "https://localhost:8080/",
          "height": 326
        },
        "id": "EDjGGn0O2YXe",
        "outputId": "732c663b-afc1-481e-86aa-cd0d0667e3b4"
      },
      "source": [
        "g = sns.scatterplot(x=\"NewAccelX\", y=\"NewRotRateZ\", hue=\"Envelope\",\n",
        "              data=maha, palette=['green','orange', 'red'], legend='full')\n",
        "plt.title('Elliptic Envelope outliers\\ndrawn against the two most prominent features')\n",
        "plt.legend(loc='lower left', labels=['Outlier but not turning movement', 'Outlier', 'Inliner'])"
      ],
      "execution_count": null,
      "outputs": [
        {
          "output_type": "execute_result",
          "data": {
            "text/plain": [
              "<matplotlib.legend.Legend at 0x7f54270c1590>"
            ]
          },
          "metadata": {
            "tags": []
          },
          "execution_count": 14
        },
        {
          "output_type": "display_data",
          "data": {
            "image/png": "[encoded data removed]",
            "text/plain": [
              "<Figure size 432x288 with 1 Axes>"
            ]
          },
          "metadata": {
            "tags": [],
            "needs_background": "light"
          }
        }
      ]
    },
    {
      "cell_type": "markdown",
      "metadata": {
        "id": "KkIM_Hv42FRG"
      },
      "source": [
        "## Local Outlier  Factor\n",
        "\n",
        "The Local Outlier Factor (LOF) is a method specifically designed to detect outliers. It is very similar to DBSCAN with two main differences: 1) It also searches for local outliers, namely points that although may not seem like outliers when looking at the dataset globally, they exhibit outlier behavior when examined locally.  2) Rather than classifying each point as outlier or inliner, it assigns a value on it, called *outlier factor* which describes the degree on which the respective point is an ourlier. "
      ]
    },
    {
      "cell_type": "code",
      "metadata": {
        "colab": {
          "base_uri": "https://localhost:8080/"
        },
        "id": "X6bTMRQHPsPj",
        "outputId": "b8a2d87d-4b54-47f6-e6e6-46bf9d894a82"
      },
      "source": [
        "clf = LocalOutlierFactor(n_neighbors=20, contamination=0.05)\n",
        "LOF_la = clf.fit_predict(data)\n",
        "unique_lof, counts_lof = np.unique(LOF_la, return_counts=True)\n",
        "dict(zip(unique_lof, counts_lof)) # 5195"
      ],
      "execution_count": null,
      "outputs": [
        {
          "output_type": "execute_result",
          "data": {
            "text/plain": [
              "{-1: 5195, 1: 98696}"
            ]
          },
          "metadata": {
            "tags": []
          },
          "execution_count": 15
        }
      ]
    },
    {
      "cell_type": "code",
      "metadata": {
        "colab": {
          "base_uri": "https://localhost:8080/"
        },
        "id": "i4aWKOFZP5ZW",
        "outputId": "5e82c85d-df87-4e54-f7c5-537993cac595"
      },
      "source": [
        "maha['LOF'] = LOF_la\n",
        "#maha2['Envelope'] = envelope_la\n",
        "print('Initial number of the LOF outliers: {}.'.format(maha[maha['LOF'] == -1].shape[0])) # 5195\n",
        "#print(maha[maha['Envelope'] == -1].shape)\n",
        "for i in range(len(envelope_la)):\n",
        "  if (abs(maha['NewRotRateZ'][i]) < 0.0383 + 0.14153) & (abs(maha['NewAccelX'][i]) < 0.03549 + 0.04597): maha.at[i, 'LOF'] = 2\n",
        "\n",
        "print('Number of the LOF outliers after filtering in the turning movements: {}.'\n",
        "  .format(maha[maha['LOF'] == -1].shape[0])) # 2697\n",
        " \n",
        "print('Number of DBSCAN outliers: {}'.format(maha[(maha['DBSCAN'] == -1)].shape[0]))\n",
        "print('Number of common DBSCAN and Elliptic Envelope outliers: {}'.format(maha[(maha['DBSCAN'] == -1) & (maha['Envelope'] == -1)].shape[0]))\n",
        "print('Number of common DBSCAN,  Elliptic Envelope and LOF outliers: {}'.format(maha[(maha['DBSCAN'] == -1) & (maha['Envelope'] == -1) & (maha['LOF'] == -1)].shape[0]))"
      ],
      "execution_count": null,
      "outputs": [
        {
          "output_type": "stream",
          "text": [
            "Initial number of the LOF outliers: 5195.\n",
            "Number of the LOF outliers after filtering in the turning movements: 2697.\n",
            "Number of DBSCAN outliers: 649\n",
            "Number of common DBSCAN and Elliptic Envelope outliers: 629\n",
            "Number of common DBSCAN,  Elliptic Envelope and LOF outliers: 338\n"
          ],
          "name": "stdout"
        }
      ]
    },
    {
      "cell_type": "code",
      "metadata": {
        "colab": {
          "base_uri": "https://localhost:8080/",
          "height": 312
        },
        "id": "w917bl2AQmbG",
        "outputId": "4e1840f1-1018-46c7-89d1-e58009291422"
      },
      "source": [
        "g = sns.scatterplot(x=\"NewAccelX\", y=\"NewRotRateZ\", hue=\"LOF\",\n",
        "              data=maha, palette=['green','orange', 'red'], legend='full')\n",
        "plt.title('LOF outliers drawn against the two most prominent features')\n",
        "plt.legend(loc='lower left', labels=['Outlier but not turning movement', 'Outlier', 'Inliner'])"
      ],
      "execution_count": null,
      "outputs": [
        {
          "output_type": "execute_result",
          "data": {
            "text/plain": [
              "<matplotlib.legend.Legend at 0x7f5426c99bd0>"
            ]
          },
          "metadata": {
            "tags": []
          },
          "execution_count": 17
        },
        {
          "output_type": "display_data",
          "data": {
            "image/png": "[encoded data removed]",
            "text/plain": [
              "<Figure size 432x288 with 1 Axes>"
            ]
          },
          "metadata": {
            "tags": [],
            "needs_background": "light"
          }
        }
      ]
    },
    {
      "cell_type": "markdown",
      "metadata": {
        "id": "xYZK_6WVUcrt"
      },
      "source": [
        "To compile the final list of our outliers, several voting schemes could be used  in order to combine the results from all the classifiers in a weighted manner. However, given the nature of the problem and the total number of outlier each algorithm detected, we decided to classify a data point as an outlier only when all three algortihms agreed on it being one.  "
      ]
    },
    {
      "cell_type": "code",
      "metadata": {
        "colab": {
          "base_uri": "https://localhost:8080/",
          "height": 404
        },
        "id": "_W6I0DvSRGpv",
        "outputId": "f9bc55e0-774c-4ac7-f8ef-e2c1981e41a9"
      },
      "source": [
        "final_outliers = maha[(maha['DBSCAN'] == -1) & (maha['Envelope'] == -1) & (maha['LOF'] == -1)]\n",
        "final_outliers = final_outliers[['NewAccelX',\t'NewAccelY',\t'NewAccelZ',\t'NewRotRateX',\t\n",
        "                                'NewRotRateY',\t'NewRotRateZ',\t'locationSpeed']]\n",
        "final_outliers"
      ],
      "execution_count": null,
      "outputs": [
        {
          "output_type": "execute_result",
          "data": {
            "text/html": [
              "<div>\n",
              "<style scoped>\n",
              "    .dataframe tbody tr th:only-of-type {\n",
              "        vertical-align: middle;\n",
              "    }\n",
              "\n",
              "    .dataframe tbody tr th {\n",
              "        vertical-align: top;\n",
              "    }\n",
              "\n",
              "    .dataframe thead th {\n",
              "        text-align: right;\n",
              "    }\n",
              "</style>\n",
              "<table border=\"1\" class=\"dataframe\">\n",
              "  <thead>\n",
              "    <tr style=\"text-align: right;\">\n",
              "      <th></th>\n",
              "      <th>NewAccelX</th>\n",
              "      <th>NewAccelY</th>\n",
              "      <th>NewAccelZ</th>\n",
              "      <th>NewRotRateX</th>\n",
              "      <th>NewRotRateY</th>\n",
              "      <th>NewRotRateZ</th>\n",
              "      <th>locationSpeed</th>\n",
              "    </tr>\n",
              "  </thead>\n",
              "  <tbody>\n",
              "    <tr>\n",
              "      <th>219</th>\n",
              "      <td>0.387</td>\n",
              "      <td>1.033</td>\n",
              "      <td>0.420</td>\n",
              "      <td>2.796</td>\n",
              "      <td>-12.628</td>\n",
              "      <td>-13.615</td>\n",
              "      <td>6.78</td>\n",
              "    </tr>\n",
              "    <tr>\n",
              "      <th>497</th>\n",
              "      <td>0.374</td>\n",
              "      <td>-2.163</td>\n",
              "      <td>0.409</td>\n",
              "      <td>0.854</td>\n",
              "      <td>-0.908</td>\n",
              "      <td>3.835</td>\n",
              "      <td>15.52</td>\n",
              "    </tr>\n",
              "    <tr>\n",
              "      <th>502</th>\n",
              "      <td>0.023</td>\n",
              "      <td>0.016</td>\n",
              "      <td>-0.035</td>\n",
              "      <td>0.143</td>\n",
              "      <td>0.319</td>\n",
              "      <td>3.476</td>\n",
              "      <td>5.74</td>\n",
              "    </tr>\n",
              "    <tr>\n",
              "      <th>514</th>\n",
              "      <td>0.462</td>\n",
              "      <td>-0.871</td>\n",
              "      <td>-0.756</td>\n",
              "      <td>5.250</td>\n",
              "      <td>-0.086</td>\n",
              "      <td>-3.246</td>\n",
              "      <td>0.00</td>\n",
              "    </tr>\n",
              "    <tr>\n",
              "      <th>632</th>\n",
              "      <td>-0.090</td>\n",
              "      <td>0.024</td>\n",
              "      <td>0.082</td>\n",
              "      <td>-1.464</td>\n",
              "      <td>-0.437</td>\n",
              "      <td>0.161</td>\n",
              "      <td>3.41</td>\n",
              "    </tr>\n",
              "    <tr>\n",
              "      <th>...</th>\n",
              "      <td>...</td>\n",
              "      <td>...</td>\n",
              "      <td>...</td>\n",
              "      <td>...</td>\n",
              "      <td>...</td>\n",
              "      <td>...</td>\n",
              "      <td>...</td>\n",
              "    </tr>\n",
              "    <tr>\n",
              "      <th>103749</th>\n",
              "      <td>0.364</td>\n",
              "      <td>0.322</td>\n",
              "      <td>0.673</td>\n",
              "      <td>0.288</td>\n",
              "      <td>0.538</td>\n",
              "      <td>-0.030</td>\n",
              "      <td>7.74</td>\n",
              "    </tr>\n",
              "    <tr>\n",
              "      <th>103774</th>\n",
              "      <td>-0.045</td>\n",
              "      <td>-0.192</td>\n",
              "      <td>0.094</td>\n",
              "      <td>1.187</td>\n",
              "      <td>-0.388</td>\n",
              "      <td>-0.635</td>\n",
              "      <td>11.42</td>\n",
              "    </tr>\n",
              "    <tr>\n",
              "      <th>103786</th>\n",
              "      <td>-0.297</td>\n",
              "      <td>-0.497</td>\n",
              "      <td>-0.083</td>\n",
              "      <td>0.535</td>\n",
              "      <td>-0.108</td>\n",
              "      <td>-0.173</td>\n",
              "      <td>12.26</td>\n",
              "    </tr>\n",
              "    <tr>\n",
              "      <th>103796</th>\n",
              "      <td>-0.953</td>\n",
              "      <td>-0.320</td>\n",
              "      <td>0.263</td>\n",
              "      <td>-0.263</td>\n",
              "      <td>-1.216</td>\n",
              "      <td>0.586</td>\n",
              "      <td>9.69</td>\n",
              "    </tr>\n",
              "    <tr>\n",
              "      <th>103801</th>\n",
              "      <td>0.196</td>\n",
              "      <td>-0.509</td>\n",
              "      <td>0.545</td>\n",
              "      <td>-0.111</td>\n",
              "      <td>-0.659</td>\n",
              "      <td>0.733</td>\n",
              "      <td>5.51</td>\n",
              "    </tr>\n",
              "  </tbody>\n",
              "</table>\n",
              "<p>338 rows × 7 columns</p>\n",
              "</div>"
            ],
            "text/plain": [
              "        NewAccelX  NewAccelY  ...  NewRotRateZ  locationSpeed\n",
              "219         0.387      1.033  ...      -13.615           6.78\n",
              "497         0.374     -2.163  ...        3.835          15.52\n",
              "502         0.023      0.016  ...        3.476           5.74\n",
              "514         0.462     -0.871  ...       -3.246           0.00\n",
              "632        -0.090      0.024  ...        0.161           3.41\n",
              "...           ...        ...  ...          ...            ...\n",
              "103749      0.364      0.322  ...       -0.030           7.74\n",
              "103774     -0.045     -0.192  ...       -0.635          11.42\n",
              "103786     -0.297     -0.497  ...       -0.173          12.26\n",
              "103796     -0.953     -0.320  ...        0.586           9.69\n",
              "103801      0.196     -0.509  ...        0.733           5.51\n",
              "\n",
              "[338 rows x 7 columns]"
            ]
          },
          "metadata": {
            "tags": []
          },
          "execution_count": 18
        }
      ]
    },
    {
      "cell_type": "code",
      "metadata": {
        "colab": {
          "base_uri": "https://localhost:8080/",
          "height": 17
        },
        "id": "gEfTLN1MRyA5",
        "outputId": "548d0fbb-4c44-4622-ed6e-682898657fba"
      },
      "source": [
        "final_outliers.to_csv('outliers.csv') \n",
        "files.download('outliers.csv')"
      ],
      "execution_count": null,
      "outputs": [
        {
          "output_type": "display_data",
          "data": {
            "application/javascript": [
              "\n",
              "    async function download(id, filename, size) {\n",
              "      if (!google.colab.kernel.accessAllowed) {\n",
              "        return;\n",
              "      }\n",
              "      const div = document.createElement('div');\n",
              "      const label = document.createElement('label');\n",
              "      label.textContent = `Downloading \"${filename}\": `;\n",
              "      div.appendChild(label);\n",
              "      const progress = document.createElement('progress');\n",
              "      progress.max = size;\n",
              "      div.appendChild(progress);\n",
              "      document.body.appendChild(div);\n",
              "\n",
              "      const buffers = [];\n",
              "      let downloaded = 0;\n",
              "\n",
              "      const channel = await google.colab.kernel.comms.open(id);\n",
              "      // Send a message to notify the kernel that we're ready.\n",
              "      channel.send({})\n",
              "\n",
              "      for await (const message of channel.messages) {\n",
              "        // Send a message to notify the kernel that we're ready.\n",
              "        channel.send({})\n",
              "        if (message.buffers) {\n",
              "          for (const buffer of message.buffers) {\n",
              "            buffers.push(buffer);\n",
              "            downloaded += buffer.byteLength;\n",
              "            progress.value = downloaded;\n",
              "          }\n",
              "        }\n",
              "      }\n",
              "      const blob = new Blob(buffers, {type: 'application/binary'});\n",
              "      const a = document.createElement('a');\n",
              "      a.href = window.URL.createObjectURL(blob);\n",
              "      a.download = filename;\n",
              "      div.appendChild(a);\n",
              "      a.click();\n",
              "      div.remove();\n",
              "    }\n",
              "  "
            ],
            "text/plain": [
              "<IPython.core.display.Javascript object>"
            ]
          },
          "metadata": {
            "tags": []
          }
        },
        {
          "output_type": "display_data",
          "data": {
            "application/javascript": [
              "download(\"download_05d7f4d7-17d5-4d17-b1b1-99cdd0429465\", \"outliers.csv\", 24338)"
            ],
            "text/plain": [
              "<IPython.core.display.Javascript object>"
            ]
          },
          "metadata": {
            "tags": []
          }
        }
      ]
    }
  ]
}