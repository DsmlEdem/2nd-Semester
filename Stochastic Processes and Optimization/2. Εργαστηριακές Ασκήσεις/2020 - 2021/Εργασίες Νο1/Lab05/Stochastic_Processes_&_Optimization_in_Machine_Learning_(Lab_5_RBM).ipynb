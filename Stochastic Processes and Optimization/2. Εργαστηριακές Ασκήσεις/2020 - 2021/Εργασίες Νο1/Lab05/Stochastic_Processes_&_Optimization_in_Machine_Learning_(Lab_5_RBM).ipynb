{
 "cells": [
  {
   "cell_type": "markdown",
   "metadata": {},
   "source": [
    "### Νικόλαος Μανιάτης   \n",
    "#### Α.Μ.: 03400097"
   ]
  },
  {
   "cell_type": "markdown",
   "metadata": {
    "id": "mxJ9DwJ4qB3c"
   },
   "source": [
    "<h1><b>Restricted Boltzmann Machine</b></h1>\n",
    "<p align=\"justify\">Στην συγκεκριμένη άσκηση θα μελετήσετε τον τρόπο λειτουργίας μιας <i>RBM (<a href=\"https://en.wikipedia.org/wiki/Restricted_Boltzmann_machine\">Restricted Boltzmann Machine</a>)</i>, χρησιμοποιώντας το έτοιμο πρόγραμμα που σας δίνεται.Το συγκεκριμένο πρόγραμμα αξιοποιεί το <a href=\"https://en.wikipedia.org/wiki/MNIST_database\">dataset του <i>MNIST</i></a>, όπου είναι μια μεγάλη βάση δεδομένων με χειρόγραφα ψηφία που χρησιμοποιείται συνήθως για την εκπαίδευση διαφόρων συστημάτων επεξεργασίας εικόνας.</p>\n",
    "<p align=\"justify\">Μία αρκετά σημαντική εφαρμογή της <i>RBM</i> είναι η εξαγωγή χαρακτηριστικών (feature representation) από ένα dataset με σκοπό την αναπαράσταση της εισόδου (ορατοί νευρώνες) με ένα διάνυσμα μικρότερης διάστασης (κρυφοί νευρώνες). Στη συγκεκριμένη άσκηση θα συγκρίνετε την ακρίβεια ενός ταξινομητή ψηφίων με τη χρήση του αλγορίθμου <i>Logistic Regression</i>, όταν εκείνος δέχεται ως είσοδο το dataset (i) αφου υποστεί επεξεργασία από το <i>RBM</i> και (ii) χωρίς να έχει υποστεί επεξεργασία από το <i>RBM</i>.</p>\n",
    "<p align=\"justify\">Το δοθέν <i>dataset</i>, στα πλαίσια της άσκησης έχει\n",
    "διογκωθεί με τεχνητό τρόπο (γραμμική μετατόπιση ενός εικονοστοιχείου (pixel) σε\n",
    "κάθε κατεύθυνση) ώστε να έχουμε ένα <i>dataset</i> 5 φορές μεγαλύτερο. Με βάση τον κώδικα που σας έχει δοθεί, καλείστε να απαντήσετε στα παρακάτω ερωτήματα:</p>\n",
    "<ul>\n",
    "<li>Να περιγράψετε σύντομα τον τρόπο λειτουργίας μιας <i>RBM</i>. Τι διαφορές έχει σε σχέση με μία <i> Μηχανή Boltzmann</i>;</li>\n",
    "<li>Να αναφέρετε τις βασικότερες εφαρμογές μιας RBM.</li>\n",
    "<li>Συγκρίνετε τα αποτελέσματα της ταξινόμησης με τον αλγόριθμo <i>Logistic Regression</i> χωρίς τη χρήση RBM σε σχέση με τα αποτελέσματα της ταξινόμησης που έχει χρησιμοποιηθεί η <i>RBM</i> για την εξαγωγή των χαρακτηριστικών. Τι παρατηρείτε ως προς την ακρίβεια των αποτελεσμάτων;</li>\n",
    "<li>Επιχειρήστε να αλλάξετε τον αριθμό των κρυφών νευρώνων (components) από 100 σε 200. Τι\n",
    "παρατηρείτε ως προς τα αποτελέσματα και τον χρόνο που έτρεξε το\n",
    "πρόγραμμα μέχρι να γίνει <i>fit</i>΄;</li>\n",
    "<li>Προσπαθήστε να τρέξετε το πρόγραμμα τρέξτε το πρόγραμμα εκ νέου με το <i>κανονικό dataset</i>. Τι παρατηρείτε ως προς την ακρίβεια των αποτελεσμάτων; Πού μπορεί να οφείλονται τυχόν αποκλίσεις σε σχέση με πριν;</li>\n",
    "</ul>"
   ]
  },
  {
   "cell_type": "code",
   "execution_count": 2,
   "metadata": {},
   "outputs": [
    {
     "name": "stdout",
     "output_type": "stream",
     "text": [
      "Automatically created module for IPython interactive environment\n"
     ]
    }
   ],
   "source": [
    "from __future__ import print_function\n",
    "\n",
    "print(__doc__)\n",
    "\n",
    "# Authors: Yann N. Dauphin, Vlad Niculae, Gabriel Synnaeve\n",
    "# License: BSD\n",
    "\n",
    "import numpy as np\n",
    "import matplotlib.pyplot as plt\n",
    "\n",
    "from scipy.ndimage import convolve\n",
    "from sklearn import linear_model, datasets, metrics\n",
    "from sklearn.model_selection import train_test_split\n",
    "from sklearn.neural_network import BernoulliRBM\n",
    "from sklearn.pipeline import Pipeline\n",
    "from sklearn.base import clone"
   ]
  },
  {
   "cell_type": "code",
   "execution_count": 3,
   "metadata": {},
   "outputs": [],
   "source": [
    "# #############################################################################\n",
    "# Setting up\n",
    "def nudge_dataset(X, Y):\n",
    "    \"\"\"\n",
    "    This produces a dataset 5 times bigger than the original one,\n",
    "    by moving the 8x8 images in X around by 1px to left, right, down, up\n",
    "    \"\"\"\n",
    "    direction_vectors = [\n",
    "        [[0, 1, 0],\n",
    "         [0, 0, 0],\n",
    "         [0, 0, 0]],\n",
    "\n",
    "        [[0, 0, 0],\n",
    "         [1, 0, 0],\n",
    "         [0, 0, 0]],\n",
    "\n",
    "        [[0, 0, 0],\n",
    "         [0, 0, 1],\n",
    "         [0, 0, 0]],\n",
    "\n",
    "        [[0, 0, 0],\n",
    "         [0, 0, 0],\n",
    "         [0, 1, 0]]]\n",
    "\n",
    "    def shift(x, w):\n",
    "        return convolve(x.reshape((8, 8)), mode='constant', weights=w).ravel()\n",
    "\n",
    "    X = np.concatenate([X] +\n",
    "                       [np.apply_along_axis(shift, 1, X, vector)\n",
    "                        for vector in direction_vectors])\n",
    "    Y = np.concatenate([Y for _ in range(5)], axis=0)\n",
    "    return X, Y"
   ]
  },
  {
   "cell_type": "code",
   "execution_count": 4,
   "metadata": {},
   "outputs": [],
   "source": [
    "def load_data(augment=True):\n",
    "    # Load Data\n",
    "    digits = datasets.load_digits()\n",
    "    X = np.asarray(digits.data, 'float32')\n",
    "    Y = np.asarray(digits.target, 'float32')\n",
    "    if augment:\n",
    "        X, Y = nudge_dataset(X, Y)\n",
    "    X = (X - np.min(X, 0)) / (np.max(X, 0) + 0.0001)  # 0-1 scaling\n",
    "\n",
    "    X_train, X_test, Y_train, Y_test = train_test_split(\n",
    "        X, Y, test_size=0.2, random_state=0)\n",
    "    return X_train, X_test, Y_train, Y_test"
   ]
  },
  {
   "cell_type": "code",
   "execution_count": 5,
   "metadata": {},
   "outputs": [],
   "source": [
    "def train(X_train,Y_train,components=100):\n",
    "    # Models we will use\n",
    "    logistic = linear_model.LogisticRegression(solver='lbfgs', max_iter=10000,\n",
    "                                               multi_class='multinomial')\n",
    "    rbm = BernoulliRBM(random_state=0, verbose=True)\n",
    "\n",
    "    rbm_features_classifier = Pipeline(\n",
    "        steps=[('rbm', rbm), ('logistic', logistic)])\n",
    "\n",
    "    # #############################################################################\n",
    "    # Training\n",
    "\n",
    "    # Hyper-parameters. These were set by cross-validation,\n",
    "    # using a GridSearchCV. Here we are not performing cross-validation to\n",
    "    # save time.\n",
    "    rbm.learning_rate = 0.06\n",
    "    rbm.n_iter = 20\n",
    "    # More components tend to give better prediction performance, but larger\n",
    "    # fitting time\n",
    "    rbm.n_components = components\n",
    "    logistic.C = 6000\n",
    "\n",
    "    # Training RBM-Logistic Pipeline\n",
    "    rbm_features_classifier.fit(X_train, Y_train)\n",
    "\n",
    "    # Training the Logistic regression classifier directly on the pixel\n",
    "    raw_pixel_classifier = clone(logistic)\n",
    "    raw_pixel_classifier.C = 100.\n",
    "    raw_pixel_classifier.fit(X_train, Y_train)\n",
    "    return rbm_features_classifier, raw_pixel_classifier, rbm"
   ]
  },
  {
   "cell_type": "code",
   "execution_count": 6,
   "metadata": {},
   "outputs": [],
   "source": [
    "# #############################################################################\n",
    "# Evaluation\n",
    "def evaluation(X_test,Y_test,rbm_features_classifier, raw_pixel_classifier):\n",
    "    Y_pred = rbm_features_classifier.predict(X_test)\n",
    "    print(\"Logistic regression using RBM features:\\n%s\\n\" % (\n",
    "        metrics.classification_report(Y_test, Y_pred)))\n",
    "\n",
    "    Y_pred = raw_pixel_classifier.predict(X_test)\n",
    "    print(\"Logistic regression using raw pixel features:\\n%s\\n\" % (\n",
    "        metrics.classification_report(Y_test, Y_pred)))\n"
   ]
  },
  {
   "cell_type": "code",
   "execution_count": 7,
   "metadata": {},
   "outputs": [],
   "source": [
    "# #############################################################################\n",
    "# Plotting\n",
    "def plot_features(rbm):\n",
    "    plt.figure(figsize=(4.2, 4))\n",
    "    for i, comp in enumerate(rbm.components_):\n",
    "        plt.subplot(10, 10, i + 1)\n",
    "        plt.imshow(comp.reshape((8, 8)), cmap=plt.cm.gray_r,\n",
    "                   interpolation='nearest')\n",
    "        plt.xticks(())\n",
    "        plt.yticks(())\n",
    "    plt.suptitle('100 components extracted by RBM', fontsize=16)\n",
    "    plt.subplots_adjust(0.08, 0.02, 0.92, 0.85, 0.08, 0.23)\n",
    "\n",
    "    plt.show()"
   ]
  },
  {
   "cell_type": "code",
   "execution_count": 8,
   "metadata": {},
   "outputs": [],
   "source": [
    "X_train, X_test, Y_train, Y_test = load_data(augment=True)"
   ]
  },
  {
   "cell_type": "code",
   "execution_count": 14,
   "metadata": {},
   "outputs": [
    {
     "name": "stdout",
     "output_type": "stream",
     "text": [
      "[BernoulliRBM] Iteration 1, pseudo-likelihood = -25.39, time = 0.10s\n",
      "[BernoulliRBM] Iteration 2, pseudo-likelihood = -23.77, time = 0.20s\n",
      "[BernoulliRBM] Iteration 3, pseudo-likelihood = -22.94, time = 0.22s\n",
      "[BernoulliRBM] Iteration 4, pseudo-likelihood = -21.87, time = 0.20s\n",
      "[BernoulliRBM] Iteration 5, pseudo-likelihood = -21.69, time = 0.20s\n",
      "[BernoulliRBM] Iteration 6, pseudo-likelihood = -21.09, time = 0.20s\n",
      "[BernoulliRBM] Iteration 7, pseudo-likelihood = -21.13, time = 0.20s\n",
      "[BernoulliRBM] Iteration 8, pseudo-likelihood = -20.58, time = 0.21s\n",
      "[BernoulliRBM] Iteration 9, pseudo-likelihood = -20.52, time = 0.20s\n",
      "[BernoulliRBM] Iteration 10, pseudo-likelihood = -20.17, time = 0.21s\n",
      "[BernoulliRBM] Iteration 11, pseudo-likelihood = -20.07, time = 0.20s\n",
      "[BernoulliRBM] Iteration 12, pseudo-likelihood = -19.82, time = 0.20s\n",
      "[BernoulliRBM] Iteration 13, pseudo-likelihood = -19.55, time = 0.20s\n",
      "[BernoulliRBM] Iteration 14, pseudo-likelihood = -19.67, time = 0.20s\n",
      "[BernoulliRBM] Iteration 15, pseudo-likelihood = -19.68, time = 0.20s\n",
      "[BernoulliRBM] Iteration 16, pseudo-likelihood = -19.54, time = 0.20s\n",
      "[BernoulliRBM] Iteration 17, pseudo-likelihood = -19.51, time = 0.19s\n",
      "[BernoulliRBM] Iteration 18, pseudo-likelihood = -19.22, time = 0.20s\n",
      "[BernoulliRBM] Iteration 19, pseudo-likelihood = -19.32, time = 0.19s\n",
      "[BernoulliRBM] Iteration 20, pseudo-likelihood = -19.26, time = 0.19s\n",
      "CPU times: user 4min 51s, sys: 4min 8s, total: 8min 59s\n",
      "Wall time: 48.2 s\n"
     ]
    }
   ],
   "source": [
    "%%time\n",
    "rbm_features_classifier, raw_pixel_classifier, rbm = train(X_train,Y_train,components=100)"
   ]
  },
  {
   "cell_type": "code",
   "execution_count": 15,
   "metadata": {},
   "outputs": [
    {
     "name": "stdout",
     "output_type": "stream",
     "text": [
      "Logistic regression using RBM features:\n",
      "              precision    recall  f1-score   support\n",
      "\n",
      "         0.0       0.98      0.99      0.99       174\n",
      "         1.0       0.95      0.91      0.93       184\n",
      "         2.0       0.92      0.96      0.94       166\n",
      "         3.0       0.95      0.92      0.94       194\n",
      "         4.0       0.97      0.95      0.96       186\n",
      "         5.0       0.92      0.92      0.92       181\n",
      "         6.0       0.97      0.97      0.97       207\n",
      "         7.0       0.94      0.99      0.96       154\n",
      "         8.0       0.90      0.88      0.89       182\n",
      "         9.0       0.90      0.92      0.91       169\n",
      "\n",
      "    accuracy                           0.94      1797\n",
      "   macro avg       0.94      0.94      0.94      1797\n",
      "weighted avg       0.94      0.94      0.94      1797\n",
      "\n",
      "\n",
      "Logistic regression using raw pixel features:\n",
      "              precision    recall  f1-score   support\n",
      "\n",
      "         0.0       0.90      0.93      0.91       174\n",
      "         1.0       0.60      0.59      0.59       184\n",
      "         2.0       0.75      0.85      0.80       166\n",
      "         3.0       0.77      0.79      0.78       194\n",
      "         4.0       0.81      0.84      0.82       186\n",
      "         5.0       0.77      0.75      0.76       181\n",
      "         6.0       0.90      0.87      0.89       207\n",
      "         7.0       0.86      0.88      0.87       154\n",
      "         8.0       0.67      0.58      0.62       182\n",
      "         9.0       0.75      0.76      0.76       169\n",
      "\n",
      "    accuracy                           0.78      1797\n",
      "   macro avg       0.78      0.78      0.78      1797\n",
      "weighted avg       0.78      0.78      0.78      1797\n",
      "\n",
      "\n"
     ]
    }
   ],
   "source": [
    "evaluation(X_test,Y_test,rbm_features_classifier, raw_pixel_classifier)"
   ]
  },
  {
   "cell_type": "code",
   "execution_count": 23,
   "metadata": {},
   "outputs": [
    {
     "data": {
      "image/png": "[encoded data removed]",
      "text/plain": [
       "<Figure size 302.4x288 with 100 Axes>"
      ]
     },
     "metadata": {},
     "output_type": "display_data"
    }
   ],
   "source": [
    "plot_features(rbm)"
   ]
  },
  {
   "cell_type": "markdown",
   "metadata": {},
   "source": [
    " - > Να περιγράψετε σύντομα τον τρόπο λειτουργίας μιας RBM. Τι διαφορές έχει σε σχέση με μία Μηχανή Boltzmann;  \n",
    " \n",
    "Μια Restricted Boltzmann Machine είναι ένα παραγωγικό στοχαστικό νευρωνικό δίκτυο το οποίο μπορεί να ανακαλύψει features ανάλογα με το input που του δίνεται. Αποτελείται από δύο ειδών επίπεδα (layers), ορατά (visible) και κρυφά (hidden). Τα επίπεδα μεταξύ τους είναι fully connected δηλαδή συνδέονται, όμως νευρώνες ίδιου επιπέδου δεν συνδέονται μεταξύ τους. Κάθε νευρώνας παίρνει binary τιμές (0 ή 1). Σε λίγα λόγια, η διαδικασία της μάθησης ξεκινάει με την είσοδο των inputs στους ορατούς νευρώνες και μέσω gradient ascent προσδιορίζονται τα βάρη των νευρώνων όλων των επιπέδων, έτσι, τα hidden layers αποκτούν higher level στατιστικές ιδιότητες των δεδομένων. Στην συνέχεια οι νευρώνες αλληλεπιδρούν ελεύθερα και παράγουν στην έξοδο νέα δειγματικά στοιχεία. Το γεγονός ότι δεν υπάρχουν συνδέσεις μεταξύ νευρώνων των ίδιων επιπέδων, είναι η διαφορά των RBMs με τις μηχανές Boltzman, όπου εκεί όλοι οι νευρώνες συνδέονται με όλους, και αυτός είναι ο περιορισμός που τους δίνει τον όρο 'Restricted' στην ονομασία τους. Καταλαβαίνουμε ότι ο περιορισμός αυτός συμβάλλει στο να είναι πιο εφικτή η εκπαίδευση ενός τέτοιου δικτύου."
   ]
  },
  {
   "cell_type": "markdown",
   "metadata": {},
   "source": [
    " - > Να αναφέρετε τις βασικότερες εφαρμογές μιας RBM.   \n",
    " \n",
    " Οι RBMs βρίσκουν εφαρμογή στους περισσότερους κλάδους της μηχανικής μάθησης, όπως classification, dimensionality reduction, feature learning & pattern recognition. Επίσης, τα Deep Belief Networks χτίζονται με το stacking πολλών RBMs και βελτιστοποιώντας το βαθύ δίκτυο με backpropagation και gradient descent. "
   ]
  },
  {
   "cell_type": "markdown",
   "metadata": {},
   "source": [
    "- > Συγκρίνετε τα αποτελέσματα της ταξινόμησης με τον αλγόριθμo Logistic Regression χωρίς τη χρήση RBM σε σχέση με τα αποτελέσματα της ταξινόμησης που έχει χρησιμοποιηθεί η RBM για την εξαγωγή των χαρακτηριστικών. Τι παρατηρείτε ως προς την ακρίβεια των αποτελεσμάτων;"
   ]
  },
  {
   "cell_type": "markdown",
   "metadata": {},
   "source": [
    "Παρατηρούμε ότι:\n",
    " - Logistic Regression χωρίς τη χρήση RBM: **78% accuracy**\n",
    " - Logistic Regression με χρήση RBM: **94% accuracy**  \n",
    "Επομένως είναι εμφανές πως τα higher level RBM features βοηθούν στην ταξινόμηση και πετυχαίνουν υψηλότερη ακρίβεια απ'ότι οι εντάσεις των Raw Pixels."
   ]
  },
  {
   "cell_type": "markdown",
   "metadata": {},
   "source": [
    " - > Επιχειρήστε να αλλάξετε τον αριθμό των κρυφών νευρώνων (components) από 100 σε 200. Τι παρατηρείτε ως προς τα αποτελέσματα και τον χρόνο που έτρεξε το πρόγραμμα μέχρι να γίνει fit;"
   ]
  },
  {
   "cell_type": "code",
   "execution_count": 16,
   "metadata": {},
   "outputs": [
    {
     "name": "stdout",
     "output_type": "stream",
     "text": [
      "[BernoulliRBM] Iteration 1, pseudo-likelihood = -26.24, time = 0.19s\n",
      "[BernoulliRBM] Iteration 2, pseudo-likelihood = -24.17, time = 0.31s\n",
      "[BernoulliRBM] Iteration 3, pseudo-likelihood = -22.83, time = 0.31s\n",
      "[BernoulliRBM] Iteration 4, pseudo-likelihood = -22.50, time = 0.30s\n",
      "[BernoulliRBM] Iteration 5, pseudo-likelihood = -21.59, time = 0.30s\n",
      "[BernoulliRBM] Iteration 6, pseudo-likelihood = -21.43, time = 0.30s\n",
      "[BernoulliRBM] Iteration 7, pseudo-likelihood = -20.85, time = 0.29s\n",
      "[BernoulliRBM] Iteration 8, pseudo-likelihood = -20.76, time = 0.30s\n",
      "[BernoulliRBM] Iteration 9, pseudo-likelihood = -20.33, time = 0.29s\n",
      "[BernoulliRBM] Iteration 10, pseudo-likelihood = -20.27, time = 0.29s\n",
      "[BernoulliRBM] Iteration 11, pseudo-likelihood = -20.03, time = 0.29s\n",
      "[BernoulliRBM] Iteration 12, pseudo-likelihood = -19.83, time = 0.28s\n",
      "[BernoulliRBM] Iteration 13, pseudo-likelihood = -19.72, time = 0.29s\n",
      "[BernoulliRBM] Iteration 14, pseudo-likelihood = -19.61, time = 0.29s\n",
      "[BernoulliRBM] Iteration 15, pseudo-likelihood = -19.53, time = 0.30s\n",
      "[BernoulliRBM] Iteration 16, pseudo-likelihood = -19.50, time = 0.28s\n",
      "[BernoulliRBM] Iteration 17, pseudo-likelihood = -19.29, time = 0.29s\n",
      "[BernoulliRBM] Iteration 18, pseudo-likelihood = -19.10, time = 0.29s\n",
      "[BernoulliRBM] Iteration 19, pseudo-likelihood = -19.11, time = 0.29s\n",
      "[BernoulliRBM] Iteration 20, pseudo-likelihood = -18.99, time = 0.29s\n",
      "CPU times: user 6min 46s, sys: 4min 45s, total: 11min 31s\n",
      "Wall time: 1min 2s\n"
     ]
    }
   ],
   "source": [
    "%%time\n",
    "rbm_features_classifier, raw_pixel_classifier, rbm = train(X_train,Y_train,components=200)"
   ]
  },
  {
   "cell_type": "code",
   "execution_count": 17,
   "metadata": {},
   "outputs": [
    {
     "name": "stdout",
     "output_type": "stream",
     "text": [
      "Logistic regression using RBM features:\n",
      "              precision    recall  f1-score   support\n",
      "\n",
      "         0.0       0.97      0.98      0.97       174\n",
      "         1.0       0.95      0.94      0.94       184\n",
      "         2.0       0.94      0.99      0.96       166\n",
      "         3.0       0.98      0.93      0.95       194\n",
      "         4.0       0.98      0.95      0.96       186\n",
      "         5.0       0.93      0.93      0.93       181\n",
      "         6.0       0.98      0.96      0.97       207\n",
      "         7.0       0.93      0.98      0.95       154\n",
      "         8.0       0.89      0.88      0.88       182\n",
      "         9.0       0.91      0.95      0.93       169\n",
      "\n",
      "    accuracy                           0.95      1797\n",
      "   macro avg       0.95      0.95      0.95      1797\n",
      "weighted avg       0.95      0.95      0.95      1797\n",
      "\n",
      "\n",
      "Logistic regression using raw pixel features:\n",
      "              precision    recall  f1-score   support\n",
      "\n",
      "         0.0       0.90      0.93      0.91       174\n",
      "         1.0       0.60      0.59      0.59       184\n",
      "         2.0       0.75      0.85      0.80       166\n",
      "         3.0       0.77      0.79      0.78       194\n",
      "         4.0       0.81      0.84      0.82       186\n",
      "         5.0       0.77      0.75      0.76       181\n",
      "         6.0       0.90      0.87      0.89       207\n",
      "         7.0       0.86      0.88      0.87       154\n",
      "         8.0       0.67      0.58      0.62       182\n",
      "         9.0       0.75      0.76      0.76       169\n",
      "\n",
      "    accuracy                           0.78      1797\n",
      "   macro avg       0.78      0.78      0.78      1797\n",
      "weighted avg       0.78      0.78      0.78      1797\n",
      "\n",
      "\n"
     ]
    }
   ],
   "source": [
    "evaluation(X_test,Y_test,rbm_features_classifier, raw_pixel_classifier)"
   ]
  },
  {
   "cell_type": "markdown",
   "metadata": {},
   "source": [
    "Αυξάνοντας τον αριθμό των hidden components από 100 σε 200, τα αποτελέσματα είναι:\n",
    "- χωρίς RBMs: **78 accuracy** (ίδιο καθώς δεν επηρεάζεται)\n",
    "- με RBMs: **95% accuracy**\n",
    "Επομένως έχουμε 1% αύξηση στην ακρίβεια της ταξινόμησης, το οποίο είναι αναμενόμενο καθώς ένα βαθύτερο δίκτυο έχει μεγαλύτερη χωρητικότητα.  \n",
    "Όσον αφορά τον χρόνο που έκανε το πρόγραμμα να κάνει fit, παρατηρούμε ότι στα 100 components παίρνει περίπου $0.20\\ s $ για κάθε επανάληψη ενώ στα 200 components περίπου $0.30 \\ s$. Αθροιστικά, η συνολική εκπαίδευση στα 100 components κάνει $48 \\ s$ ενώ στα 200 components $1 \\ min \\ 2 \\ s$. Και αυτό είναι αναμενόμενο καθώς όσο αυξάνεται το βάθος του δικτύου πρέπει να υπολογιστούν περισσότερα βάρη."
   ]
  },
  {
   "cell_type": "markdown",
   "metadata": {},
   "source": [
    " - > Προσπαθήστε να τρέξετε το πρόγραμμα τρέξτε το πρόγραμμα εκ νέου με το κανονικό dataset. Τι παρατηρείτε ως προς την ακρίβεια των αποτελεσμάτων; Πού μπορεί να οφείλονται τυχόν αποκλίσεις σε σχέση με πριν;"
   ]
  },
  {
   "cell_type": "code",
   "execution_count": 8,
   "metadata": {},
   "outputs": [],
   "source": [
    "X_tr, X_te, Y_tr, Y_te = load_data(augment=False)"
   ]
  },
  {
   "cell_type": "code",
   "execution_count": 21,
   "metadata": {},
   "outputs": [
    {
     "name": "stdout",
     "output_type": "stream",
     "text": [
      "[BernoulliRBM] Iteration 1, pseudo-likelihood = -27.63, time = 0.02s\n",
      "[BernoulliRBM] Iteration 2, pseudo-likelihood = -27.03, time = 0.12s\n",
      "[BernoulliRBM] Iteration 3, pseudo-likelihood = -25.98, time = 0.11s\n",
      "[BernoulliRBM] Iteration 4, pseudo-likelihood = -25.09, time = 0.13s\n",
      "[BernoulliRBM] Iteration 5, pseudo-likelihood = -23.97, time = 0.07s\n",
      "[BernoulliRBM] Iteration 6, pseudo-likelihood = -23.77, time = 0.05s\n",
      "[BernoulliRBM] Iteration 7, pseudo-likelihood = -23.52, time = 0.05s\n",
      "[BernoulliRBM] Iteration 8, pseudo-likelihood = -22.80, time = 0.06s\n",
      "[BernoulliRBM] Iteration 9, pseudo-likelihood = -22.38, time = 0.06s\n",
      "[BernoulliRBM] Iteration 10, pseudo-likelihood = -22.40, time = 0.06s\n",
      "[BernoulliRBM] Iteration 11, pseudo-likelihood = -22.75, time = 0.07s\n",
      "[BernoulliRBM] Iteration 12, pseudo-likelihood = -22.31, time = 0.06s\n",
      "[BernoulliRBM] Iteration 13, pseudo-likelihood = -21.91, time = 0.06s\n",
      "[BernoulliRBM] Iteration 14, pseudo-likelihood = -22.29, time = 0.06s\n",
      "[BernoulliRBM] Iteration 15, pseudo-likelihood = -22.10, time = 0.08s\n",
      "[BernoulliRBM] Iteration 16, pseudo-likelihood = -21.64, time = 0.06s\n",
      "[BernoulliRBM] Iteration 17, pseudo-likelihood = -21.40, time = 0.06s\n",
      "[BernoulliRBM] Iteration 18, pseudo-likelihood = -21.32, time = 0.06s\n",
      "[BernoulliRBM] Iteration 19, pseudo-likelihood = -21.24, time = 0.06s\n",
      "[BernoulliRBM] Iteration 20, pseudo-likelihood = -20.92, time = 0.06s\n"
     ]
    }
   ],
   "source": [
    "rbm_features_classifier, raw_pixel_classifier, rbm = train(X_tr,Y_tr,components=100)"
   ]
  },
  {
   "cell_type": "code",
   "execution_count": 24,
   "metadata": {},
   "outputs": [
    {
     "name": "stdout",
     "output_type": "stream",
     "text": [
      "Logistic regression using RBM features:\n",
      "              precision    recall  f1-score   support\n",
      "\n",
      "         0.0       1.00      1.00      1.00        27\n",
      "         1.0       0.91      0.91      0.91        35\n",
      "         2.0       0.97      0.92      0.94        36\n",
      "         3.0       0.93      0.97      0.95        29\n",
      "         4.0       0.94      0.97      0.95        30\n",
      "         5.0       0.95      0.97      0.96        40\n",
      "         6.0       0.96      0.98      0.97        44\n",
      "         7.0       0.93      0.95      0.94        39\n",
      "         8.0       0.97      0.87      0.92        39\n",
      "         9.0       0.93      0.95      0.94        41\n",
      "\n",
      "    accuracy                           0.95       360\n",
      "   macro avg       0.95      0.95      0.95       360\n",
      "weighted avg       0.95      0.95      0.95       360\n",
      "\n",
      "\n",
      "Logistic regression using raw pixel features:\n",
      "              precision    recall  f1-score   support\n",
      "\n",
      "         0.0       1.00      1.00      1.00        27\n",
      "         1.0       0.91      0.89      0.90        35\n",
      "         2.0       0.97      0.97      0.97        36\n",
      "         3.0       0.97      1.00      0.98        29\n",
      "         4.0       0.97      0.97      0.97        30\n",
      "         5.0       0.97      0.93      0.95        40\n",
      "         6.0       0.98      0.98      0.98        44\n",
      "         7.0       0.97      0.97      0.97        39\n",
      "         8.0       0.92      0.92      0.92        39\n",
      "         9.0       0.91      0.95      0.93        41\n",
      "\n",
      "    accuracy                           0.96       360\n",
      "   macro avg       0.96      0.96      0.96       360\n",
      "weighted avg       0.96      0.96      0.96       360\n",
      "\n",
      "\n"
     ]
    }
   ],
   "source": [
    "evaluation(X_te,Y_te,rbm_features_classifier, raw_pixel_classifier)"
   ]
  },
  {
   "cell_type": "markdown",
   "metadata": {},
   "source": [
    "Τα αποτελέσματα στο αρχικό dataset δηλαδή χωρίς να έχουμε εφαρμόσει data augmentation, είναι τα εξής:    \n",
    "\n",
    " - Χωρίς RBMs: **96% accuracy**\n",
    " - Με RBMs: **95% accuracy**\n",
    "\n",
    "Το συμπέρασμα είναι ότι στο αρχικό dataset πετυχαίνουμε καλύτερα αποτελέσματα και με τις δύο μεθόδους, από ότι στο nudged dataset.  Το πρόβλημα με το να πειράξουμε το αρχικό dataset, είναι ότι χρησιμοποιώντας raw pixel intensities σαν feature vectors, έστω και μια μικρή διαταραχή στην εικόνα μπορεί να ρίξει το accuracy. Αυτό επιβεβαιώνεται καθώς σε raw pixels ο logistic regression πέτυχε 78% στο nudged dataset ενώ πέτυχε 96% στο αρχικό dataset. Χρησιμοποιώντας τα RBM features ως features vectors, βλέπουμε ότι το accuracy στο nudged dataset είναι 94% στο αρχικό dataset ενώ 95% στο αρχικό, επομένως συμπεραίνουμε ότι η χρήση αυτών των higher level feautures των RBM είναι πιο σταθερή και αξιόπιστη καθώς δεν επηρεάζεται από μικρές μεταβολές στο αρχικό dataset.  \n",
    "\n",
    "Αυτό μας δείχνει ότι όταν χειριζόμαστε raw pixels ως feauture vectors θέλει προσοχή."
   ]
  }
 ],
 "metadata": {
  "colab": {
   "collapsed_sections": [],
   "name": "Stochastic_Processes_&_Optimization_in_Machine_Learning_(Lab_5_RBM).ipynb",
   "provenance": []
  },
  "kernelspec": {
   "display_name": "Python 3",
   "language": "python",
   "name": "python3"
  },
  "language_info": {
   "codemirror_mode": {
    "name": "ipython",
    "version": 3
   },
   "file_extension": ".py",
   "mimetype": "text/x-python",
   "name": "python",
   "nbconvert_exporter": "python",
   "pygments_lexer": "ipython3",
   "version": "3.8.5"
  }
 },
 "nbformat": 4,
 "nbformat_minor": 1
}
