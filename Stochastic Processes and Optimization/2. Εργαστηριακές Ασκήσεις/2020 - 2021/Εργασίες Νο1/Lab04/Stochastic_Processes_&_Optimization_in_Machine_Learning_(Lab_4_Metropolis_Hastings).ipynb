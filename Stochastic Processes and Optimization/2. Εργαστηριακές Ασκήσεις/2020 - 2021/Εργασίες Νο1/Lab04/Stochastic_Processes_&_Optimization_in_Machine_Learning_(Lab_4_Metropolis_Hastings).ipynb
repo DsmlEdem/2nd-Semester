{
 "cells": [
  {
   "cell_type": "markdown",
   "metadata": {},
   "source": [
    "# [Νικόλαος Μανιάτης](mailto:nikolaosmaniatis@mail.ntua.gr)\n",
    "# Α.Μ.: 03400097 "
   ]
  },
  {
   "cell_type": "markdown",
   "metadata": {
    "id": "fgR5Xn5gWfzW"
   },
   "source": [
    "<h1><b>Ο Αλγόριθμος <i>Metropolis-Hastings</i></b></h1>"
   ]
  },
  {
   "cell_type": "markdown",
   "metadata": {
    "id": "dJG2P4dG28aQ"
   },
   "source": [
    "<b>Σημείωση</b>: Η άσκηση αυτή έχει βασιστεί στο άρθρο που μπορεί να βρεθεί <a href=\"https://www.tweag.io/blog/2019-10-25-mcmc-intro1/\">εδώ</a>. Στο συγκεκριμένο άρθρο μπορεί να βρεθεί μια πιο αναλυτική εισαγωγή στις μεθόδους <b><i>Monte Carlo Markov Chain</i> (<i>MCMC</i>)</b> και στον αλγόριθμο <b><i>Metropolis-Hastings</i></b>, καθώς και συνοδευτικά άρθρα για πιο προχωρημένα ζητήματα.\n"
   ]
  },
  {
   "cell_type": "markdown",
   "metadata": {
    "id": "wu6jgshaWfzc"
   },
   "source": [
    "Στην άσκηση αυτή θα μελετήσετε τον αλγόριθμο <b><i>Metropolis-Hastings</i></b>. Συγκεκριμένα, θα χρησιμοποιήσετε τον αλγόριθμο για να λάβετε δειγματικά στοιχεία (sampling points) από μία <b><i>τυπική κανονική κατανομή</i> (<i>standard normal distribution</i>)</b>, δηλαδή μία κανονική κατανομή συνεχούς τυχαίας μεταβλητής με μέση τιμή $μ=0$ και τυπική απόκλιση $σ=1$. \n",
    "\n",
    "Ως <b><i>proposal conditional density</i></b> θα λάβετε μία ομοιόμορφη κατανομή στο διάστημα $(-\\frac{Δ}{2}, \\frac{Δ}{2})$. Αφού η <b><i>proposal conditional density</i></b> που θα χρησιμοποιήσετε είναι μία συμμετρική κατανομή, ο αλγόριθμος <b><i>Metropolis-Hastings</i></b> θα λάβει την απλοποιημένη μορφή του, δηλαδή η πιθανότητα να πραγματοποιήσετε μία μετάβαση από την κατάσταση $x_{old}$ στην κατάσταση $x_{new}$ για μια κατανομή $π$ θα δίνεται από τον παρακάτω τύπο:\n",
    "\n",
    "$$\n",
    "p_{accept}(x_{new} | x_{old}) = min\\left[1, \\frac{π(x_{new})}{π(x_{old})}\\right]\n",
    "$$"
   ]
  },
  {
   "cell_type": "markdown",
   "metadata": {
    "id": "QpQ31sK7JnBf"
   },
   "source": [
    "Αναλυτικές οδηγίες σχετικά με το πώς προκύπτει ο παραπάνω τύπος περιλαμβάνονται στις διαφάνειες του μαθήματος, αλλά και στο άρθρο πάνω στο οποίο βασίστηκε η συγκεκριμένη άσκηση."
   ]
  },
  {
   "cell_type": "markdown",
   "metadata": {
    "id": "EwONS746Wfzm"
   },
   "source": [
    "<h3><b>Υλοποίηση του Αλγορίθμου <i>Metropolis-Hastings</i> σε Python</b></h3>"
   ]
  },
  {
   "cell_type": "markdown",
   "metadata": {
    "id": "9KKExkzlWfzn"
   },
   "source": [
    "Αρχικά, θα ορίσουμε τη μέθοδο <b><i>log_prob</i></b>, η οποία θα χρησιμοποιηθεί για τον υπολογισμό τιμών από την <b><i>τυπική κανονική κατανομή</i></b>. Να σημειωθεί ότι λαμβάνεται ο λογάριθμος της κατανομής αυτής. Ο λογάριθμος αυτός μπορεί να υπολογιστεί εύκολα από τον τύπο της <b><i>τυπικής κανονικής κατανομής</i></b>, που είναι διαθέσιμος από <a href=\"https://en.wikipedia.org/wiki/Normal_distribution#Standard_normal_distribution\">εδώ</a>. Λόγοι για τους οποίους προτιμάται αυτή η μορφή μπορούν να αναζητηθούν <a href=\"https://stats.stackexchange.com/questions/137710/metropolis-hastings-using-log-of-the-density\">εδώ</a>. Τέλος, οι σταθερές μπορούν να αγνοηθούν από τον τύπο με ασφάλεια λόγω της μορφή του αλγορίθμου <b><i>Metropolis-Hastings</i></b>."
   ]
  },
  {
   "cell_type": "markdown",
   "metadata": {},
   "source": [
    " > Παραθέτω τις πράξεις για καλύτερη κατανόηση:\n",
    "Η κανονική κατανομή δίνεται από την σχέση: \n",
    "$$\\varphi(x) = \\frac{e^{-\\frac{x^2}{2}}}{\\sqrt{2\\pi}}$$\n",
    "όπου παίρνοντας τον λογάριθμο της και εφαρμόζοντας ιδιότητες λογαρίθμων:\n",
    "$$ \\log(\\varphi(x))  = -\\frac{1}{2}(x^2 + \\log(2\\pi) ) $$\n",
    "άρα, όπως αναφέρθηκε, αγνοούμε τις σταθερές καθώς για τον αλγόριθμο Metropolis-Hastings δεν είναι απαραίτητο να ξέρουμε την συνάρτηση κανονικοποίησης της κατανομής που θέλουμε να δειγματοληπτήσουμε.  "
   ]
  },
  {
   "cell_type": "code",
   "execution_count": 1,
   "metadata": {
    "execution": {
     "iopub.execute_input": "2021-04-05T16:15:53.995276Z",
     "iopub.status.busy": "2021-04-05T16:15:53.995276Z",
     "iopub.status.idle": "2021-04-05T16:15:54.005309Z",
     "shell.execute_reply": "2021-04-05T16:15:54.004310Z",
     "shell.execute_reply.started": "2021-04-05T16:15:53.995276Z"
    },
    "id": "Kqenb5leWfzn"
   },
   "outputs": [],
   "source": [
    "def log_prob(x):\n",
    "     return -0.5 * np.float64(x ** 2)"
   ]
  },
  {
   "cell_type": "markdown",
   "metadata": {
    "id": "_KPjDlPwWfzn"
   },
   "source": [
    "Στη συνέχεια, ορίζουμε τη μέθοδο <b><i>proposal</i></b>, η οποία θα χρησιμοποιηθεί για τον υπολογισμό τιμών από την ομοιόμορφη κατανομή, η οποία αποτελεί την <b><i>proposal conditional density</i></b>."
   ]
  },
  {
   "cell_type": "code",
   "execution_count": 2,
   "metadata": {
    "execution": {
     "iopub.execute_input": "2021-04-05T16:15:54.850575Z",
     "iopub.status.busy": "2021-04-05T16:15:54.850575Z",
     "iopub.status.idle": "2021-04-05T16:15:54.868065Z",
     "shell.execute_reply": "2021-04-05T16:15:54.867058Z",
     "shell.execute_reply.started": "2021-04-05T16:15:54.850575Z"
    },
    "id": "Dp9BlafdWfzo"
   },
   "outputs": [],
   "source": [
    "def proposal(x, stepsize):\n",
    "    return np.random.uniform(low=x - 0.5 * stepsize, \n",
    "                             high=x + 0.5 * stepsize, \n",
    "                             size=x.shape)"
   ]
  },
  {
   "cell_type": "markdown",
   "metadata": {
    "id": "Z40PXGMAWfzo"
   },
   "source": [
    "Η πιθανότητα αποδοχής μιας νέας κατάστασης $x_{new}$ δεδομένης της τρέχουσας κατάστασης $x_{old}$ υπολογίζεται από τη παρακάτω μέθοδο. Να σημειωθεί πως στη συγκεκριμένη μέθοδο, ο τύπος $p_{accept}$ που δόθηκε παραπάνω έχει τροποποιηθεί κατάλληλα, ώστε να μην εμφανίζονται αρνητικές τιμές. Οι δύο μορφές του τύπου είναι ισοδύναμες, καθώς σημασία έχει η σύγκριση δύο τιμών και όχι οι ακριβείς τιμές, όπως φαίνεται από τον παραπάνω τύπο."
   ]
  },
  {
   "cell_type": "code",
   "execution_count": 3,
   "metadata": {
    "execution": {
     "iopub.execute_input": "2021-04-05T16:16:03.495405Z",
     "iopub.status.busy": "2021-04-05T16:16:03.495405Z",
     "iopub.status.idle": "2021-04-05T16:16:03.506406Z",
     "shell.execute_reply": "2021-04-05T16:16:03.505404Z",
     "shell.execute_reply.started": "2021-04-05T16:16:03.495405Z"
    },
    "id": "EAqqwcrvWfzo"
   },
   "outputs": [],
   "source": [
    "def p_acc_MH(x_new, x_old, log_prob):\n",
    "    return min(1, np.exp(log_prob(x_new) - log_prob(x_old)))"
   ]
  },
  {
   "cell_type": "markdown",
   "metadata": {
    "id": "HbcWIf8OWfzo"
   },
   "source": [
    "Στη συνέχεια, υλοποιείται η μέθοδος με την οποία θα αποφασίζει ο αλγόριθμος <b><i>Metropolis-Hastings</i></b> εάν θα γίνει δεκτό ένα προτεινόμενο βήμα."
   ]
  },
  {
   "cell_type": "code",
   "execution_count": 4,
   "metadata": {
    "execution": {
     "iopub.execute_input": "2021-04-05T16:19:02.181449Z",
     "iopub.status.busy": "2021-04-05T16:19:02.181449Z",
     "iopub.status.idle": "2021-04-05T16:19:02.415450Z",
     "shell.execute_reply": "2021-04-05T16:19:02.415450Z",
     "shell.execute_reply.started": "2021-04-05T16:19:02.181449Z"
    },
    "id": "PDQZIaGaWfzp"
   },
   "outputs": [],
   "source": [
    "import numpy as np\n",
    "def sample_MH(x_old, log_prob, stepsize):\n",
    "    x_new = proposal(x_old, stepsize)\n",
    "    accept = np.random.random() < p_acc_MH(x_new, x_old, log_prob)\n",
    "    if accept:\n",
    "        return accept, x_new\n",
    "    else:\n",
    "        return accept, x_old"
   ]
  },
  {
   "cell_type": "markdown",
   "metadata": {
    "id": "GOMPZAl4Wfzp"
   },
   "source": [
    "Τέλος, ορίζεται μία συνάρτηση που μετράει πόσες φορές έγιναν αποδεκτά τα προτεινόμενα βήματα."
   ]
  },
  {
   "cell_type": "code",
   "execution_count": 5,
   "metadata": {
    "execution": {
     "iopub.execute_input": "2021-04-05T16:20:53.515239Z",
     "iopub.status.busy": "2021-04-05T16:20:53.515239Z",
     "iopub.status.idle": "2021-04-05T16:20:53.528412Z",
     "shell.execute_reply": "2021-04-05T16:20:53.527401Z",
     "shell.execute_reply.started": "2021-04-05T16:20:53.515239Z"
    },
    "id": "InhB04mDWfzp"
   },
   "outputs": [],
   "source": [
    "def build_MH_chain(init, stepsize, n_total, log_prob):\n",
    "\n",
    "    n_accepted = 0\n",
    "    chain = [init]\n",
    "\n",
    "    for _ in range(n_total):\n",
    "        accept, state = sample_MH(chain[-1], log_prob, stepsize)\n",
    "        chain.append(state)\n",
    "        n_accepted += accept\n",
    "    \n",
    "    acceptance_rate = n_accepted / float(n_total)\n",
    "    \n",
    "    return chain, acceptance_rate"
   ]
  },
  {
   "cell_type": "markdown",
   "metadata": {
    "id": "T41QzggA_XCz"
   },
   "source": [
    "<h3><b>Ερωτήματα (Μέρος Α)</b></h3>\n",
    "\n",
    "<ul>\n",
    "<li>Με ποιον τρόπο αποφασίζει ο αλγόριθμος <b><i>Metropolis-Hastings</i></b> εάν θα γίνει δεκτό ένα προτεινόμενο βήμα; Να εξηγήσετε συνοπτικά βάσει των παραπάνω μεθόδων.</li>\n",
    "<li>Με ποιον τρόπο αξιοποιούνται οι <b><i>αλυσίδες Markov</i> (<i>Markov Chains</i>)</b> από τον αλγόριθμο <b><i>Metropolis-Hastings</i></b> για τη λήψη τυχαίων δειγματικών σημείων από μία κατανομή πιθανοτήτων;</li>\n",
    "<li>Ο αλγόριθμος <b><i>Metropolis-Hastings</i></b> χρησιμοποιείται για τη λήψη τυχαίου δείγματος από μία κατανομή πιθανοτήτων για την οποία είναι αδύνατο να λάβουμε τέτοια δειγματικά στοιχεία λόγω αδυναμίας πλήρους καταγραφής του δειγματικού χώρου ή/και υπολογισμού κάποιας <b><i>σταθεράς κανονικοποίησης</i></b> που εμφανίζεται στην κατανομή. Έτσι, λαμβάνεται ως <b><i>κατανομή στόχος</i></b> μία κατανομή που έχει γνωστή μορφή, ανάλογη με την κατανομή από την οποία θέλουμε να λάβουμε τα δειγματικά στοιχεία. Με ποιον τρόπο καταφέρνει ο αλγόριθμος <b><i>Metropolis-Hastings</i></b> να δώσει αποτελέσματα παρά το γεγονός ότι αγνοεί τη <b><i>σταθερά κανονικοποίησης</i></b>;\n",
    "</ul>\n",
    "\n",
    "----------------------------------"
   ]
  },
  {
   "cell_type": "markdown",
   "metadata": {},
   "source": [
    " - > Με ποιον τρόπο αποφασίζει ο αλγόριθμος Metropolis-Hastings εάν θα γίνει δεκτό ένα προτεινόμενο βήμα; Να εξηγήσετε συνοπτικά βάσει των παραπάνω μεθόδων.\n",
    " \n",
    "Έστω ότι βρισκόμαστε στην κατάσταση $x_{t}$. Ο αλγόριθμος επιλέγει έναν τυχαίο δείγμα $x_{new}$ από την proposed κατανομή, στην περίπτωσή μας την ομοιόμορφη στο $[-\\frac{\\Delta}{2},+\\frac{\\Delta}{2}]$. Για να γίνει δεκτό ένα προτεινόμενο βήμα, ο αλγόριθμος υπολογίζει την πιθανότητα αποδοχής που δίνεται από την σχέση: $p_{acc} = \\min\\{1, e^{-\\frac{1}{2}(x_{new}^2 - x_{t}^2)} \\}$, στην πορεία δημιουργεί έναν τυχαίο αριθμό $u$ στο διάστημα $[0,1]$, και εξετάζει την συνθήκη $u \\leq p_{acc}$. Αν αυτή η συνθήκη είναι αληθής (στο πρόγραμμα αν η μεταβλητή `accept` είναι True) τότε το βήμα γίνεται δεκτό και $x_{new} = x_{t+1}$, αν δεν ισχύει, δηλαδή $u > p_{acc}$ τότε το βήμα απορρίπτεται και $x_{t+1}=x_t$.\n",
    "\n",
    "Διαισθητικά, για να καταλάβουμε γιατί δουλεύει αυτό, ο λόγος $\\frac{π(x_{new})}{π(x_{old})}$ εκφράζει πόσο πιθανό είναι το νέο σημείο σε σχέση με το τρέχον (ή πόσο υψηλότερης πυκνότητας είναι η νέα περιοχή). Αν αυτός ο λόγος είναι μεγαλύτερος της μονάδας, τότε $p_{acc}=1$ και πάντα θα δεχόμαστε ένα τέτοιο σημείο. Αντίθετα, αν ο λόγος αυτός είναι μικρότερος της μονάδας, τότε σημαίνει ότι κινούμαστε προς ένα λιγότερο πιθανό σημείο (ή σε σημείο χαμηλότερης πυκνότητας), και κάποιες φορές αυτή η κίνηση θα απορρίπτεται."
   ]
  },
  {
   "cell_type": "markdown",
   "metadata": {},
   "source": [
    " - > Με ποιον τρόπο αξιοποιούνται οι αλυσίδες Markov (Markov Chains) από τον αλγόριθμο Metropolis-Hastings για τη λήψη τυχαίων δειγματικών σημείων από μία κατανομή πιθανοτήτων;\n",
    " \n",
    "Ο αλγόριθμος Metropolis-Hastings δημιουργεί ακολουθία δειγμάτων με επαναληπτικό τρόπο, όπου η κατανομή του επόμενου δείγματος εξαρτάται **μόνο** από το τρέχον δείγμα, κάνοντας έτσι την αλληλουχία των δειγμάτων μια αλυσίδα Markov. Ουσιαστικά, σε κάθε επανάληψη, υπολογίζεται μια αναλλοίωτη."
   ]
  },
  {
   "cell_type": "markdown",
   "metadata": {},
   "source": [
    " - > Ο αλγόριθμος Metropolis-Hastings χρησιμοποιείται για τη λήψη τυχαίου δείγματος από μία κατανομή πιθανοτήτων για την οποία είναι αδύνατο να λάβουμε τέτοια δειγματικά στοιχεία λόγω αδυναμίας πλήρους καταγραφής του δειγματικού χώρου ή/και υπολογισμού κάποιας σταθεράς κανονικοποίησης που εμφανίζεται στην κατανομή. Έτσι, λαμβάνεται ως κατανομή στόχος μία κατανομή που έχει γνωστή μορφή, ανάλογη με την κατανομή από την οποία θέλουμε να λάβουμε τα δειγματικά στοιχεία. Με ποιον τρόπο καταφέρνει ο αλγόριθμος Metropolis-Hastings να δώσει αποτελέσματα παρά το γεγονός ότι αγνοεί τη σταθερά κανονικοποίησης;\n",
    "\n",
    "Όπως είδαμε στην πρώτη ερώτηση, ο αλγόριθμος Metropolis Hastings λαμβάνει αποφάσεις σχετικά με την αποδοχή ή απόρριψη του καινούριου δείγματος με βάση την πυκνότητα της κατανομής σε αυτά τα σημεία. Συγκεκριμένα, υπολογίζει τον λόγο $\\frac{π(x_{new})}{π(x_{old})}$ (acceptance ratio). Αυτό δεν απαιτεί την γνώση κάποιας σταθεράς κανονικοποίσης. Ακόμα και αν την γνωρίζαμε, και αυτή ήταν για παράδειγμα $C$ ώστε να ισχύει $P(x) = C\\pi(x)$, τότε ο λόγος: \n",
    "$$\\frac{P(x_{new})}{P(x_{old})} = \\frac{Cπ(x_{new})}{Cπ(x_{old})} = \\frac{π(x_{new})}{π(x_{old})}$$ \n",
    "επομένως δεν είναι απαραίτηση η γνώση της σταθεράς κανονικοποίησης.\n",
    "\n",
    "-------------------"
   ]
  },
  {
   "cell_type": "markdown",
   "metadata": {
    "id": "2RknVi31Wfzq"
   },
   "source": [
    "<h3><b>Δοκιμές του Αλγορίθμου <i>Metropolis-Hastings</i></b></h3>"
   ]
  },
  {
   "cell_type": "markdown",
   "metadata": {
    "id": "JN2tzR_s_Qiz"
   },
   "source": [
    "Το παρακάτω τμήμα κώδικα ασχολείται με την κλήση των παραπάνω μεθόδων και την οπτικοποίηση των αποτελεσμάτων."
   ]
  },
  {
   "cell_type": "code",
   "execution_count": 13,
   "metadata": {
    "execution": {
     "iopub.execute_input": "2021-04-05T16:24:58.002958Z",
     "iopub.status.busy": "2021-04-05T16:24:58.002958Z",
     "iopub.status.idle": "2021-04-05T16:24:58.034135Z",
     "shell.execute_reply": "2021-04-05T16:24:58.033133Z",
     "shell.execute_reply.started": "2021-04-05T16:24:58.002958Z"
    },
    "id": "UNkB0I4JWfzs"
   },
   "outputs": [],
   "source": [
    "%matplotlib notebook\n",
    "%matplotlib inline\n",
    "import numpy as np\n",
    "import matplotlib.pyplot as plt\n",
    "plt.rcParams['figure.figsize'] = [10, 6]\n",
    "np.random.seed(42)\n",
    "\n",
    "def plot_samples(chain, log_prob, ax, orientation='vertical', normalize=True,\n",
    "                 xlims=(-5, 5), legend=True):\n",
    "    from scipy.integrate import quad\n",
    "    \n",
    "    ax.hist(chain, bins=50, density=True, label=\"MCMC samples\",\n",
    "           orientation=orientation)\n",
    "    # we numerically calculate the normalization constant of our PDF\n",
    "    if normalize:\n",
    "        Z, _ = quad(lambda x: np.exp(log_prob(x)), -np.inf, np.inf)\n",
    "    else:\n",
    "        Z = 1.0\n",
    "    xses = np.linspace(xlims[0], xlims[1], 1000)\n",
    "    yses = [np.exp(log_prob(x)) / Z for x in xses]\n",
    "    if orientation == 'horizontal':\n",
    "        (yses, xses) = (xses, yses)\n",
    "    ax.plot(xses, yses, label=\"true distribution\")\n",
    "    if legend:\n",
    "        ax.legend(frameon=False)\n",
    "\n",
    "def sample_and_display(init_state, stepsize, n_total, n_burnin, log_prob):\n",
    "    chain, acceptance_rate = build_MH_chain(init_state, stepsize, n_total, log_prob)\n",
    "    print(\"Acceptance rate: {:.3f}\".format(acceptance_rate))\n",
    "    fig, ax = plt.subplots()\n",
    "    plot_samples([state for state, in chain[n_burnin:]], log_prob, ax)\n",
    "    ax.set_yticks(())\n",
    "    plt.show()"
   ]
  },
  {
   "cell_type": "markdown",
   "metadata": {
    "id": "LjjLBOtqWfzt"
   },
   "source": [
    "Το αποτέλεσμα που περιμένετε να δείτε από τη συγκεκριμένη άσκηση είναι ότι ο αλγόριθμος <b><i>Metropolis-Hastings</i></b> θα σας επιστρέψει δειγματικά στοιχεία τα οποία θα ακολουθούν <b><i>τυπική κανονική κατανομή</i></b>.\n",
    "\n",
    "Εκτελέστε την παρακάτω μέθοδο για μέγεθος βήματος $Δ = 3.0$ και συνολικό αριθμό βημάτων $10000$. Παρατηρήστε ότι η κατανομή που προκύπτει είναι πολύ κοντά σε μία <b><i>τυπική κανονική</i></b>, ενώ το ποσοστό των βημάτων που έγιναν δεκτά από τον αλγόριθμο <b><i>Metropolis-Hastings</i></b> είναι περίπου $70$%."
   ]
  },
  {
   "cell_type": "code",
   "execution_count": 14,
   "metadata": {
    "colab": {
     "base_uri": "https://localhost:8080/",
     "height": 391
    },
    "execution": {
     "iopub.execute_input": "2021-04-05T16:24:58.596033Z",
     "iopub.status.busy": "2021-04-05T16:24:58.596033Z",
     "iopub.status.idle": "2021-04-05T16:24:59.160150Z",
     "shell.execute_reply": "2021-04-05T16:24:59.160150Z",
     "shell.execute_reply.started": "2021-04-05T16:24:58.596033Z"
    },
    "id": "0u1cCGI89sn-",
    "outputId": "2c4e0c80-abec-4614-b1e3-f114d6069f0d"
   },
   "outputs": [
    {
     "name": "stdout",
     "output_type": "stream",
     "text": [
      "Acceptance rate: 0.718\n"
     ]
    },
    {
     "data": {
      "image/png": "[encoded data removed]",
      "text/plain": [
       "<Figure size 720x432 with 1 Axes>"
      ]
     },
     "metadata": {
      "needs_background": "light"
     },
     "output_type": "display_data"
    }
   ],
   "source": [
    "sample_and_display(np.array([2.0]), 3.0, 10000, 500, log_prob)"
   ]
  },
  {
   "cell_type": "markdown",
   "metadata": {
    "id": "DO1MzngkFazw"
   },
   "source": [
    "---------------\n",
    "\n",
    "<h3><b>Ερωτήματα (Μέρος Β)</b></h3>\n",
    "\n",
    "Να επαναλάβετε για $Δ=30$ και συνολικό αριθμό βημάτων $10000$. Τι παρατηρείτε ότι συμβαίνει στην περίπτωση που χρησιμοποιείτε ένα πολύ μεγάλο βήμα, δηλαδή πολύ μεγάλη τιμή για την παράμετρο $Δ$; Να επαναλάβετε για $Δ=300$, $Δ=3000$ και $Δ=30000$, ώστε να επιβεβαιώσετε το συμπέρασμά σας. Σχολιάστε και το ποσοστό των αποδεκτών βημάτων.\n",
    "\n",
    "--------------"
   ]
  },
  {
   "cell_type": "markdown",
   "metadata": {},
   "source": [
    "**Σημείωση**: σε όλα τα πειράματα αυτού του μέρους θέσαμε `n_burnin = 0` καθώς δεν εξετάζουμε αυτή τη λειτουργία εδώ."
   ]
  },
  {
   "cell_type": "markdown",
   "metadata": {},
   "source": [
    " - $\\Delta = 30$ και συνολικός αριθμός βημάτων: $10,000$"
   ]
  },
  {
   "cell_type": "code",
   "execution_count": 15,
   "metadata": {
    "colab": {
     "base_uri": "https://localhost:8080/",
     "height": 391
    },
    "execution": {
     "iopub.execute_input": "2021-04-05T16:25:05.014125Z",
     "iopub.status.busy": "2021-04-05T16:25:05.012918Z",
     "iopub.status.idle": "2021-04-05T16:25:05.549993Z",
     "shell.execute_reply": "2021-04-05T16:25:05.549029Z",
     "shell.execute_reply.started": "2021-04-05T16:25:05.014125Z"
    },
    "id": "Jf-OoUopWfzu",
    "outputId": "6c9e5d34-9d7a-4a5d-b82e-a5ef71b38ae9"
   },
   "outputs": [
    {
     "name": "stdout",
     "output_type": "stream",
     "text": [
      "Acceptance rate: 0.111\n"
     ]
    },
    {
     "data": {
      "image/png": "[encoded data removed]",
      "text/plain": [
       "<Figure size 720x432 with 1 Axes>"
      ]
     },
     "metadata": {
      "needs_background": "light"
     },
     "output_type": "display_data"
    }
   ],
   "source": [
    "sample_and_display(np.array([2.0]), 30, 10000, 0, log_prob)"
   ]
  },
  {
   "cell_type": "markdown",
   "metadata": {},
   "source": [
    "- $\\Delta = 300$ και συνολικός αριθμός βημάτων: $10,000$"
   ]
  },
  {
   "cell_type": "code",
   "execution_count": 16,
   "metadata": {
    "execution": {
     "iopub.execute_input": "2021-04-05T16:25:07.122750Z",
     "iopub.status.busy": "2021-04-05T16:25:07.122750Z",
     "iopub.status.idle": "2021-04-05T16:25:07.676910Z",
     "shell.execute_reply": "2021-04-05T16:25:07.675910Z",
     "shell.execute_reply.started": "2021-04-05T16:25:07.122750Z"
    }
   },
   "outputs": [
    {
     "name": "stdout",
     "output_type": "stream",
     "text": [
      "Acceptance rate: 0.011\n"
     ]
    },
    {
     "data": {
      "image/png": "[encoded data removed]",
      "text/plain": [
       "<Figure size 720x432 with 1 Axes>"
      ]
     },
     "metadata": {
      "needs_background": "light"
     },
     "output_type": "display_data"
    }
   ],
   "source": [
    "sample_and_display(np.array([2.0]), 300, 10000, 0, log_prob)"
   ]
  },
  {
   "cell_type": "markdown",
   "metadata": {},
   "source": [
    "- $\\Delta = 3000$ και συνολικός αριθμός βημάτων: $10,000$"
   ]
  },
  {
   "cell_type": "code",
   "execution_count": 17,
   "metadata": {
    "execution": {
     "iopub.execute_input": "2021-04-05T16:25:07.677910Z",
     "iopub.status.busy": "2021-04-05T16:25:07.677910Z",
     "iopub.status.idle": "2021-04-05T16:25:08.210929Z",
     "shell.execute_reply": "2021-04-05T16:25:08.210929Z",
     "shell.execute_reply.started": "2021-04-05T16:25:07.677910Z"
    }
   },
   "outputs": [
    {
     "name": "stdout",
     "output_type": "stream",
     "text": [
      "Acceptance rate: 0.001\n"
     ]
    },
    {
     "data": {
      "image/png": "[encoded data removed]",
      "text/plain": [
       "<Figure size 720x432 with 1 Axes>"
      ]
     },
     "metadata": {
      "needs_background": "light"
     },
     "output_type": "display_data"
    }
   ],
   "source": [
    "sample_and_display(np.array([2.0]), 3000, 10000, 0, log_prob)"
   ]
  },
  {
   "cell_type": "markdown",
   "metadata": {},
   "source": [
    "- $\\Delta = 30000$ και συνολικός αριθμός βημάτων: $10,000$"
   ]
  },
  {
   "cell_type": "code",
   "execution_count": 18,
   "metadata": {
    "execution": {
     "iopub.execute_input": "2021-04-05T16:25:08.212905Z",
     "iopub.status.busy": "2021-04-05T16:25:08.212905Z",
     "iopub.status.idle": "2021-04-05T16:25:08.747521Z",
     "shell.execute_reply": "2021-04-05T16:25:08.746517Z",
     "shell.execute_reply.started": "2021-04-05T16:25:08.212905Z"
    }
   },
   "outputs": [
    {
     "name": "stdout",
     "output_type": "stream",
     "text": [
      "Acceptance rate: 0.000\n"
     ]
    },
    {
     "data": {
      "image/png": "[encoded data removed]",
      "text/plain": [
       "<Figure size 720x432 with 1 Axes>"
      ]
     },
     "metadata": {
      "needs_background": "light"
     },
     "output_type": "display_data"
    }
   ],
   "source": [
    "sample_and_display(np.array([2.0]), 30000, 10000, 0, log_prob)"
   ]
  },
  {
   "cell_type": "markdown",
   "metadata": {},
   "source": [
    "Για συνολικό αριθμό βημάτων 10,000, έχουμε:\n",
    " - $\\Delta = 30 \\rightarrow acceptance \\ ratio = 11.1\\% $ \n",
    " - $\\Delta = 300 \\rightarrow acceptance \\ ratio = 1.1\\% $ \n",
    " - $\\Delta = 3000 \\rightarrow acceptance \\ ratio = 0.1\\% $ \n",
    " - $\\Delta = 30000 \\rightarrow acceptance \\ ratio = 0\\% $ "
   ]
  },
  {
   "cell_type": "markdown",
   "metadata": {},
   "source": [
    "> Τι παρατηρείτε ότι συμβαίνει στην περίπτωση που χρησιμοποιείτε ένα πολύ μεγάλο βήμα, δηλαδή πολύ μεγάλη τιμή για την παράμετρο $Δ$;\n",
    "\n",
    "Το `stepsize` δηλαδή η παράμετρος $\\Delta$ της proposed κατανομής ελέγχει πόσο μεγάλο βήμα θα κάνει η αλυσίδα markov. Αν αυτό το βήμα είναι πολύ μεγάλο, τότε το δείγμα που επιλέγει ο αλγόριθμος μπορεί πολύ συχνά να βρίσκεται στις ουρές της κατανομής, εκεί η πυκνότητα είναι χαμηλότερη επομένως ένα τέτοιο δείγμα καταλήγει να απορρίπτεται από τον αλγόριθμο. \n",
    "Αυτό επιβεβαιώνεται καθώς βλέπουμε ότι όσο αυξάνουμε το βήμα το acceptance ratio μειώνεται μέχρι που φτάνει στο 0%. Άλλο ένα αποτέλεσμα είναι ότι η σύγκλιση είναι πιο αργή."
   ]
  },
  {
   "cell_type": "markdown",
   "metadata": {
    "id": "BhJ8KFbZGRvi"
   },
   "source": [
    "----------------------\n",
    "\n",
    "Να επαναλάβετε για $Δ=0.1$, δηλαδή μία πολύ μικρή τιμή για το βήμα. Τι παρατηρείτε; Είναι ικανοποιητικά τα αποτελέσματά σας; Σχολιάστε και το ποσοστό των αποδεκτών βημάτων. Να επαναλάβετε για $Δ=0.01$."
   ]
  },
  {
   "cell_type": "markdown",
   "metadata": {},
   "source": [
    "- $\\Delta = 0.1$ και συνολικός αριθμός βημάτων: $10,000$"
   ]
  },
  {
   "cell_type": "code",
   "execution_count": 19,
   "metadata": {
    "colab": {
     "base_uri": "https://localhost:8080/",
     "height": 391
    },
    "execution": {
     "iopub.execute_input": "2021-04-05T16:25:08.748520Z",
     "iopub.status.busy": "2021-04-05T16:25:08.748520Z",
     "iopub.status.idle": "2021-04-05T16:25:09.293561Z",
     "shell.execute_reply": "2021-04-05T16:25:09.293561Z",
     "shell.execute_reply.started": "2021-04-05T16:25:08.748520Z"
    },
    "id": "ksTky9sGWfzu",
    "outputId": "aed4bfb9-0a89-45d6-8808-c8b485584483"
   },
   "outputs": [
    {
     "name": "stdout",
     "output_type": "stream",
     "text": [
      "Acceptance rate: 0.991\n"
     ]
    },
    {
     "data": {
      "image/png": "[encoded data removed]",
      "text/plain": [
       "<Figure size 720x432 with 1 Axes>"
      ]
     },
     "metadata": {
      "needs_background": "light"
     },
     "output_type": "display_data"
    }
   ],
   "source": [
    "sample_and_display(np.array([2.0]), 0.1, 10000, 0, log_prob)"
   ]
  },
  {
   "cell_type": "markdown",
   "metadata": {
    "id": "UEIbkF7CGxCt"
   },
   "source": [
    "Να επαναλάβετε αυξάνοντας το συνολικό αριθμό βημάτων που θα πραγματοποιηθούν σε $500000$. Τι παρατηρείτε σχετικά με την ακρίβεια των αποτελεσμάτων σας, αλλά και το χρόνο εκτέλεσης του αλγορίθμου <b><i>Metropolis-Hastings</i></b>;"
   ]
  },
  {
   "cell_type": "markdown",
   "metadata": {},
   "source": [
    "- $\\Delta = 0.1$ και συνολικός αριθμός βημάτων: $500,000$"
   ]
  },
  {
   "cell_type": "code",
   "execution_count": 20,
   "metadata": {
    "colab": {
     "base_uri": "https://localhost:8080/",
     "height": 391
    },
    "execution": {
     "iopub.execute_input": "2021-04-05T16:25:09.295561Z",
     "iopub.status.busy": "2021-04-05T16:25:09.295561Z",
     "iopub.status.idle": "2021-04-05T16:25:24.075455Z",
     "shell.execute_reply": "2021-04-05T16:25:24.074480Z",
     "shell.execute_reply.started": "2021-04-05T16:25:09.295561Z"
    },
    "id": "chsa40ShWfzv",
    "outputId": "543f06c8-fa8c-42f0-c83c-c7d2d3c57adc"
   },
   "outputs": [
    {
     "name": "stdout",
     "output_type": "stream",
     "text": [
      "Acceptance rate: 0.990\n"
     ]
    },
    {
     "data": {
      "image/png": "[encoded data removed]",
      "text/plain": [
       "<Figure size 720x432 with 1 Axes>"
      ]
     },
     "metadata": {
      "needs_background": "light"
     },
     "output_type": "display_data"
    }
   ],
   "source": [
    "sample_and_display(np.array([2.0]), 0.1, 500000, 0, log_prob)"
   ]
  },
  {
   "cell_type": "markdown",
   "metadata": {},
   "source": [
    "- $\\Delta = 0.01$ και συνολικός αριθμός βημάτων: $10,000$"
   ]
  },
  {
   "cell_type": "code",
   "execution_count": 21,
   "metadata": {
    "execution": {
     "iopub.execute_input": "2021-04-05T16:25:24.076453Z",
     "iopub.status.busy": "2021-04-05T16:25:24.076453Z",
     "iopub.status.idle": "2021-04-05T16:25:24.595407Z",
     "shell.execute_reply": "2021-04-05T16:25:24.594402Z",
     "shell.execute_reply.started": "2021-04-05T16:25:24.076453Z"
    }
   },
   "outputs": [
    {
     "name": "stdout",
     "output_type": "stream",
     "text": [
      "Acceptance rate: 0.997\n"
     ]
    },
    {
     "data": {
      "image/png": "[encoded data removed]",
      "text/plain": [
       "<Figure size 720x432 with 1 Axes>"
      ]
     },
     "metadata": {
      "needs_background": "light"
     },
     "output_type": "display_data"
    }
   ],
   "source": [
    "sample_and_display(np.array([2.0]), 0.01, 10000, 0, log_prob)"
   ]
  },
  {
   "cell_type": "markdown",
   "metadata": {},
   "source": [
    "- $\\Delta = 0.01$ και συνολικός αριθμός βημάτων: $500,000$"
   ]
  },
  {
   "cell_type": "code",
   "execution_count": 22,
   "metadata": {
    "execution": {
     "iopub.execute_input": "2021-04-05T16:25:24.597407Z",
     "iopub.status.busy": "2021-04-05T16:25:24.597407Z",
     "iopub.status.idle": "2021-04-05T16:25:38.643355Z",
     "shell.execute_reply": "2021-04-05T16:25:38.642330Z",
     "shell.execute_reply.started": "2021-04-05T16:25:24.597407Z"
    }
   },
   "outputs": [
    {
     "name": "stdout",
     "output_type": "stream",
     "text": [
      "Acceptance rate: 0.999\n"
     ]
    },
    {
     "data": {
      "image/png": "[encoded data removed]",
      "text/plain": [
       "<Figure size 720x432 with 1 Axes>"
      ]
     },
     "metadata": {
      "needs_background": "light"
     },
     "output_type": "display_data"
    }
   ],
   "source": [
    "sample_and_display(np.array([2.0]), 0.01, 500000, 0, log_prob)"
   ]
  },
  {
   "cell_type": "markdown",
   "metadata": {},
   "source": [
    "> Τι παρατηρείτε; Είναι ικανοποιητικά τα αποτελέσματά σας; Σχολιάστε και το ποσοστό των αποδεκτών βημάτων. \n",
    "\n",
    "Σχετικά με το προηγούμενο σχόλιο όπου αυξήσαμε το $\\Delta$, θα αναμέναμε ότι η επιλογή ενός μικρού βήματος θα βελτιώσει την εικόνα του δείγματος. Η αλήθεια είναι ότι ακόμα κι αν ορίσουμε ένα πολύ μικρό βήμα, η αλυσίδα τελικά θα συγκλίνει όμως θα χρειαστεί πάρα πολλές (ενδεχομένως άπειρα αν είναι $\\Delta \\rightarrow 0$) επαναλήψεις.   \n",
    "Έχουμε:   \n",
    "- $\\Delta=0.1$, βήματα: $10,000$ $\\rightarrow$ $acceptance \\ ratio: \\ 99.1\\%$  - όχι καλή σύγκλιση, δεν έχει εξερευνήσει ακόμα μακριά από την αρχική κατάσταση\n",
    "- $\\Delta=0.1$, βήματα: $500,000$ $\\rightarrow$ $acceptance \\ ratio: \\ 99.0\\%$ -  καλή σύγκλιση\n",
    "- $\\Delta=0.01$, βήματα: $10,000$ $\\rightarrow$ $acceptance \\ ratio: \\ 99.7\\%$ - όχι καλή σύγκλιση, πολύ κοντά στην αρχική κατάσταση\n",
    "- $\\Delta=0.01$, βήματα: $500,000$ $\\rightarrow$ $acceptance \\ ratio: \\ 99.9\\%$ - όχι καλή σύγκλιση, χρειάζεται ακόμα περισσότερα βήματα   \n",
    "Η καλύτερη σύγκλιση επιτυγχάνεται για $\\Delta=0.1$ σε $500,000$ βήματα, διότι το μικρό βήμα σε συνδιασμό με τον μεγάλο αριθμό επαναλήψεων είναι καλός συνδιασμός για να επιτύχουμε καλή σύγκλιση.\n",
    "Το γεγονός ότι έχουμε acceptance ratio κοντά στη μονάδα δεν σημαίνει κάτι στην προκειμένη περίπτωση διότι η αλυσίδα συγκλίνει πολύ αργά. Τυπικά κάποιος ρυθμίζει τις παραμέτρους του βήματος και του αριθμού των επαναλήψεων έτσι ώστε ο αλγόριθμος να αποδέχεται ποσοστό των δειγμάτων της τάξης του 30% ([πηγή: Wikipedia](https://en.wikipedia.org/wiki/Metropolis%E2%80%93Hastings_algorithm#Step-by-step_instructions)).   \n",
    "Όπως είναι αναμενόμενο, όσο αυξάνουμε τον αριθμό των επαναλήψεων αυξάνεται ο χρόνος εκτέλεσης, στις 500,000 επαναλήψεις παίρνει περίπου 12 δευτερόλεπτα η εκτέλεση. Επομένως αν θέλουμε καλό αποτέλεσμα σε λιγότερο χρόνο θα πρέπει να αυξήσουμε το Δ και να ελαττώσουμε τον αριθμό επαναλήψεων ώστε ο αλγόριθμος να συγκλίνει ταχύτερα."
   ]
  },
  {
   "cell_type": "markdown",
   "metadata": {
    "id": "UXTTEkgfHO0y"
   },
   "source": [
    "-----------------\n",
    "\n",
    "Η συνάρτηση <b><i>sample_and_display</i></b> περιλαμβάνει το n_burnin ως τέταρτο όρισμα. Ποια είναι η χρησιμότητα του ορίσματος αυτού; Δοκιμάστε τις παρακάτω τιμές:\n",
    "<ul>\n",
    "<li>$Δ=0.1$, αριθμός βημάτων $1000$ και n_burnin=$10$.</li>\n",
    "<li>$Δ=0.1$, αριθμός βημάτων $500000$ και n_burnin=$490000$.</li>\n",
    "</ul>\n",
    "Τι παρατηρείτε; \n",
    "\n",
    "------------"
   ]
  },
  {
   "cell_type": "markdown",
   "metadata": {},
   "source": [
    "- $Δ=0.1$, αριθμός βημάτων $1000$ και n_burnin=$10$"
   ]
  },
  {
   "cell_type": "code",
   "execution_count": 23,
   "metadata": {
    "execution": {
     "iopub.execute_input": "2021-04-05T16:25:38.645354Z",
     "iopub.status.busy": "2021-04-05T16:25:38.644335Z",
     "iopub.status.idle": "2021-04-05T16:25:38.911423Z",
     "shell.execute_reply": "2021-04-05T16:25:38.910455Z",
     "shell.execute_reply.started": "2021-04-05T16:25:38.645354Z"
    }
   },
   "outputs": [
    {
     "name": "stdout",
     "output_type": "stream",
     "text": [
      "Acceptance rate: 0.979\n"
     ]
    },
    {
     "data": {
      "image/png": "[encoded data removed]",
      "text/plain": [
       "<Figure size 720x432 with 1 Axes>"
      ]
     },
     "metadata": {
      "needs_background": "light"
     },
     "output_type": "display_data"
    }
   ],
   "source": [
    "sample_and_display(np.array([2.0]), 0.1, 1000, 10, log_prob)"
   ]
  },
  {
   "cell_type": "markdown",
   "metadata": {},
   "source": [
    "- $Δ=0.1$, αριθμός βημάτων $500000$ και n_burnin=$490000$."
   ]
  },
  {
   "cell_type": "code",
   "execution_count": 24,
   "metadata": {
    "execution": {
     "iopub.execute_input": "2021-04-05T16:25:38.912423Z",
     "iopub.status.busy": "2021-04-05T16:25:38.912423Z",
     "iopub.status.idle": "2021-04-05T16:25:50.707990Z",
     "shell.execute_reply": "2021-04-05T16:25:50.706962Z",
     "shell.execute_reply.started": "2021-04-05T16:25:38.912423Z"
    }
   },
   "outputs": [
    {
     "name": "stdout",
     "output_type": "stream",
     "text": [
      "Acceptance rate: 0.990\n"
     ]
    },
    {
     "data": {
      "image/png": "[encoded data removed]",
      "text/plain": [
       "<Figure size 720x432 with 1 Axes>"
      ]
     },
     "metadata": {
      "needs_background": "light"
     },
     "output_type": "display_data"
    }
   ],
   "source": [
    "sample_and_display(np.array([2.0]), 0.1, 500000, 490000, log_prob)"
   ]
  },
  {
   "cell_type": "markdown",
   "metadata": {},
   "source": [
    " > Ποια είναι η χρησιμότητα του ορίσματος `n_burnin`;\n",
    "\n",
    "Ο αλγόριθμος Metropolis Hastings έχει ως σκοπό τη δειγματοληψία από μια κατανομή $\\pi(x)$ της οποίας, όπως είπαμε, δεν γνωρίζουμε την ακριβής μορφή. Αυτό σημαίνει ότι κατά την αρχικοποίηση του αλγορίθμου, μη έχοντας γνώση για την $\\pi(x)$, μπορεί να επηρεάσουμε τα τελικά αποτελέσματα ακόμα και αν στην πορεία ο αλγόριθμος συγκλίνει σε αυτή. Για να αποζημιώσουμε για αυτό το γεγονός εφαρμόζουμε μια burn-in περίοδο όπου «πετάμε» τα πρώτα $N$ δείγματα, με το $N$ να εκλέγεται αρκετά μεγάλο ώστε η αλυσίδα να έχει φτάσει σε σημείο που δειγματοληπτεί ικανοποιητικά την $\\pi(x)$. Έτσι, η παράμετρος `n_burnin` ρυθμίζει πόσα από τα αρχικά δείγματα θα αγνοήσουμε.  \n",
    "Συνοψίζοντας τα αποτελέσματα:   \n",
    "- $Δ=0.1$, αριθμός βημάτων $1000$ και n_burnin=$10$: $acceptance \\ ratio: \\ 97.9\\%$.\n",
    "Εδώ έχουμε μικρό Δ επομένως έτσι εξηγείται το μεγάλο acceptance ratio. Δεν έχουμε καλή σύγκλιση αλλά αυτό οφείλεται στον συνδιασμό Δ και αριθμού επαναλήψεων, καθώς δεν είναι αρκετές οι επαναλήψεις για να συγκλίνει. Σε κάθε περίπτωση, η απόρριψη 10 δειγμάτων δεν έχει μεγάλη επίπτωση στο αποτέλεσμα.\n",
    "- $Δ=0.1$, αριθμός βημάτων $500000$ και n_burnin=$490000$: $acceptance \\ ratio: \\ 98.9\\%$. \n",
    "Παραπάνω είδαμε ότι με αυτές τις παραμέτρους επιτυγχάνεται πολύ καλή σύγκλιση. Εδώ, θα ίσχυε κάτι τέτοιο, όμως ο πολύ μεγάλος αριθμός των παραμέτρων που απορρίπτουμε σαν αρχική burn-in περίοδο, σβήνει τα περισσότερα δείγματα επομένως σε συνδιασμό με το μικρό Δ, δεν είναι αρκετά τα δείγματα που απέμειναν για να περιγράψουν ικανοποιητικά την κατανομή. Γενικά, συνηθίζεται ως burn-in περίοδος να θεωρούνται οι πρώτες μερικές εκατοντάδες ή χιλιάδες επαναλήψεις, ενώ εδώ οι 490,000 τιμές που απορρίπτονται αποτελούν το 98\\% των συνολικών δειγμάτων."
   ]
  }
 ],
 "metadata": {
  "colab": {
   "name": "Stochastic_Processes_&_Optimization_in_Machine_Learning_(Lab_4_Metropolis_Hastings).ipynb",
   "provenance": []
  },
  "kernelspec": {
   "display_name": "Python 3",
   "language": "python",
   "name": "python3"
  },
  "language_info": {
   "codemirror_mode": {
    "name": "ipython",
    "version": 3
   },
   "file_extension": ".py",
   "mimetype": "text/x-python",
   "name": "python",
   "nbconvert_exporter": "python",
   "pygments_lexer": "ipython3",
   "version": "3.8.5"
  }
 },
 "nbformat": 4,
 "nbformat_minor": 4
}
