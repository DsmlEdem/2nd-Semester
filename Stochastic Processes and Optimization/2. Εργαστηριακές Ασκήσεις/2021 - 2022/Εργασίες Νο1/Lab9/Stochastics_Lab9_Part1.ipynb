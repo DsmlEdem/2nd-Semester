{
 "cells": [
  {
   "cell_type": "markdown",
   "metadata": {
    "id": "60LtVqhSDSVs"
   },
   "source": [
    "# Radial Basis Function\n",
    "\n",
    "Σκοπός της παρούσας άσκησης είναι η πρόβλεψη ως προς το αν ένας/μία πελάτης/ισσα μίας τράπεζας θα κάνει τη χρήση της προθεσμιακής κατάθεσης ή όχι. Αυτή η πρόβλεψη θα εξαχθεί με βάση συγκεκριμένα δημογραφικά χαρακτηριστικά του/της\n",
    "όπως η ηλικία, η εργασία, η εκπαίδευση, η οικογενειακή κατάσταση κ.λπ.\n",
    "Για να το επιτύχουμε αυτό θα κάνουμε χρήση μίας εφαρμογής βασισμένη σε RBF. Στο κρυφό επίπεδο των νευρώνων υπολογίζονται τα κέντρα των clusters με τη χρήση του αλγορίθμου k-means.\n",
    "\n",
    "\n",
    " "
   ]
  },
  {
   "cell_type": "markdown",
   "metadata": {
    "id": "VZo7LLMnFRhe"
   },
   "source": [
    "**Βήμα 1ο**: Αρχικά φορτώνουμε τις απαράιτητες βιβλιοθήκες"
   ]
  },
  {
   "cell_type": "code",
   "execution_count": 1,
   "metadata": {
    "id": "qty0hUG3xn16"
   },
   "outputs": [],
   "source": [
    "import pandas as pd\n",
    "import numpy as np\n",
    "from sklearn.preprocessing import LabelEncoder\n",
    "from sklearn.model_selection import train_test_split\n",
    "from sklearn.preprocessing import StandardScaler\n",
    "from sklearn.cluster import KMeans\n",
    "import math\n",
    "from sklearn.metrics import accuracy_score"
   ]
  },
  {
   "cell_type": "markdown",
   "metadata": {
    "id": "b7eJ-CAZFumE"
   },
   "source": [
    "**Βήμα 2ο**: διάβαζουμε το αρχείο bank-full.csv και απομονώνουμε τις στήλες με τα χαρακτηριστικά που θα χρησιμοποιήσουμε (εργασία, αν έχει δανειακές υποχρεώσεις κλπ). Το αρχείο είναι διαθέσιμο [εδώ](https://raw.githubusercontent.com/nkostopoulos/StochasticsLabPublic/master/lab9/bank-full.csv) και θα πρέπει να το φορτώσετε στο colab."
   ]
  },
  {
   "cell_type": "code",
   "execution_count": 2,
   "metadata": {
    "id": "86ayppUSywGN"
   },
   "outputs": [],
   "source": [
    "dataset = pd.read_csv('bank-full.csv',sep=';')"
   ]
  },
  {
   "cell_type": "code",
   "execution_count": 3,
   "metadata": {
    "id": "BxZJ6WxiBhzz"
   },
   "outputs": [
    {
     "data": {
      "text/html": [
       "<div>\n",
       "<style scoped>\n",
       "    .dataframe tbody tr th:only-of-type {\n",
       "        vertical-align: middle;\n",
       "    }\n",
       "\n",
       "    .dataframe tbody tr th {\n",
       "        vertical-align: top;\n",
       "    }\n",
       "\n",
       "    .dataframe thead th {\n",
       "        text-align: right;\n",
       "    }\n",
       "</style>\n",
       "<table border=\"1\" class=\"dataframe\">\n",
       "  <thead>\n",
       "    <tr style=\"text-align: right;\">\n",
       "      <th></th>\n",
       "      <th>age</th>\n",
       "      <th>job</th>\n",
       "      <th>marital</th>\n",
       "      <th>education</th>\n",
       "      <th>default</th>\n",
       "      <th>balance</th>\n",
       "      <th>housing</th>\n",
       "      <th>loan</th>\n",
       "      <th>contact</th>\n",
       "      <th>day</th>\n",
       "      <th>month</th>\n",
       "      <th>duration</th>\n",
       "      <th>campaign</th>\n",
       "      <th>pdays</th>\n",
       "      <th>previous</th>\n",
       "      <th>poutcome</th>\n",
       "      <th>y</th>\n",
       "    </tr>\n",
       "  </thead>\n",
       "  <tbody>\n",
       "    <tr>\n",
       "      <th>0</th>\n",
       "      <td>58</td>\n",
       "      <td>management</td>\n",
       "      <td>married</td>\n",
       "      <td>tertiary</td>\n",
       "      <td>no</td>\n",
       "      <td>2143</td>\n",
       "      <td>yes</td>\n",
       "      <td>no</td>\n",
       "      <td>unknown</td>\n",
       "      <td>5</td>\n",
       "      <td>may</td>\n",
       "      <td>261</td>\n",
       "      <td>1</td>\n",
       "      <td>-1</td>\n",
       "      <td>0</td>\n",
       "      <td>unknown</td>\n",
       "      <td>no</td>\n",
       "    </tr>\n",
       "    <tr>\n",
       "      <th>1</th>\n",
       "      <td>44</td>\n",
       "      <td>technician</td>\n",
       "      <td>single</td>\n",
       "      <td>secondary</td>\n",
       "      <td>no</td>\n",
       "      <td>29</td>\n",
       "      <td>yes</td>\n",
       "      <td>no</td>\n",
       "      <td>unknown</td>\n",
       "      <td>5</td>\n",
       "      <td>may</td>\n",
       "      <td>151</td>\n",
       "      <td>1</td>\n",
       "      <td>-1</td>\n",
       "      <td>0</td>\n",
       "      <td>unknown</td>\n",
       "      <td>no</td>\n",
       "    </tr>\n",
       "    <tr>\n",
       "      <th>2</th>\n",
       "      <td>33</td>\n",
       "      <td>entrepreneur</td>\n",
       "      <td>married</td>\n",
       "      <td>secondary</td>\n",
       "      <td>no</td>\n",
       "      <td>2</td>\n",
       "      <td>yes</td>\n",
       "      <td>yes</td>\n",
       "      <td>unknown</td>\n",
       "      <td>5</td>\n",
       "      <td>may</td>\n",
       "      <td>76</td>\n",
       "      <td>1</td>\n",
       "      <td>-1</td>\n",
       "      <td>0</td>\n",
       "      <td>unknown</td>\n",
       "      <td>no</td>\n",
       "    </tr>\n",
       "    <tr>\n",
       "      <th>3</th>\n",
       "      <td>47</td>\n",
       "      <td>blue-collar</td>\n",
       "      <td>married</td>\n",
       "      <td>unknown</td>\n",
       "      <td>no</td>\n",
       "      <td>1506</td>\n",
       "      <td>yes</td>\n",
       "      <td>no</td>\n",
       "      <td>unknown</td>\n",
       "      <td>5</td>\n",
       "      <td>may</td>\n",
       "      <td>92</td>\n",
       "      <td>1</td>\n",
       "      <td>-1</td>\n",
       "      <td>0</td>\n",
       "      <td>unknown</td>\n",
       "      <td>no</td>\n",
       "    </tr>\n",
       "    <tr>\n",
       "      <th>4</th>\n",
       "      <td>33</td>\n",
       "      <td>unknown</td>\n",
       "      <td>single</td>\n",
       "      <td>unknown</td>\n",
       "      <td>no</td>\n",
       "      <td>1</td>\n",
       "      <td>no</td>\n",
       "      <td>no</td>\n",
       "      <td>unknown</td>\n",
       "      <td>5</td>\n",
       "      <td>may</td>\n",
       "      <td>198</td>\n",
       "      <td>1</td>\n",
       "      <td>-1</td>\n",
       "      <td>0</td>\n",
       "      <td>unknown</td>\n",
       "      <td>no</td>\n",
       "    </tr>\n",
       "  </tbody>\n",
       "</table>\n",
       "</div>"
      ],
      "text/plain": [
       "   age           job  marital  education default  balance housing loan  \\\n",
       "0   58    management  married   tertiary      no     2143     yes   no   \n",
       "1   44    technician   single  secondary      no       29     yes   no   \n",
       "2   33  entrepreneur  married  secondary      no        2     yes  yes   \n",
       "3   47   blue-collar  married    unknown      no     1506     yes   no   \n",
       "4   33       unknown   single    unknown      no        1      no   no   \n",
       "\n",
       "   contact  day month  duration  campaign  pdays  previous poutcome   y  \n",
       "0  unknown    5   may       261         1     -1         0  unknown  no  \n",
       "1  unknown    5   may       151         1     -1         0  unknown  no  \n",
       "2  unknown    5   may        76         1     -1         0  unknown  no  \n",
       "3  unknown    5   may        92         1     -1         0  unknown  no  \n",
       "4  unknown    5   may       198         1     -1         0  unknown  no  "
      ]
     },
     "execution_count": 3,
     "metadata": {},
     "output_type": "execute_result"
    }
   ],
   "source": [
    "dataset.head()"
   ]
  },
  {
   "cell_type": "code",
   "execution_count": 4,
   "metadata": {
    "id": "SEmiKBIEBprT"
   },
   "outputs": [],
   "source": [
    "col_to_use = ['age','balance','day','duration','campaign','pdays','previous']\n",
    "data = dataset.drop(col_to_use,axis=1)"
   ]
  },
  {
   "cell_type": "code",
   "execution_count": 5,
   "metadata": {
    "id": "R0VJ4MURBr8j"
   },
   "outputs": [
    {
     "data": {
      "text/html": [
       "<div>\n",
       "<style scoped>\n",
       "    .dataframe tbody tr th:only-of-type {\n",
       "        vertical-align: middle;\n",
       "    }\n",
       "\n",
       "    .dataframe tbody tr th {\n",
       "        vertical-align: top;\n",
       "    }\n",
       "\n",
       "    .dataframe thead th {\n",
       "        text-align: right;\n",
       "    }\n",
       "</style>\n",
       "<table border=\"1\" class=\"dataframe\">\n",
       "  <thead>\n",
       "    <tr style=\"text-align: right;\">\n",
       "      <th></th>\n",
       "      <th>job</th>\n",
       "      <th>marital</th>\n",
       "      <th>education</th>\n",
       "      <th>default</th>\n",
       "      <th>housing</th>\n",
       "      <th>loan</th>\n",
       "      <th>contact</th>\n",
       "      <th>month</th>\n",
       "      <th>poutcome</th>\n",
       "      <th>y</th>\n",
       "    </tr>\n",
       "  </thead>\n",
       "  <tbody>\n",
       "    <tr>\n",
       "      <th>0</th>\n",
       "      <td>management</td>\n",
       "      <td>married</td>\n",
       "      <td>tertiary</td>\n",
       "      <td>no</td>\n",
       "      <td>yes</td>\n",
       "      <td>no</td>\n",
       "      <td>unknown</td>\n",
       "      <td>may</td>\n",
       "      <td>unknown</td>\n",
       "      <td>no</td>\n",
       "    </tr>\n",
       "    <tr>\n",
       "      <th>1</th>\n",
       "      <td>technician</td>\n",
       "      <td>single</td>\n",
       "      <td>secondary</td>\n",
       "      <td>no</td>\n",
       "      <td>yes</td>\n",
       "      <td>no</td>\n",
       "      <td>unknown</td>\n",
       "      <td>may</td>\n",
       "      <td>unknown</td>\n",
       "      <td>no</td>\n",
       "    </tr>\n",
       "    <tr>\n",
       "      <th>2</th>\n",
       "      <td>entrepreneur</td>\n",
       "      <td>married</td>\n",
       "      <td>secondary</td>\n",
       "      <td>no</td>\n",
       "      <td>yes</td>\n",
       "      <td>yes</td>\n",
       "      <td>unknown</td>\n",
       "      <td>may</td>\n",
       "      <td>unknown</td>\n",
       "      <td>no</td>\n",
       "    </tr>\n",
       "    <tr>\n",
       "      <th>3</th>\n",
       "      <td>blue-collar</td>\n",
       "      <td>married</td>\n",
       "      <td>unknown</td>\n",
       "      <td>no</td>\n",
       "      <td>yes</td>\n",
       "      <td>no</td>\n",
       "      <td>unknown</td>\n",
       "      <td>may</td>\n",
       "      <td>unknown</td>\n",
       "      <td>no</td>\n",
       "    </tr>\n",
       "    <tr>\n",
       "      <th>4</th>\n",
       "      <td>unknown</td>\n",
       "      <td>single</td>\n",
       "      <td>unknown</td>\n",
       "      <td>no</td>\n",
       "      <td>no</td>\n",
       "      <td>no</td>\n",
       "      <td>unknown</td>\n",
       "      <td>may</td>\n",
       "      <td>unknown</td>\n",
       "      <td>no</td>\n",
       "    </tr>\n",
       "  </tbody>\n",
       "</table>\n",
       "</div>"
      ],
      "text/plain": [
       "            job  marital  education default housing loan  contact month  \\\n",
       "0    management  married   tertiary      no     yes   no  unknown   may   \n",
       "1    technician   single  secondary      no     yes   no  unknown   may   \n",
       "2  entrepreneur  married  secondary      no     yes  yes  unknown   may   \n",
       "3   blue-collar  married    unknown      no     yes   no  unknown   may   \n",
       "4       unknown   single    unknown      no      no   no  unknown   may   \n",
       "\n",
       "  poutcome   y  \n",
       "0  unknown  no  \n",
       "1  unknown  no  \n",
       "2  unknown  no  \n",
       "3  unknown  no  \n",
       "4  unknown  no  "
      ]
     },
     "execution_count": 5,
     "metadata": {},
     "output_type": "execute_result"
    }
   ],
   "source": [
    "data.head()"
   ]
  },
  {
   "cell_type": "code",
   "execution_count": 6,
   "metadata": {
    "id": "Ne8KiG-9Bwk7"
   },
   "outputs": [],
   "source": [
    "data = data.apply(LabelEncoder().fit_transform)"
   ]
  },
  {
   "cell_type": "code",
   "execution_count": 7,
   "metadata": {
    "id": "fsTCBqDwBzvj"
   },
   "outputs": [
    {
     "data": {
      "text/html": [
       "<div>\n",
       "<style scoped>\n",
       "    .dataframe tbody tr th:only-of-type {\n",
       "        vertical-align: middle;\n",
       "    }\n",
       "\n",
       "    .dataframe tbody tr th {\n",
       "        vertical-align: top;\n",
       "    }\n",
       "\n",
       "    .dataframe thead th {\n",
       "        text-align: right;\n",
       "    }\n",
       "</style>\n",
       "<table border=\"1\" class=\"dataframe\">\n",
       "  <thead>\n",
       "    <tr style=\"text-align: right;\">\n",
       "      <th></th>\n",
       "      <th>job</th>\n",
       "      <th>marital</th>\n",
       "      <th>education</th>\n",
       "      <th>default</th>\n",
       "      <th>housing</th>\n",
       "      <th>loan</th>\n",
       "      <th>contact</th>\n",
       "      <th>month</th>\n",
       "      <th>poutcome</th>\n",
       "      <th>y</th>\n",
       "    </tr>\n",
       "  </thead>\n",
       "  <tbody>\n",
       "    <tr>\n",
       "      <th>0</th>\n",
       "      <td>4</td>\n",
       "      <td>1</td>\n",
       "      <td>2</td>\n",
       "      <td>0</td>\n",
       "      <td>1</td>\n",
       "      <td>0</td>\n",
       "      <td>2</td>\n",
       "      <td>8</td>\n",
       "      <td>3</td>\n",
       "      <td>0</td>\n",
       "    </tr>\n",
       "    <tr>\n",
       "      <th>1</th>\n",
       "      <td>9</td>\n",
       "      <td>2</td>\n",
       "      <td>1</td>\n",
       "      <td>0</td>\n",
       "      <td>1</td>\n",
       "      <td>0</td>\n",
       "      <td>2</td>\n",
       "      <td>8</td>\n",
       "      <td>3</td>\n",
       "      <td>0</td>\n",
       "    </tr>\n",
       "    <tr>\n",
       "      <th>2</th>\n",
       "      <td>2</td>\n",
       "      <td>1</td>\n",
       "      <td>1</td>\n",
       "      <td>0</td>\n",
       "      <td>1</td>\n",
       "      <td>1</td>\n",
       "      <td>2</td>\n",
       "      <td>8</td>\n",
       "      <td>3</td>\n",
       "      <td>0</td>\n",
       "    </tr>\n",
       "    <tr>\n",
       "      <th>3</th>\n",
       "      <td>1</td>\n",
       "      <td>1</td>\n",
       "      <td>3</td>\n",
       "      <td>0</td>\n",
       "      <td>1</td>\n",
       "      <td>0</td>\n",
       "      <td>2</td>\n",
       "      <td>8</td>\n",
       "      <td>3</td>\n",
       "      <td>0</td>\n",
       "    </tr>\n",
       "    <tr>\n",
       "      <th>4</th>\n",
       "      <td>11</td>\n",
       "      <td>2</td>\n",
       "      <td>3</td>\n",
       "      <td>0</td>\n",
       "      <td>0</td>\n",
       "      <td>0</td>\n",
       "      <td>2</td>\n",
       "      <td>8</td>\n",
       "      <td>3</td>\n",
       "      <td>0</td>\n",
       "    </tr>\n",
       "  </tbody>\n",
       "</table>\n",
       "</div>"
      ],
      "text/plain": [
       "   job  marital  education  default  housing  loan  contact  month  poutcome  \\\n",
       "0    4        1          2        0        1     0        2      8         3   \n",
       "1    9        2          1        0        1     0        2      8         3   \n",
       "2    2        1          1        0        1     1        2      8         3   \n",
       "3    1        1          3        0        1     0        2      8         3   \n",
       "4   11        2          3        0        0     0        2      8         3   \n",
       "\n",
       "   y  \n",
       "0  0  \n",
       "1  0  \n",
       "2  0  \n",
       "3  0  \n",
       "4  0  "
      ]
     },
     "execution_count": 7,
     "metadata": {},
     "output_type": "execute_result"
    }
   ],
   "source": [
    "data.head()"
   ]
  },
  {
   "cell_type": "code",
   "execution_count": 8,
   "metadata": {
    "id": "pq2Dc_-iB3P7"
   },
   "outputs": [
    {
     "data": {
      "text/plain": [
       "array([ 4,  9,  2,  1, 11,  5,  0,  7,  6, 10,  3,  8])"
      ]
     },
     "execution_count": 8,
     "metadata": {},
     "output_type": "execute_result"
    }
   ],
   "source": [
    "data['job'].unique()"
   ]
  },
  {
   "cell_type": "code",
   "execution_count": 9,
   "metadata": {
    "id": "oiruDF0kB6Yz"
   },
   "outputs": [
    {
     "data": {
      "text/plain": [
       "array(['management', 'technician', 'entrepreneur', 'blue-collar',\n",
       "       'unknown', 'retired', 'admin.', 'services', 'self-employed',\n",
       "       'unemployed', 'housemaid', 'student'], dtype=object)"
      ]
     },
     "execution_count": 9,
     "metadata": {},
     "output_type": "execute_result"
    }
   ],
   "source": [
    "dataset['job'].unique()"
   ]
  },
  {
   "cell_type": "code",
   "execution_count": 10,
   "metadata": {
    "id": "2uQ7vgqsB9h7"
   },
   "outputs": [
    {
     "data": {
      "text/html": [
       "<div>\n",
       "<style scoped>\n",
       "    .dataframe tbody tr th:only-of-type {\n",
       "        vertical-align: middle;\n",
       "    }\n",
       "\n",
       "    .dataframe tbody tr th {\n",
       "        vertical-align: top;\n",
       "    }\n",
       "\n",
       "    .dataframe thead th {\n",
       "        text-align: right;\n",
       "    }\n",
       "</style>\n",
       "<table border=\"1\" class=\"dataframe\">\n",
       "  <thead>\n",
       "    <tr style=\"text-align: right;\">\n",
       "      <th></th>\n",
       "      <th>age</th>\n",
       "      <th>balance</th>\n",
       "      <th>day</th>\n",
       "      <th>duration</th>\n",
       "      <th>campaign</th>\n",
       "      <th>pdays</th>\n",
       "      <th>previous</th>\n",
       "    </tr>\n",
       "  </thead>\n",
       "  <tbody>\n",
       "    <tr>\n",
       "      <th>0</th>\n",
       "      <td>58</td>\n",
       "      <td>2143</td>\n",
       "      <td>5</td>\n",
       "      <td>261</td>\n",
       "      <td>1</td>\n",
       "      <td>-1</td>\n",
       "      <td>0</td>\n",
       "    </tr>\n",
       "    <tr>\n",
       "      <th>1</th>\n",
       "      <td>44</td>\n",
       "      <td>29</td>\n",
       "      <td>5</td>\n",
       "      <td>151</td>\n",
       "      <td>1</td>\n",
       "      <td>-1</td>\n",
       "      <td>0</td>\n",
       "    </tr>\n",
       "    <tr>\n",
       "      <th>2</th>\n",
       "      <td>33</td>\n",
       "      <td>2</td>\n",
       "      <td>5</td>\n",
       "      <td>76</td>\n",
       "      <td>1</td>\n",
       "      <td>-1</td>\n",
       "      <td>0</td>\n",
       "    </tr>\n",
       "    <tr>\n",
       "      <th>3</th>\n",
       "      <td>47</td>\n",
       "      <td>1506</td>\n",
       "      <td>5</td>\n",
       "      <td>92</td>\n",
       "      <td>1</td>\n",
       "      <td>-1</td>\n",
       "      <td>0</td>\n",
       "    </tr>\n",
       "    <tr>\n",
       "      <th>4</th>\n",
       "      <td>33</td>\n",
       "      <td>1</td>\n",
       "      <td>5</td>\n",
       "      <td>198</td>\n",
       "      <td>1</td>\n",
       "      <td>-1</td>\n",
       "      <td>0</td>\n",
       "    </tr>\n",
       "  </tbody>\n",
       "</table>\n",
       "</div>"
      ],
      "text/plain": [
       "   age  balance  day  duration  campaign  pdays  previous\n",
       "0   58     2143    5       261         1     -1         0\n",
       "1   44       29    5       151         1     -1         0\n",
       "2   33        2    5        76         1     -1         0\n",
       "3   47     1506    5        92         1     -1         0\n",
       "4   33        1    5       198         1     -1         0"
      ]
     },
     "execution_count": 10,
     "metadata": {},
     "output_type": "execute_result"
    }
   ],
   "source": [
    "data_rest = dataset[col_to_use]\n",
    "data_rest.head()"
   ]
  },
  {
   "cell_type": "code",
   "execution_count": 11,
   "metadata": {
    "id": "bAIpmkjGCCdT"
   },
   "outputs": [],
   "source": [
    "dataset2 = pd.concat([data_rest,data],axis=1)"
   ]
  },
  {
   "cell_type": "code",
   "execution_count": 12,
   "metadata": {
    "id": "S2e_EIlxCE_z"
   },
   "outputs": [
    {
     "data": {
      "text/html": [
       "<div>\n",
       "<style scoped>\n",
       "    .dataframe tbody tr th:only-of-type {\n",
       "        vertical-align: middle;\n",
       "    }\n",
       "\n",
       "    .dataframe tbody tr th {\n",
       "        vertical-align: top;\n",
       "    }\n",
       "\n",
       "    .dataframe thead th {\n",
       "        text-align: right;\n",
       "    }\n",
       "</style>\n",
       "<table border=\"1\" class=\"dataframe\">\n",
       "  <thead>\n",
       "    <tr style=\"text-align: right;\">\n",
       "      <th></th>\n",
       "      <th>age</th>\n",
       "      <th>balance</th>\n",
       "      <th>day</th>\n",
       "      <th>duration</th>\n",
       "      <th>campaign</th>\n",
       "      <th>pdays</th>\n",
       "      <th>previous</th>\n",
       "      <th>job</th>\n",
       "      <th>marital</th>\n",
       "      <th>education</th>\n",
       "      <th>default</th>\n",
       "      <th>housing</th>\n",
       "      <th>loan</th>\n",
       "      <th>contact</th>\n",
       "      <th>month</th>\n",
       "      <th>poutcome</th>\n",
       "      <th>y</th>\n",
       "    </tr>\n",
       "  </thead>\n",
       "  <tbody>\n",
       "    <tr>\n",
       "      <th>0</th>\n",
       "      <td>58</td>\n",
       "      <td>2143</td>\n",
       "      <td>5</td>\n",
       "      <td>261</td>\n",
       "      <td>1</td>\n",
       "      <td>-1</td>\n",
       "      <td>0</td>\n",
       "      <td>4</td>\n",
       "      <td>1</td>\n",
       "      <td>2</td>\n",
       "      <td>0</td>\n",
       "      <td>1</td>\n",
       "      <td>0</td>\n",
       "      <td>2</td>\n",
       "      <td>8</td>\n",
       "      <td>3</td>\n",
       "      <td>0</td>\n",
       "    </tr>\n",
       "    <tr>\n",
       "      <th>1</th>\n",
       "      <td>44</td>\n",
       "      <td>29</td>\n",
       "      <td>5</td>\n",
       "      <td>151</td>\n",
       "      <td>1</td>\n",
       "      <td>-1</td>\n",
       "      <td>0</td>\n",
       "      <td>9</td>\n",
       "      <td>2</td>\n",
       "      <td>1</td>\n",
       "      <td>0</td>\n",
       "      <td>1</td>\n",
       "      <td>0</td>\n",
       "      <td>2</td>\n",
       "      <td>8</td>\n",
       "      <td>3</td>\n",
       "      <td>0</td>\n",
       "    </tr>\n",
       "    <tr>\n",
       "      <th>2</th>\n",
       "      <td>33</td>\n",
       "      <td>2</td>\n",
       "      <td>5</td>\n",
       "      <td>76</td>\n",
       "      <td>1</td>\n",
       "      <td>-1</td>\n",
       "      <td>0</td>\n",
       "      <td>2</td>\n",
       "      <td>1</td>\n",
       "      <td>1</td>\n",
       "      <td>0</td>\n",
       "      <td>1</td>\n",
       "      <td>1</td>\n",
       "      <td>2</td>\n",
       "      <td>8</td>\n",
       "      <td>3</td>\n",
       "      <td>0</td>\n",
       "    </tr>\n",
       "    <tr>\n",
       "      <th>3</th>\n",
       "      <td>47</td>\n",
       "      <td>1506</td>\n",
       "      <td>5</td>\n",
       "      <td>92</td>\n",
       "      <td>1</td>\n",
       "      <td>-1</td>\n",
       "      <td>0</td>\n",
       "      <td>1</td>\n",
       "      <td>1</td>\n",
       "      <td>3</td>\n",
       "      <td>0</td>\n",
       "      <td>1</td>\n",
       "      <td>0</td>\n",
       "      <td>2</td>\n",
       "      <td>8</td>\n",
       "      <td>3</td>\n",
       "      <td>0</td>\n",
       "    </tr>\n",
       "    <tr>\n",
       "      <th>4</th>\n",
       "      <td>33</td>\n",
       "      <td>1</td>\n",
       "      <td>5</td>\n",
       "      <td>198</td>\n",
       "      <td>1</td>\n",
       "      <td>-1</td>\n",
       "      <td>0</td>\n",
       "      <td>11</td>\n",
       "      <td>2</td>\n",
       "      <td>3</td>\n",
       "      <td>0</td>\n",
       "      <td>0</td>\n",
       "      <td>0</td>\n",
       "      <td>2</td>\n",
       "      <td>8</td>\n",
       "      <td>3</td>\n",
       "      <td>0</td>\n",
       "    </tr>\n",
       "  </tbody>\n",
       "</table>\n",
       "</div>"
      ],
      "text/plain": [
       "   age  balance  day  duration  campaign  pdays  previous  job  marital  \\\n",
       "0   58     2143    5       261         1     -1         0    4        1   \n",
       "1   44       29    5       151         1     -1         0    9        2   \n",
       "2   33        2    5        76         1     -1         0    2        1   \n",
       "3   47     1506    5        92         1     -1         0    1        1   \n",
       "4   33        1    5       198         1     -1         0   11        2   \n",
       "\n",
       "   education  default  housing  loan  contact  month  poutcome  y  \n",
       "0          2        0        1     0        2      8         3  0  \n",
       "1          1        0        1     0        2      8         3  0  \n",
       "2          1        0        1     1        2      8         3  0  \n",
       "3          3        0        1     0        2      8         3  0  \n",
       "4          3        0        0     0        2      8         3  0  "
      ]
     },
     "execution_count": 12,
     "metadata": {},
     "output_type": "execute_result"
    }
   ],
   "source": [
    "dataset2.head()"
   ]
  },
  {
   "cell_type": "markdown",
   "metadata": {
    "id": "7XPsWym0Gqmz"
   },
   "source": [
    "**Βήμα 3ο**: Σπάμε στο dataset σε train και test dataset και κάνουμε scale με τη χρήση της συνάρτησης StandardScaler()"
   ]
  },
  {
   "cell_type": "code",
   "execution_count": 13,
   "metadata": {
    "id": "B1h_X0e7CI9b"
   },
   "outputs": [],
   "source": [
    "X= dataset2.drop('y',axis=1)\n",
    "y= dataset2['y']\n",
    "\n",
    "X_train, X_test, y_train, y_test= train_test_split(X,y, test_size= 0.33, random_state= 4)"
   ]
  },
  {
   "cell_type": "code",
   "execution_count": 14,
   "metadata": {
    "id": "gTd1fz7sCMit"
   },
   "outputs": [],
   "source": [
    "scaler = StandardScaler()\n",
    "X_train = scaler.fit_transform(X_train)\n",
    "X_test = scaler.transform(X_test)"
   ]
  },
  {
   "cell_type": "code",
   "execution_count": 15,
   "metadata": {
    "id": "AvrG8ucrCN8j"
   },
   "outputs": [
    {
     "data": {
      "text/plain": [
       "array([[ 3.39736083, -0.45852779,  0.14087303, ..., -0.71332324,\n",
       "        -1.50513854,  0.44672656],\n",
       "       [-0.27605947,  2.43941798,  0.50067953, ...,  0.40010942,\n",
       "        -1.83733874, -2.58685457],\n",
       "       [ 0.66584317, -0.13326522, -0.93854645, ..., -0.71332324,\n",
       "         1.48466323, -0.56446715],\n",
       "       ...,\n",
       "       [-0.74701079, -0.22619739,  0.62061503, ..., -0.71332324,\n",
       "         1.15246303,  0.44672656],\n",
       "       [ 1.60774581, -0.42275894, -1.53822394, ...,  1.51354209,\n",
       "         0.15586244,  0.44672656],\n",
       "       [ 0.28908211, -0.13627382,  1.58009901, ..., -0.71332324,\n",
       "        -0.17633776,  0.44672656]])"
      ]
     },
     "execution_count": 15,
     "metadata": {},
     "output_type": "execute_result"
    }
   ],
   "source": [
    "X_train"
   ]
  },
  {
   "cell_type": "markdown",
   "metadata": {
    "id": "XUomduVEG593"
   },
   "source": [
    "**Βήμα 4ο**: Ορίζουμε τα κέντρα των νευρώνων με τη χρήση του k-means. Αρχικά τρέχει ο αλγόριθμος k-means για να βρούμε τα κέντρα και την τυπική απόκλιση των clusters."
   ]
  },
  {
   "cell_type": "code",
   "execution_count": 16,
   "metadata": {
    "id": "--5b0xEXCVl7"
   },
   "outputs": [],
   "source": [
    "K_cent = 8\n",
    "km = KMeans(n_clusters=K_cent, max_iter=100)\n",
    "km.fit(X_train)\n",
    "cent = km.cluster_centers_"
   ]
  },
  {
   "cell_type": "code",
   "execution_count": 17,
   "metadata": {
    "id": "3sJgNJmQCXrM"
   },
   "outputs": [],
   "source": [
    "# Η παράμετρος max άλλαξε σε max_param, διότι η μεταβλητή max είναι εγγενής της Python\n",
    "max_param=0 \n",
    "for i in range(K_cent):\n",
    "    for j in range(K_cent):\n",
    "        d = np.linalg.norm(cent[i]-cent[j])\n",
    "        if(d > max_param):\n",
    "            max_param = d\n",
    "d = max_param\n",
    "\n",
    "sigma= d/math.sqrt(2*K_cent)"
   ]
  },
  {
   "cell_type": "markdown",
   "metadata": {
    "id": "YJmzjR2gHNal"
   },
   "source": [
    "**Βήμα 5ο**: Δημιουργούμε τον πίνακα σχέσεων F (γραμμικός συνδυασμός των Κ συναρτήσεων βάσης φj(x)."
   ]
  },
  {
   "cell_type": "code",
   "execution_count": 18,
   "metadata": {
    "id": "sY7PlwoFCaxE"
   },
   "outputs": [],
   "source": [
    "shape = X_train.shape\n",
    "row = shape[0]\n",
    "column = K_cent\n",
    "F = np.empty((row,column), dtype= float)"
   ]
  },
  {
   "cell_type": "code",
   "execution_count": 19,
   "metadata": {
    "id": "erGPJDpSCfIL"
   },
   "outputs": [],
   "source": [
    "for i in range(row):\n",
    "    for j in range(column):\n",
    "        dist= np.linalg.norm(X_train[i]-cent[j])\n",
    "        F[i][j]= math.exp(-math.pow(dist,2)/math.pow(2*sigma,2))"
   ]
  },
  {
   "cell_type": "markdown",
   "metadata": {
    "id": "2M4gFE3FHtbO"
   },
   "source": [
    "**Βήμα 6ο**: Βρίσκουμε τον πίνακα βάρους W για την εκπαίδευση του δικτύου"
   ]
  },
  {
   "cell_type": "code",
   "execution_count": 20,
   "metadata": {
    "id": "iTD1cf7jCipb"
   },
   "outputs": [],
   "source": [
    "FTG = np.dot(F.T,F)\n",
    "FTG_inv = np.linalg.inv(FTG)\n",
    "fac = np.dot(FTG_inv,F.T)\n",
    "W = np.dot(fac,y_train)"
   ]
  },
  {
   "cell_type": "markdown",
   "metadata": {
    "id": "wrH3spL_H2vd"
   },
   "source": [
    "**Βήμα 7ο**: Ρύθμιση του πίνακα F για το test dataset"
   ]
  },
  {
   "cell_type": "code",
   "execution_count": 21,
   "metadata": {
    "id": "sH8s9fozClDj"
   },
   "outputs": [],
   "source": [
    "row= X_test.shape[0]\n",
    "column= K_cent\n",
    "F_test= np.empty((row,column), dtype= float)\n",
    "for i in range(row):\n",
    "    for j in range(column):\n",
    "        dist= np.linalg.norm(X_test[i]-cent[j])\n",
    "        F_test[i][j]= math.exp(-math.pow(dist,2)/math.pow(2*sigma,2))"
   ]
  },
  {
   "cell_type": "markdown",
   "metadata": {
    "id": "DItcYmHIIE0O"
   },
   "source": [
    "**Βήμα 8ο**: Ακρίβεια πρόβλεψης στο test dataset"
   ]
  },
  {
   "cell_type": "code",
   "execution_count": 22,
   "metadata": {
    "id": "SSgzAWxfCmtL"
   },
   "outputs": [
    {
     "name": "stdout",
     "output_type": "stream",
     "text": [
      "0.8876675603217158\n"
     ]
    }
   ],
   "source": [
    "prediction= np.dot(F_test,W)\n",
    "prediction= 0.5*(np.sign(prediction-0.5)+1)\n",
    "\n",
    "score= accuracy_score(prediction,y_test)\n",
    "print(score.mean())"
   ]
  },
  {
   "cell_type": "markdown",
   "metadata": {
    "id": "yQ5z71wlsEbk"
   },
   "source": [
    "## Ερωτήσεις\n",
    "\n",
    "**Ερώτηση 1**: Να αναφέρετε επιγραμματικά με ποιον τρόπο λειτουργεί ένα νευρωνικό δίκτυο RBF\n",
    "\n",
    "**Ερώτηση 2**:Με ποιούς τρόπους μπορούμε να υπολογίσουμε τα βάρη στα hidden layers; Ποιες διαφορές υπάρχουν στους τρόπους αυτούς; Ποιος παρέχει τη καλύτερη δυνατή λύση;\n",
    "\n",
    "**Ερώτηση 3**: Επιχειρήστε να αλλάξετε την τιμή του k σε 10 και στη συνέχεια σε 50. Τι παρατηρείτε ως προς την ακρίβεια των αποτελεσμάτων;"
   ]
  },
  {
   "cell_type": "markdown",
   "metadata": {},
   "source": [
    "### Απαντήσεις\n",
    "\n",
    "- <font color='#486393'>Ένα Νευρωνικό Δίκτυο RBF (RBFN) αποτελεί ειδική περίπτωση νευρωνικού δικτύου στο οποίο ως ενεργοποιήσεις χρησιμοποιούνται ακτινικές συναρτήσεις βάσης (radial basis functions), δηλαδή βαθμωτές συναρτήσεις $\\phi\\left(\\mathbf{x}\\right)$, με $\\mathbf{x} \\in \\mathbb{R}^d$, οι οποίες έχουν εξάρτηση μόνο από την απόσταση του ορίσματός τους από κάποιο σταθερό σημείο $\\mathbf{c}$. Με άλλα λόγια, ισχύει</font>\n",
    "\n",
    "<font color='#486393'>$$ \\phi\\left(\\mathbf{x}\\right) = \\phi\\left(||\\mathbf{x}-\\mathbf{c} ||\\right), $$</font>\n",
    "\n",
    "<font color='#486393'>με το $\\mathbf{c}$ να καλείται το κέντρο (center) της συνάρτησης. Τα RBFN αποτελούνται τυπικά από 3 επίπεδα: το επίπεδο εισόδου (input layer), ένα κρυφό επίπεδο (hidden layer) το οποίο περιλαμβάνει τις μη-γραμμικές ενεργοποιήσεις ακτινικών συναρτήσεων βάσης και ένα γραμμικό επίπεδο εξόδου (output layter). Έτσι, εάν η είσοδος αντιστοιχεί στο διάνυσμα $\\mathbf{x}^\\text{in}$, τότε η έξοδος του RBFN θα είναι η βαθμωτή ποσότητα</font>\n",
    "\n",
    "<font color='#486393'>$$ x^\\text{out} = w_0 + \\sum_{i=1}^{N}{w_{i}\\phi_i\\left(||\\mathbf{x}^\\text{in}-\\mathbf{c}_i||\\right)}, $$</font>\n",
    "\n",
    "<font color='#486393'>η οποία (π.χ. μέσω του προσήμου της) επιτρέπει την ταξινόμηση του δειγματικού σημείου εισόδου σε μια από δύο πιθανές κατηγορίες (υπάρχουν και γενικεύσεις σε διανυσματικές εξόδους, όπου η ταξινόμηση πραγματοποιείται σε μία κατηγορία ανάμεσα σε περισσότερες από δύο). Στη σχέση αυτή, η άθροιση γίνεται επάνω σε όλα τα συναπτικά βάρη $w_i$ μεταξύ εισόδου και κρυφού επιπέδου (τα οποία θεωρούμε πως είναι $N$ σε πλήθος) επί τις αντίστοιχες ακτινικές συναρτήσεις βάσης. Η παράμετρος $w_0$ αντιστοιχεί στο bias που προστίθεται στην έξοδο. Σημειώνεται πως μια από τις συνηθέστερες επιλογές ακτινικής συνάρτησης βάσης είναι η Γκαουσιανή, γνωστή και ως Γκαουσιανός πυρήνας, δηλαδή η</font>\n",
    "\n",
    "<font color='#486393'>$$ \\phi\\left(\\mathbf{x}\\right) \\propto \\exp\\left(-\\frac{||\\mathbf{x}-\\mathbf{c} ||^2}{2\\sigma^2}\\right), $$</font>\n",
    "\n",
    "<font color='#486393'>με $\\sigma$ την τυπική απόκλιση και $\\mathbf{c}$ τη μέση τιμή (η οποία ταυτίζεται με το κέντρο της συνάρτησης).</font>\n",
    "\n",
    "- <font color='#486393'>Σε ό,τι έχει να κάνει με τον υπολογισμό των βαρών $w_i$ του κρυφού επιπέδου, δηλαδή την ίδια την εκπαίδευση του δικτύου, μπορεί κανείς να διακρίνει ανάμεσα σε δύο ευρύτερες οικογένειες μεθόδων στα πλαίσια του υπό μελέτη προβλήματος.</font>\n",
    "\n",
    "<font color='#486393'>Σε ό,τι έχει να κάνει με την πρώτη μέθοδο, το δίκτυο μπορεί να εκπαιδευτεί μέσω των γνωστών αλγορίθμων (π.χ. Gradient Descent) με τυχαίες αρχικοποιήσεις των ακτινικών συναρτήσεων βάσης. Η δεύτερη προσέγγιση είναι γνωστή και ως υβριδική εκμάθηση (hybrid learning) και είναι μάλιστα αυτή η οποία ακολουθείται και στο παρόν notebook. Η υβριδική εκμάθηση αποτελείται από ένα στάδιο μη επιβλεπόμενης εκμάθησης και ένα στάδιο επιβλεπόμενης εκμάθησης. Το πρώτο στάδιο συνιστά τον προσδιορισμό των ακτινικών συναρτήσεων βάσης του κρυφού επιπέδου αξιοποιώντας τα δεδομένα εκπαίδευσης. Στα πλαίσια της παρούσας άσκησης, η αρχικοποίηση αυτή αφορούσε στον προσδιορισμό των κέντρων των Γκαουσιανών πυρήνων και κατόπιν τις αντίστοιχες τιμές για την τυπική απόκλιση, χρησιμοποιώντας τον αλγόριθμο συσταδοποίησης k-Means. Κατά το δεύτερο στάδιο, με δεδομένες τις υπολογισμένες τιμές για τα κέντρα και τις αποκλίσεις από αυτά, το δίκτυο εκπαιδεύεται με τις γνωστές μεθόδους επιβλεπόμενης μάθησης.</font>\n",
    "\n",
    "<font color='#486393'>Όπως γίνεται αντιληπτό, η βασική διαφορά ανάμεσα στις δύο μεθόδους έγκειται στην αρχικοποίηση των ακτινικών συναρτήσεων βάσης, η οποία γίνεται με τυχαίο τρόπο στην πρώτη και μέσω χρήσης των δεδομένων εκπαίδευσης στη δεύτερη. Προφανώς, η δεύτερη μέθοδος είναι προτιμότερη, αφού μια κακή αρχικοποίηση των παραμέτρων των ακτινικών συναρτήσεων βάσης μπορεί να επηρεάσει αρνητικά την εκπαίδευση του δικτύου (για παράδειγμα παγίδευση σε τοπικά ελάχιστα κατά τη διαδικασία Gradient Descent). Μάλιστα, κατά τη μέθοδο υβριδικής εκμάθησης υπάρχει η δυνατότητα οι υπολογισμένες παράμετροι να αξιοποιηθούν απλώς ως αρχικές τιμές οι οποίες μπορούν να υποστούν επιπλέον ρύθμιση (fine-tuning) κατά τη διάρκεια της επιβλεπόμενης μάθησης.</font>\n",
    "\n",
    "- <font color='#486393'>Προκειμένου να πραγματοποιηθούν τα δύο πειράματα για τις δοσμένες τιμές του $k$, ορίζουμε πρώτα μία ενιαία συνάρτηση (για λόγους συντομίας) που να πραγματοποιεί τα παραπάνω βήματα σειριακά.</font>"
   ]
  },
  {
   "cell_type": "code",
   "execution_count": 23,
   "metadata": {},
   "outputs": [],
   "source": [
    "def RBFN(k,X_train,y_train,X_test,y_test):\n",
    "    K_cent = k\n",
    "    km = KMeans(n_clusters=K_cent, max_iter=100)\n",
    "    km.fit(X_train)\n",
    "    cent = km.cluster_centers_\n",
    "\n",
    "    max_param = 0\n",
    "    for i in range(K_cent):\n",
    "        for j in range(K_cent):\n",
    "            d = np.linalg.norm(cent[i]-cent[j])\n",
    "            if(d > max_param):\n",
    "                max_param = d\n",
    "    d = max_param\n",
    "\n",
    "    sigma= d/math.sqrt(2*K_cent)\n",
    "\n",
    "    shape = X_train.shape\n",
    "    row = shape[0]\n",
    "    column = K_cent\n",
    "    F = np.empty((row,column), dtype=float)\n",
    "\n",
    "    for i in range(row):\n",
    "        for j in range(column):\n",
    "            dist = np.linalg.norm(X_train[i]-cent[j])\n",
    "            F[i][j] = math.exp(-math.pow(dist,2)/math.pow(2*sigma,2))\n",
    "\n",
    "    FTG = np.dot(F.T,F)\n",
    "    FTG_inv = np.linalg.inv(FTG)\n",
    "    fac = np.dot(FTG_inv,F.T)\n",
    "    W = np.dot(fac,y_train)\n",
    "\n",
    "    row = X_test.shape[0]\n",
    "    column = K_cent\n",
    "    F_test = np.empty((row,column), dtype=float)\n",
    "    for i in range(row):\n",
    "        for j in range(column):\n",
    "            dist = np.linalg.norm(X_test[i]-cent[j])\n",
    "            F_test[i][j] = math.exp(-math.pow(dist,2)/math.pow(2*sigma,2))\n",
    "\n",
    "    prediction = np.dot(F_test,W)\n",
    "    prediction = 0.5*(np.sign(prediction-0.5)+1)\n",
    "\n",
    "    score = accuracy_score(prediction,y_test)\n",
    "    return score.mean()"
   ]
  },
  {
   "cell_type": "markdown",
   "metadata": {},
   "source": [
    "<font color='#486393'>Δεδομένης της συνάρτησης αυτής, αφότου επαναληφθεί ο υπολογισμός για $k = 8$ ως ένα sanity check, η διαδικασία πραγματοποιείται για $k = 10$ και κατόπιν για $k = 50$. Πέραν των τελικών αποτελεσμάτων για την ακρίβεια της ταξινόμησης καταγράφεται και ο συνολικός χρόνος εκτέλεσης.</font>"
   ]
  },
  {
   "cell_type": "code",
   "execution_count": 24,
   "metadata": {},
   "outputs": [
    {
     "name": "stdout",
     "output_type": "stream",
     "text": [
      "Η ακρίβεια στα δεδομένα αξιολόγησης για k = 8 είναι ίση με 88.767%.\n",
      "Wall time: 3.07 s\n"
     ]
    }
   ],
   "source": [
    "%%time\n",
    "k_val = 8\n",
    "Score_8 = RBFN(k_val,X_train,y_train,X_test,y_test)\n",
    "print(f'Η ακρίβεια στα δεδομένα αξιολόγησης για k = {k_val} είναι ίση με {Score_8*100:.3f}%.')"
   ]
  },
  {
   "cell_type": "code",
   "execution_count": 25,
   "metadata": {},
   "outputs": [
    {
     "name": "stdout",
     "output_type": "stream",
     "text": [
      "Η ακρίβεια στα δεδομένα αξιολόγησης για k = 10 είναι ίση με 89.042%.\n",
      "Wall time: 3.7 s\n"
     ]
    }
   ],
   "source": [
    "%%time\n",
    "k_val = 10\n",
    "Score_10 = RBFN(k_val,X_train,y_train,X_test,y_test)\n",
    "print(f'Η ακρίβεια στα δεδομένα αξιολόγησης για k = {k_val} είναι ίση με {Score_10*100:.3f}%.')"
   ]
  },
  {
   "cell_type": "code",
   "execution_count": 26,
   "metadata": {},
   "outputs": [
    {
     "name": "stdout",
     "output_type": "stream",
     "text": [
      "Η ακρίβεια στα δεδομένα αξιολόγησης για k = 50 είναι ίση με 89.551%.\n",
      "Wall time: 19.9 s\n"
     ]
    }
   ],
   "source": [
    "%%time\n",
    "k_val = 50\n",
    "Score_50 = RBFN(k_val,X_train,y_train,X_test,y_test)\n",
    "print(f'Η ακρίβεια στα δεδομένα αξιολόγησης για k = {k_val} είναι ίση με {Score_50*100:.3f}%.')"
   ]
  },
  {
   "cell_type": "markdown",
   "metadata": {},
   "source": [
    "<font color='#486393'>Στον ακόλουθο πίνακα καταγράφονται τα αποτελέσματα για την ακρίβεια ανά τιμή του $k$, καθώς και για το συνολικό χρόνο εκτέλεσης του αλγορίθμου.</font>\n",
    "\n",
    "| Τιμή $k$ | Τελική ακρίβεια | Χρόνος εκτέλεσης |\n",
    "| :---: | :---: | :--- |\n",
    "| 8 | 88.767% | 3.07 s |\n",
    "| 10 | 89.042% | 3.7 s |\n",
    "| 50 | 89.551% | 19.9 s |\n",
    "\n",
    "<font color='#486393'>Το πρώτο σημαντικό συμπέρασμα είναι πως η αύξηση του $k$ οδηγεί σε αισθητή αύξηση του χρόνου εκτέλεσης του αλγορίθμου, όχι τόσο κατά την αύξηση $k = 8 \\to k = 10$, οι οποίες είναι συγκρίσιμες τιμές, όσο κατά την αύξηση $k = 10 \\to k = 50$. Πέρα από το συνολικό χρόνο εκτέλεσης, όμως, παρατηρείται και μια αύξηση στην τελική ακρίβεια του μοντέλου, όπως αυτή υπολογίζεται βάσει των προβλέψεών του στα δεδομένα του συνόλου αξιολόγησης. Αν και η αύξηση αυτή δεν είναι πολύ υψηλή (η αύξηση είναι της τάξης του 0.5% σε κάθε περίπτωση), αυτό μάλλον οφείλεται μερικώς και στο γεγονός πως οι τιμές της ακρίβειας είναι ήδη πολύ υψηλές. Στο επόμενο κελί ο αλγόριθμος εκτελείται για ακόμη μία φορά, με $k = 500$, προκειμένου να φανεί πως ο κορεσμός στην τελική τιμή της ακρίβειας δεν έχει επέλθει ακόμα (δηλαδή, μπορεί να αυξηθεί κι άλλο), όμως το υπολογιστικό κόστος αρχίζει μάλλον να υπερβαίνει την ανάγκη για υψηλότερη ακρίβεια, αφού αυτά τα δύο δεν είναι ανάλογα.</font>"
   ]
  },
  {
   "cell_type": "code",
   "execution_count": 27,
   "metadata": {},
   "outputs": [
    {
     "name": "stdout",
     "output_type": "stream",
     "text": [
      "Η ακρίβεια στα δεδομένα αξιολόγησης για k = 500 είναι ίση με 90.275%.\n",
      "Wall time: 2min 59s\n"
     ]
    }
   ],
   "source": [
    "%%time\n",
    "k_val = 500\n",
    "Score_500 = RBFN(k_val,X_train,y_train,X_test,y_test)\n",
    "print(f'Η ακρίβεια στα δεδομένα αξιολόγησης για k = {k_val} είναι ίση με {Score_500*100:.3f}%.')"
   ]
  },
  {
   "cell_type": "markdown",
   "metadata": {},
   "source": [
    "<font color='#486393'>Πράγματι, παρότι η τελική ακρίβεια αυξήθηκε κατά περίπου 0.7% σε σχέση με την τιμή που βρέθηκε στην περίπτωση $k = 50$, ο υπολογιστικός χρόνος επίσης αυξήθηκε σημαντικά, φτάνοντας περίπου τα 3 λεπτά. Έτσι, η χρήση $k = 50$ ή και ενδεχομένως $k = 10$ να είναι προτιμότερη, αφού δεν πρέπει κανείς να ξεχνά πως η υψηλή αύξηση του αριθμού των συστάδων ενδέχεται να επηρεάσει τη γενικευσιμότητα του εκπαιδευμένου μοντέλου λόγω φαινομένων υπερπροσαρμογής.</font>"
   ]
  }
 ],
 "metadata": {
  "colab": {
   "collapsed_sections": [],
   "name": "Stochastics_Lab9_RBF.ipynb",
   "provenance": []
  },
  "kernelspec": {
   "display_name": "Python 3",
   "language": "python",
   "name": "python3"
  },
  "language_info": {
   "codemirror_mode": {
    "name": "ipython",
    "version": 3
   },
   "file_extension": ".py",
   "mimetype": "text/x-python",
   "name": "python",
   "nbconvert_exporter": "python",
   "pygments_lexer": "ipython3",
   "version": "3.8.8"
  }
 },
 "nbformat": 4,
 "nbformat_minor": 4
}
