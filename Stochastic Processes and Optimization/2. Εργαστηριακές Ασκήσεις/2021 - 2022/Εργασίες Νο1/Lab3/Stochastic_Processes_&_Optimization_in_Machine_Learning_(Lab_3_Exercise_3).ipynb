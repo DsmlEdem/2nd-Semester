{
 "cells": [
  {
   "cell_type": "markdown",
   "metadata": {
    "colab_type": "text",
    "id": "kNvIx4qwPTsa"
   },
   "source": [
    "<h1><b>Άσκηση 3</b></h1>\n",
    "<p align=\"justify\">Θεωρήστε μία μαρκοβιανή αλυσίδα {X<sub>n</sub>}<sub>n</sub> στο σύνολο καταστάσεων <b>X</b>={1,2,…,8} με πίνακα πιθανοτήτων μετάβασης:</p>\n",
    "<ul>\n",
    "<img src=\"https://raw.githubusercontent.com/nkostopoulos/StochasticsLabPublic/master/lab3/ex3.PNG\">\n",
    "<li>Να ταξινομήσετε τις καταστάσεις της αλυσίδας σε κλάσεις επικοινωνίας. Ποιες κλάσεις είναι ανοιχτές και ποιες κλειστές; Ποιες καταστάσεις είναι παροδικές και ποιες επαναληπτικές; Για να βοηθηθείτε μπορείτε να χρησιμοποιήσετε τον <a href=\"https://setosa.io/markov/index.html#%7B%22tm%22%3A%5B%5B0.5%2C0.5%2C0%2C0%2C0%2C0%2C0%2C0%5D%2C%5B0.25%2C0.75%2C0%2C0%2C0%2C0%2C0%2C0%5D%2C%5B0.25%2C0.25%2C0%2C0.125%2C0.375%2C0%2C0%2C0%5D%2C%5B0%2C0%2C0.25%2C0%2C0.75%2C0%2C0%2C0%5D%2C%5B0%2C0%2C0.2%2C0.2%2C0.2%2C0.2%2C0.2%2C0%5D%2C%5B0%2C0%2C0%2C0%2C0%2C0%2C0.5%2C0.5%5D%2C%5B0%2C0%2C0%2C0%2C0%2C0.5%2C0%2C0.5%5D%2C%5B0%2C0%2C0%2C0%2C0%2C0.5%2C0.5%2C0%5D%5D%7D\">προσομοιωτή</a>, ο οποίος είναι κατάλληλα διαμορφωμένος για την άσκηση.</li>\n",
    "<li>Χρησιμοποιώντας το αποτέλεσμα του προηγούμενου ερωτήματος, να προσδιορίσετε την αναλλοίωτη κατανομή της μαρκοβιανής αλυσίδας για την περίπτωση που η αλυσίδα ξεκινάει από την κατάσταση (α) 1 και (β) 8, χωρίς τη βοήθεια υπολογιστή.</li>\n",
    "<li> Να θεωρήσετε την περίπτωση στην οποία η αλυσίδα ξεκινάει από την κατάσταση 1. Να υποθέσετε ότι σε κάποιο βήμα, η αλυσίδα βρίσκεται στην κατάσταση 2 και ότι έχει παρέλθει το μεταβατικό φαινόμενο. Ποιος είναι ο αναμενόμενος αριθμός βημάτων που απαιτούνται για την πρώτη επιστροφή της αλυσίδας\n",
    "στην κατάσταση 2; Να απαντήσετε στο ερώτημα χωρίς τη βοήθεια υπολογιστή.</li>\n",
    "</ul>\n"
   ]
  },
  {
   "cell_type": "markdown",
   "metadata": {},
   "source": [
    "### Απαντήσεις\n",
    "\n",
    "- <font color='#486393'>Η απεικόνιση της αλυσίδας Markov που περιγράφει ο πίνακας μετάβασης $P$ φαίνεται παρακάτω.</font>\n",
    "\n",
    "<center><img src=\"https://srigas.me/images/stoch_lab3_graph3.jpg\" width=\"400\"></center>\n",
    "\n",
    "<font color='#486393'>Γίνεται εμφανές, ότι η αλυσίδα ανάγεται σε τρεις κλάσεις επικοινωνίας: τις $\\{1,2\\}$ και $\\{6,7,8\\}$, οι οποίες είναι κλειστές, και την $\\{3,4,5\\}$, η οποία είναι ανοιχτή. Πρόσθετα, η κλάση $\\{3,4,5\\}$ είναι παροδική, ως ανοιχτή, ενώ οι κλάσεις $\\{1,2\\}$ και $\\{6,7,8\\}$ είναι επαναληπτικές, ως κλειστές και πεπερασμένες.</font>\n",
    "    \n",
    "- <font color='#486393'>Βάσει της ανάλυσης που προηγήθηκε, γίνεται αντιληπτό πως για τη συγκεκριμένη μαρκοβιανή αλυσίδα υπάρχει πάντοτε αναλλοίωτη κατανομή, η οποία εμπλέκει είτε τις καταστάσεις της κλάσης $\\{1,2\\}$, είτε τις καταστάσεις της κλάσης $\\{6,7,8\\}$. Το ποια από αυτές τις κλάσεις εμφανίζεται στην αναλλοίωτη κατανομή είναι καθαρά στοχαστικό στην περίπτωση που η αρχική κατάσταση ανήκει στην ανοιχτή κλάση, όμως είναι ντετερμινιστικό στην περίπτωση που η αρχική κατάσταση ανήκει σε κάποια από τις δύο κλειστές κλάσεις.</font>\n",
    "\n",
    "<font color='#486393'>Στην παρούσα άσκηση, καλούμαστε να προσδιορίσουμε την αναλλοίωτη κατανομή $\\pi_A$ ή $\\pi_B$, η οποία σχετίζεται με την κατάσταση 1 ή την κατάσταση 8, αντίστοιχα, ως αρχική κατάσταση. Και στις δύο περιπτώσεις η αρχική κατάσταση ανήκει σε κλειστή κλάση, επομένως οι αναμενόμενες συχνότητες για κάθε κατάσταση εκτός της κλάσης αυτής θα είναι μηδενικές. Συγκεκριμένα, για την πρώτη περίπτωση έχουμε:</font>\n",
    "\n",
    "<font color='#486393'>$$\\left(\\pi_1, \\pi_2\\right) = \\left(\\pi_1, \\pi_2\\right)\\cdot \\begin{pmatrix}\n",
    "0.5 & 0.5 \\\\\n",
    "0.25 & 0.75\n",
    "\\end{pmatrix}, \\hspace{8mm} \\pi_1 + \\pi_2 = 1. $$</font>\n",
    "\n",
    "<font color='#486393'>Η πρώτη εξίσωση αντιστοιχεί στην $\\pi_2 = 2\\pi_1$, επομένως σε συνδυασμό με τη δεύτερη προκύπτουν οι λύσεις $\\pi_1 = 1/3$ και $\\pi_2 = 2/3$. Με άλλα λόγια, εάν η αρχική κατάσταση είναι η κατάσταση 1, τότε η αναλλοίωτη κατανομή θα είναι η:</font>\n",
    "\n",
    "<font color='#486393'>$$\\pi_A = \\left(1/3, 2/3, 0, 0, 0, 0, 0, 0\\right)$$</font>\n",
    "\n",
    "<font color='#486393'>Σε ό,τι αφορά τη δεύτερη περίπτωση, έχουμε κατ' αντιστοιχία:</font>\n",
    "\n",
    "<font color='#486393'>$$\\left(\\pi_6, \\pi_7, \\pi_8\\right) = \\left(\\pi_6, \\pi_7, \\pi_8\\right)\\cdot \\begin{pmatrix}\n",
    "0 & 0.5 & 0.5 \\\\\n",
    "0.5 & 0 & 0.5 \\\\\n",
    "0.5 & 0.5 & 0\n",
    "\\end{pmatrix}, \\hspace{8mm} \\pi_6 + \\pi_7 + \\pi_8 = 1. $$</font>\n",
    "\n",
    "<font color='#486393'>Γίνεται αμέσως αντιληπτό πως οι εξισώσεις αυτές έχουν τη συμμετρία $\\pi_6 \\leftrightarrow \\pi_7 \\leftrightarrow \\pi_8$, επομένως το τελικό αποτέλεσμα θα είναι $\\pi_6 = \\pi_7 = \\pi_8 = 1/3$. Έτσι, εάν η αρχική κατάσταση είναι η κατάσταση 8, τότε η αναλλοίωτη κατανομή θα είναι η:</font>\n",
    "\n",
    "<font color='#486393'>$$\\pi_B = \\left(0, 0, 0, 0, 0, 1/3, 1/3, 1/3\\right)$$</font>\n",
    "\n",
    "<font color='#486393'>Συμπληρωματικά αναφέρουμε πως τα αποτελέσματα αυτά μπορούν να επαληθευτούν και μέσω χρήσης του κώδικα προσομοίωσης που αναπτύχθηκε για τους σκοπούς της Άσκησης 2, με κατάλληλη προσαρμογή του πίνακα $P$ και της αρχικής κατάστασης. Χρησιμοποιώντας 1000000 βήματα (δηλαδή το πλήθος που κρίθηκε βέλτιστο στην προηγούμενη άσκηση) λαμβάνουμε τα ακόλουθα αποτελέσματα."
   ]
  },
  {
   "cell_type": "code",
   "execution_count": 1,
   "metadata": {},
   "outputs": [],
   "source": [
    "from __future__ import division\n",
    "from simple_markov_chain_lib import markov_chain\n",
    "import numpy as np\n",
    "import matplotlib.pyplot as plt\n",
    "\n",
    "mycol = (72/255, 99/255, 147/255)\n",
    "\n",
    "def defineMarkovTable(): \n",
    "    markov_table = {\n",
    "        0: {0: 0.50, 1: 0.50},\n",
    "        1: {0: 0.25, 1: 0.75},\n",
    "        2: {0: 0.25, 1: 0.25, 3: 0.125, 4: 0.375},\n",
    "        3: {2: 0.25, 4: 0.75},\n",
    "        4: {2: 0.20, 3: 0.20, 4: 0.20, 5: 0.20, 6: 0.20},\n",
    "        5: {6: 0.50, 7: 0.50},\n",
    "        6: {5: 0.50, 7: 0.50},\n",
    "        7: {5: 0.50, 6: 0.50}\n",
    "        }\n",
    "\n",
    "    return markov_table\n",
    "\n",
    "def defineInitDistribution(state):\n",
    "    init_dist = {state: 1.}\n",
    "\n",
    "    return init_dist\n",
    "\n",
    "def calculateFrequencyTable(mc,markov_table,init_dist):\n",
    "\n",
    "    total_runs = 1000000\n",
    "    visits = list()\n",
    "    visits = [0] * len(markov_table)\n",
    "\n",
    "    for index in range(total_runs):\n",
    "        mc.move()\n",
    "        visits[mc.running_state] += 1\n",
    "\n",
    "    frequency = [v/total_runs for v in visits]\n",
    "\n",
    "    return frequency\n",
    "\n",
    "def printFrequencies(frequency, markov_table):\n",
    "    for state in range(0, len(markov_table)):\n",
    "        print(f\"Συχνότητα εμφάνισης της κατάστασης {state+1}: {frequency[state]:.4f}.\")\n",
    "\n",
    "    return None\n",
    "\n",
    "def plotFrequencies(frequency,state):\n",
    "    objects = ('1', '2', '3', '4', '5', '6', '7', '8')\n",
    "    y_pos = np.arange(len(objects))\n",
    "\n",
    "    plt.bar(y_pos, frequency, align='center', alpha=0.5, color=mycol)\n",
    "    plt.xticks(y_pos, objects)\n",
    "    plt.xlabel('Κατάσταση')\n",
    "    plt.ylabel('Συχνότητα Εμφάνισης')\n",
    "    plt.title(f'Ιστόγραμμα συχνοτήτων για αρχική κατάσταση την κατάσταση {state+1}')\n",
    "    plt.show()\n",
    "\n",
    "    return None\n",
    "\n",
    "def run_markov(state):\n",
    "    markov_table = defineMarkovTable()\n",
    "    init_dist = defineInitDistribution(state)\n",
    "    mc = markov_chain(markov_table, init_dist)\n",
    "    mc.start()\n",
    "\n",
    "    frequency = calculateFrequencyTable(mc, markov_table, init_dist)\n",
    "    plotFrequencies(frequency, state)\n",
    "    printFrequencies(frequency, markov_table)\n",
    "    \n",
    "    return None\n",
    "\n",
    "import seaborn as sns\n",
    "sns.set(style = \"darkgrid\") # καθαρά αισθητικοί λόγοι"
   ]
  },
  {
   "cell_type": "code",
   "execution_count": 2,
   "metadata": {},
   "outputs": [
    {
     "data": {
      "image/png": "[encoded data removed]",
      "text/plain": [
       "<Figure size 432x288 with 1 Axes>"
      ]
     },
     "metadata": {},
     "output_type": "display_data"
    },
    {
     "name": "stdout",
     "output_type": "stream",
     "text": [
      "Συχνότητα εμφάνισης της κατάστασης 1: 0.3329.\n",
      "Συχνότητα εμφάνισης της κατάστασης 2: 0.6671.\n",
      "Συχνότητα εμφάνισης της κατάστασης 3: 0.0000.\n",
      "Συχνότητα εμφάνισης της κατάστασης 4: 0.0000.\n",
      "Συχνότητα εμφάνισης της κατάστασης 5: 0.0000.\n",
      "Συχνότητα εμφάνισης της κατάστασης 6: 0.0000.\n",
      "Συχνότητα εμφάνισης της κατάστασης 7: 0.0000.\n",
      "Συχνότητα εμφάνισης της κατάστασης 8: 0.0000.\n"
     ]
    }
   ],
   "source": [
    "# Αρχική κατάσταση η 1\n",
    "run_markov(0)"
   ]
  },
  {
   "cell_type": "code",
   "execution_count": 3,
   "metadata": {},
   "outputs": [
    {
     "data": {
      "image/png": "[encoded data removed]",
      "text/plain": [
       "<Figure size 432x288 with 1 Axes>"
      ]
     },
     "metadata": {},
     "output_type": "display_data"
    },
    {
     "name": "stdout",
     "output_type": "stream",
     "text": [
      "Συχνότητα εμφάνισης της κατάστασης 1: 0.0000.\n",
      "Συχνότητα εμφάνισης της κατάστασης 2: 0.0000.\n",
      "Συχνότητα εμφάνισης της κατάστασης 3: 0.0000.\n",
      "Συχνότητα εμφάνισης της κατάστασης 4: 0.0000.\n",
      "Συχνότητα εμφάνισης της κατάστασης 5: 0.0000.\n",
      "Συχνότητα εμφάνισης της κατάστασης 6: 0.3333.\n",
      "Συχνότητα εμφάνισης της κατάστασης 7: 0.3335.\n",
      "Συχνότητα εμφάνισης της κατάστασης 8: 0.3332.\n"
     ]
    }
   ],
   "source": [
    "# Αρχική κατάσταση η 8\n",
    "run_markov(7)"
   ]
  },
  {
   "cell_type": "markdown",
   "metadata": {},
   "source": [
    "<font color='#486393'>Όπως ήταν αναμενόμενο, τα αποτελέσματα που προβλέψαμε θεωρητικά επαληθεύονται και μέσω των προσομοιώσεων.</font>\n",
    "\n",
    "- <font color='#486393'>Σχετικά με το τελικό ερώτημα, στην περίπτωση όπου η αλυσίδα ξεκινά από την κατάσταση 1, η αναλλοίωτη κατανομή δίνεται από την $\\pi_A$. Έτσι, ο αναμενόμενος αριθμός βημάτων που απαιτούνται για δύο διαδοχικές μεταβάσεις στην κατάσταση 2 θα ισούται με</font>\n",
    "\n",
    "<font color='#486393'>$$E_2 = \\frac{1}{\\pi_2} = \\frac{3}{2},$$</font>\n",
    "\n",
    "<font color='#486393'>δηλαδή κατά μέσο όρο ενάμιση βήμα.</font>"
   ]
  }
 ],
 "metadata": {
  "colab": {
   "collapsed_sections": [],
   "name": "Stochastic_Processes_&_Optimization_in_Machine_Learning_(Lab_3_Exercise_3).ipynb",
   "provenance": []
  },
  "kernelspec": {
   "display_name": "Python 3",
   "language": "python",
   "name": "python3"
  },
  "language_info": {
   "codemirror_mode": {
    "name": "ipython",
    "version": 3
   },
   "file_extension": ".py",
   "mimetype": "text/x-python",
   "name": "python",
   "nbconvert_exporter": "python",
   "pygments_lexer": "ipython3",
   "version": "3.8.8"
  }
 },
 "nbformat": 4,
 "nbformat_minor": 4
}
