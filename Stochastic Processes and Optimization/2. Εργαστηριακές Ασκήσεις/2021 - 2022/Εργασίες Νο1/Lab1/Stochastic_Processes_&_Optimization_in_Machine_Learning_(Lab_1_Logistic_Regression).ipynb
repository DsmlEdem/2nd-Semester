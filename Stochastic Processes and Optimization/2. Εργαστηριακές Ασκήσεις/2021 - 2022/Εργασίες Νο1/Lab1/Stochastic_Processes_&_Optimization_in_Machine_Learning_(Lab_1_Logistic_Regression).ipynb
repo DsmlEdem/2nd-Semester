{
 "cells": [
  {
   "cell_type": "markdown",
   "metadata": {
    "colab_type": "text",
    "id": "HBURy4ihEfMj"
   },
   "source": [
    "<h1><b>Ο αλγόριθμος Logistic Regression</b></h1>\n",
    "<p align=\"justify\">Στην άσκηση αυτή θα μελετήσετε τον αλγόριθμο <i>logistic regression</i>, κατασκευάζοντας ένα σύντομο πρόγραμμα. Στην άσκηση αυτή θα χρησιμοποιήσετε τη βιβλιοθήκη της <i>Python Scikit-Learn</i>. Για τη διευκόλυνσή σας παρέχονται οι δηλώσεις των βιβλιοθηκών που θα χρησιμοποιήσετε καθώς και εντολές με κενά. Συγκεκριμένα, θα κατασκευάσετε έναν <i>ταξινομητή Spam μηνυμάτων SMS</i>. Τα δεδομένα που θα χρησιμοποιήσετε για την εκπαίδευση και την επικύρωση του μοντέλου, καθώς και πληροφορίες για αυτά μπορούν να βρεθούν <a href=\"https://archive.ics.uci.edu/ml/datasets/sms+spam+collection\"><i>εδώ</i></a>.</p>\n",
    "<p align=\"justify\">Καλείστε να αναπτύξετε ένα πρόγραμμα, το οποίο:</p>\n",
    "<ul>\n",
    "<li>Θα φορτώνει τα δεδομένα από το αρχείο <i>.csv</i>.</li>\n",
    "<li>Θα διαχωρίζει με τυχαίο τρόπο τα δεδομένα που παρέχονται σε δεδομένα εκπαίδευσης <i>(training set)</i> και δεδομένα για τον υπολογισμό της ακρίβειας του μοντέλου <i>(test set)</i>.</li>\n",
    "<li>Θα πραγματοποιεί προεπεξεργασία στα δεδομένα χρησιμοποιώντας τη μέθοδο <i>TfidVectorizer</i> της βιβλιοθήκης <i>Scikit-Learn</i>. Περισσότερες πληροφορίες για τη μέθοδο <i>TfidVectorizer</i>, που περιλαμβάνεται στις δηλώσεις του προγράμματος, μπορούν να βρεθούν <a href=\"https://scikit-learn.org/stable/modules/generated/sklearn.feature_extraction.text.TfidfVectorizer.html\"><i>εδώ</i></a>. Να σημειωθεί πως η μέθοδος <i>TfidVectorizer</i> της <i>Scikit-Learn</i> αφαιρεί και τα σημεία στίξης, καθώς επεξεργάζεται το dataset.</li>\n",
    "<li>Θα εκπαιδεύει το μοντέλο <i>logistic regression</i>.\n",
    "<li>Θα υπολογίζει την ακρίβειά του πάνω στο <i>test set</i>.</li>\n",
    "</ul>\n",
    "<p align=\"justify\">Για ποιους λόγους πιστεύετε ότι δεν είναι κατάλληλη η εφαρμογή της μεθόδου <i>linear regression</i> στο συγκεκριμένο πρόβλημα;</p>"
   ]
  },
  {
   "cell_type": "markdown",
   "metadata": {},
   "source": [
    "<font color='#486393'>Τα σχόλια στα βήματα της παρούσας αναφοράς γράφονται σε αυτό το χρώμα, προκειμένου να διαφοροποιούνται από την εκφώνηση ή τις οδηγίες.</font>\n",
    "\n",
    "<font color='#486393'>Όπως υποδεικνύει και το όνομά της, η γραμμική *παλινδρόμηση* είναι ένα μοντέλο παλινδρόμησης το οποίο στοχεύει στη βέλτιστη προσαρμογή μιας ευθείας (στην απλή περίπτωση) σε ένα σύνολο δεδομένων εκπαίδευσης με σκοπό την πρόβλεψη συνεχών τιμών. Για το λόγο αυτό, χρησιμοποιείται συχνά σε προβλήματα πρόβλεψης κόστους, θερμοκρασίας, κτλ. Στην προκείμενη περίπτωση διαθέτουμε ένα πρόβλημα ταξινόμησης, όπου στόχος είναι η εκπαίδευση ενός δυαδικού ταξινομητή, δηλαδή ενός μοντέλου που να προβλέπει 1 ή 0 (spam ή όχι spam). Έτσι, η γραμμική παλινδρόμηση δεν αποτελεί ένα κατάλληλο μοντέλο, σε αντίθεση με τη λογιστική παλινδρόμηση η οποία, παρά το παραπλανητικό της όνομα, είναι ένας ταξινομητής.</font>"
   ]
  },
  {
   "cell_type": "code",
   "execution_count": 1,
   "metadata": {
    "colab": {},
    "colab_type": "code",
    "id": "JEdw5TJMEmpy"
   },
   "outputs": [],
   "source": [
    "import pandas as pd\n",
    "import numpy as np\n",
    "from sklearn.feature_extraction.text import TfidfVectorizer\n",
    "from sklearn.linear_model import LogisticRegression\n",
    "from sklearn.model_selection import train_test_split\n",
    "from sklearn.metrics import f1_score"
   ]
  },
  {
   "cell_type": "markdown",
   "metadata": {},
   "source": [
    "<font color='#486393'>Το πρώτο βήμα είναι η λήψη του αρχείου των δεδομένων και η μεταφόρτωσή του σε ένα pandas dataframe. Τα αρχικά labels των εγγραφών είναι ham για τα SMS που δεν αποτελούν spam και spam για τα υπόλοιπα, επομένως μετατρέπονται σε 0 και 1, αντίστοιχα.</font>"
   ]
  },
  {
   "cell_type": "code",
   "execution_count": 2,
   "metadata": {},
   "outputs": [
    {
     "data": {
      "text/html": [
       "<div>\n",
       "<style scoped>\n",
       "    .dataframe tbody tr th:only-of-type {\n",
       "        vertical-align: middle;\n",
       "    }\n",
       "\n",
       "    .dataframe tbody tr th {\n",
       "        vertical-align: top;\n",
       "    }\n",
       "\n",
       "    .dataframe thead th {\n",
       "        text-align: right;\n",
       "    }\n",
       "</style>\n",
       "<table border=\"1\" class=\"dataframe\">\n",
       "  <thead>\n",
       "    <tr style=\"text-align: right;\">\n",
       "      <th></th>\n",
       "      <th>label</th>\n",
       "      <th>SMS</th>\n",
       "    </tr>\n",
       "  </thead>\n",
       "  <tbody>\n",
       "    <tr>\n",
       "      <th>0</th>\n",
       "      <td>0</td>\n",
       "      <td>Go until jurong point, crazy.. Available only ...</td>\n",
       "    </tr>\n",
       "    <tr>\n",
       "      <th>1</th>\n",
       "      <td>0</td>\n",
       "      <td>Ok lar... Joking wif u oni...</td>\n",
       "    </tr>\n",
       "    <tr>\n",
       "      <th>2</th>\n",
       "      <td>1</td>\n",
       "      <td>Free entry in 2 a wkly comp to win FA Cup fina...</td>\n",
       "    </tr>\n",
       "    <tr>\n",
       "      <th>3</th>\n",
       "      <td>0</td>\n",
       "      <td>U dun say so early hor... U c already then say...</td>\n",
       "    </tr>\n",
       "    <tr>\n",
       "      <th>4</th>\n",
       "      <td>0</td>\n",
       "      <td>Nah I don't think he goes to usf, he lives aro...</td>\n",
       "    </tr>\n",
       "  </tbody>\n",
       "</table>\n",
       "</div>"
      ],
      "text/plain": [
       "   label                                                SMS\n",
       "0      0  Go until jurong point, crazy.. Available only ...\n",
       "1      0                      Ok lar... Joking wif u oni...\n",
       "2      1  Free entry in 2 a wkly comp to win FA Cup fina...\n",
       "3      0  U dun say so early hor... U c already then say...\n",
       "4      0  Nah I don't think he goes to usf, he lives aro..."
      ]
     },
     "execution_count": 2,
     "metadata": {},
     "output_type": "execute_result"
    }
   ],
   "source": [
    "# load csv file\n",
    "df = pd.read_csv(\"SMSSpamCollection\", sep = '\\t', header = None, names = ['label', 'SMS'])\n",
    "df = df.replace(['ham', 'spam'], [0, 1])\n",
    "df.head()"
   ]
  },
  {
   "cell_type": "markdown",
   "metadata": {},
   "source": [
    "<font color='#486393'>Κατόπιν, πραγματοποιείται ο διαχωρισμός των δεδομένων σε δύο υποσύνολα: ένα υποσύνολο για την εκπαίδευση του ταξινομητή (train), καθώς και ένα για την αξιολόγησή του (test). Μιας και δεν υπάρχει ρητή οδηγία σε ό,τι αφορά την αναλογία του διαχωρισμού αυτού, επιλέγεται στο υποσύνολο αξιολόγησης να χρησιμοποιηθεί το 20% του συνόλου, ενώ το υπόλοιπο 80% αφιερώνεται στο μέρος της εκπαίδευσης. Στα παρακάτω, η επιλογή </font>`stratify` <font color='#486393'>γίνεται προκειμένου η αναλογία των δύο labels να είναι κοινή στα δεδομένα εκπαίδευσης και αξιολόγησης.</font>"
   ]
  },
  {
   "cell_type": "code",
   "execution_count": 3,
   "metadata": {},
   "outputs": [],
   "source": [
    "# split dataset\n",
    "X_train_raw, X_test_raw, y_train, y_test = train_test_split(df['SMS'], df['label'], stratify=df['label'], test_size=0.2, random_state=42)"
   ]
  },
  {
   "cell_type": "markdown",
   "metadata": {},
   "source": [
    "<font color='#486393'>Το επόμενο βήμα είναι η προεπεξεργασία των δεδομένων μέσω του </font>`TfidfVectorizer` <font color='#486393'>της sklearn. Ο όρος **TF-IDF** σημαίνει **Term Frequency - Inverse Document Frequency** και χρησιμοποιείται στο πεδίο της ανάκτησης πληροφορίας ως μέτρο της σημασίας μιας λέξης σε ένα κείμενο. Συγκεκριμένα, η τιμή TF-IDF αυξάνεται κατ' αναλογία με τη συχνότητα εμφάνισής της σε ένα κείμενο και σταθμίζεται βάσει του πλήθους κειμένων στα οποία εμφανίζεται. Η στάθμιση αυτή πραγματοποιείται διότι υπάρχουν λέξεις με υψηλότερη a-priori πιθανότητα εμφάνισης, όπως για παράδειγμα τα άρθρα.</font>\n",
    "\n",
    "<font color='#486393'>Όπως αναλύθηκε και στην εργαστηριακή αναφορά της Γραμμικής Παλινδρόμησης, είναι πολύ σημαντικό το μοντέλο προεπεξεργασίας να εκπαιδεύεται αποκλειστικά στα train δεδομένα και να εφαρμόζεται αυτούσιο στα test δεδομένα για να αποφευχθεί η μεταφορά πληροφορίας του θεωρητικά αγνώστου συνόλου δεδομένων στο τελικό μοντέλο.</font>"
   ]
  },
  {
   "cell_type": "code",
   "execution_count": 4,
   "metadata": {},
   "outputs": [],
   "source": [
    "# vectorize data\n",
    "vectorizer = TfidfVectorizer()\n",
    "X_train = vectorizer.fit_transform(X_train_raw)\n",
    "X_test = vectorizer.transform(X_test_raw)"
   ]
  },
  {
   "cell_type": "markdown",
   "metadata": {},
   "source": [
    "<font color='#486393'>Στη συνέχεια, ορίζεται το μοντέλο λογιστικής παλινδρόμησης (υλοποίηση της sklearn) και εκπαιδεύεται στα χαρακτηριστικά που έχουν προκύψει από την προεπεξεργασία.</font>"
   ]
  },
  {
   "cell_type": "code",
   "execution_count": 5,
   "metadata": {
    "colab": {},
    "colab_type": "code",
    "id": "FF19eQsYE6DK"
   },
   "outputs": [
    {
     "data": {
      "text/plain": [
       "LogisticRegression()"
      ]
     },
     "execution_count": 5,
     "metadata": {},
     "output_type": "execute_result"
    }
   ],
   "source": [
    "# fit Logistic Regression model\n",
    "model = LogisticRegression()\n",
    "model.fit(X_train,y_train)"
   ]
  },
  {
   "cell_type": "markdown",
   "metadata": {},
   "source": [
    "<font color='#486393'>Το τελευταίο βήμα αποτελεί η αξιολόγηση του μοντέλου στα δεδομένα αξιολόγησης.</font>"
   ]
  },
  {
   "cell_type": "code",
   "execution_count": 6,
   "metadata": {},
   "outputs": [
    {
     "name": "stdout",
     "output_type": "stream",
     "text": [
      "Η ακρίβεια του ταξινομητή στα δεδομένα αξιολόγησης προκύπτει ίση με 97.31%.\n"
     ]
    }
   ],
   "source": [
    "# calculate accurary based on test set\n",
    "acc = model.score(X_test,y_test)\n",
    "print(f\"Η ακρίβεια του ταξινομητή στα δεδομένα αξιολόγησης προκύπτει ίση με {acc*100:.2f}%.\")"
   ]
  },
  {
   "cell_type": "markdown",
   "metadata": {},
   "source": [
    "<font color='#486393'>Αξίζει να σημειωθεί στο σημείο αυτό πως η ακρίβεια αυτή καθ' αυτή επιλέγεται ως μέτρο αξιολόγησης επειδή αποτελεί ζητούμενο της άσκησης. Θεωρητικά, μια καταλληλότερη μετρική για την προκείμενη περίπτωση είναι το F1-Score, το οποίο αποτελεί τον αρμονικό μέσο των Precision και Recall, διότι το σύνολο των δεδομένων δεν είναι ισορροπημένο.</font>"
   ]
  },
  {
   "cell_type": "code",
   "execution_count": 7,
   "metadata": {},
   "outputs": [
    {
     "name": "stdout",
     "output_type": "stream",
     "text": [
      "Από το σύνολο των δεδομένων, το 13.41% αντιστοιχεί σε spam.\n"
     ]
    }
   ],
   "source": [
    "SPAM = df[df['label']==1].count()[0]\n",
    "print(f\"Από το σύνολο των δεδομένων, το {100*SPAM/df.shape[0]:.2f}% αντιστοιχεί σε spam.\")"
   ]
  },
  {
   "cell_type": "markdown",
   "metadata": {},
   "source": [
    "<font color='#486393'>Συγκεκριμένα, η αναλογία spam/not spam είναι μεγαλύτερη από 1:6. Ως προς αυτό το μέτρο, η απόδοση του ταξινομητή υπολογίζεται ως:</font>"
   ]
  },
  {
   "cell_type": "code",
   "execution_count": 8,
   "metadata": {},
   "outputs": [
    {
     "name": "stdout",
     "output_type": "stream",
     "text": [
      "Το F1-Score του ταξινομητή στα δεδομένα αξιολόγησης προκύπτει ίσο με 88.81%.\n"
     ]
    }
   ],
   "source": [
    "y_pred = model.predict(X_test)\n",
    "f1 = f1_score(y_test,y_pred)\n",
    "print(f\"Το F1-Score του ταξινομητή στα δεδομένα αξιολόγησης προκύπτει ίσο με {f1*100:.2f}%.\")"
   ]
  }
 ],
 "metadata": {
  "colab": {
   "name": "Stochastic_Processes_&_Optimization_in_Machine_Learning_(Lab_2_Logistic_Regression).ipynb",
   "provenance": []
  },
  "kernelspec": {
   "display_name": "Python 3",
   "language": "python",
   "name": "python3"
  },
  "language_info": {
   "codemirror_mode": {
    "name": "ipython",
    "version": 3
   },
   "file_extension": ".py",
   "mimetype": "text/x-python",
   "name": "python",
   "nbconvert_exporter": "python",
   "pygments_lexer": "ipython3",
   "version": "3.8.8"
  }
 },
 "nbformat": 4,
 "nbformat_minor": 4
}
