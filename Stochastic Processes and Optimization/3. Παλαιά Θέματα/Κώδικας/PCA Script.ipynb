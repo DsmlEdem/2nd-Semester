{
 "cells": [
  {
   "cell_type": "code",
   "execution_count": 26,
   "metadata": {},
   "outputs": [],
   "source": [
    "import numpy as np\n",
    "from numpy.linalg import eig"
   ]
  },
  {
   "cell_type": "markdown",
   "metadata": {},
   "source": [
    "### PCA"
   ]
  },
  {
   "cell_type": "code",
   "execution_count": 27,
   "metadata": {},
   "outputs": [],
   "source": [
    "data = np.array([[14.23,1.71,2.43],[13.2,1.78,2.14],[13.16,2.36,2.67]])"
   ]
  },
  {
   "cell_type": "code",
   "execution_count": 28,
   "metadata": {},
   "outputs": [],
   "source": [
    "norm_data = np.array([[0.7,-0.33,-0.37],[-0.24,-0.17,0.41],[0.02,-0.27,0.26]])"
   ]
  },
  {
   "cell_type": "code",
   "execution_count": 29,
   "metadata": {},
   "outputs": [],
   "source": [
    "cov_matrix = np.cov(norm_data.T)"
   ]
  },
  {
   "cell_type": "code",
   "execution_count": 30,
   "metadata": {},
   "outputs": [
    {
     "data": {
      "text/plain": [
       "array([[ 0.2356    , -0.0362    , -0.2001    ],\n",
       "       [-0.0362    ,  0.00653333,  0.0296    ],\n",
       "       [-0.2001    ,  0.0296    ,  0.1713    ]])"
      ]
     },
     "execution_count": 30,
     "metadata": {},
     "output_type": "execute_result"
    }
   ],
   "source": [
    "cov_matrix"
   ]
  },
  {
   "cell_type": "code",
   "execution_count": 31,
   "metadata": {},
   "outputs": [
    {
     "name": "stdout",
     "output_type": "stream",
     "text": [
      "The eigenvalues of the normalized data are the following: \n",
      "[ 4.11513388e-01 -1.91173694e-17  1.91994564e-03]\n",
      "The eigenvectors of the normalized data are the following: \n",
      "[[-0.75627955  0.55458317  0.34710048]\n",
      " [ 0.11468034  0.63468963 -0.76421037]\n",
      " [ 0.64411929  0.53815108  0.54360258]]\n"
     ]
    }
   ],
   "source": [
    "values, vectors = eig(cov_matrix)\n",
    "print(\"The eigenvalues of the normalized data are the following: \")\n",
    "print(values)\n",
    "print(\"The eigenvectors of the normalized data are the following: \")\n",
    "print(vectors)"
   ]
  },
  {
   "cell_type": "code",
   "execution_count": 32,
   "metadata": {},
   "outputs": [],
   "source": [
    "vectors_new = vectors[:2,:]"
   ]
  },
  {
   "cell_type": "code",
   "execution_count": 36,
   "metadata": {},
   "outputs": [
    {
     "data": {
      "text/plain": [
       "array([[-0.84083531,  0.22953915, -0.07461692],\n",
       "       [ 0.1535865 , -0.44874677, -0.36776729]])"
      ]
     },
     "execution_count": 36,
     "metadata": {},
     "output_type": "execute_result"
    }
   ],
   "source": [
    "new_data = vectors_new.dot(norm_data.T)\n",
    "new_data"
   ]
  },
  {
   "cell_type": "code",
   "execution_count": null,
   "metadata": {},
   "outputs": [],
   "source": []
  }
 ],
 "metadata": {
  "kernelspec": {
   "display_name": "Python 3.9.7 ('base')",
   "language": "python",
   "name": "python3"
  },
  "language_info": {
   "codemirror_mode": {
    "name": "ipython",
    "version": 3
   },
   "file_extension": ".py",
   "mimetype": "text/x-python",
   "name": "python",
   "nbconvert_exporter": "python",
   "pygments_lexer": "ipython3",
   "version": "3.9.7"
  },
  "orig_nbformat": 4,
  "vscode": {
   "interpreter": {
    "hash": "2f233b6cf7de8301b2daf232232a24055217c2d0b4d6cc443da5b4ba142125e6"
   }
  }
 },
 "nbformat": 4,
 "nbformat_minor": 2
}
